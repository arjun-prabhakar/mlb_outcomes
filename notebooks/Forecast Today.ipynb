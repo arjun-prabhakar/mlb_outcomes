{
 "cells": [
  {
   "cell_type": "code",
   "execution_count": 1,
   "metadata": {},
   "outputs": [],
   "source": [
    "import pandas as pd\n",
    "import numpy as np\n",
    "import matplotlib.pyplot as plt"
   ]
  },
  {
   "cell_type": "code",
   "execution_count": 2,
   "metadata": {},
   "outputs": [],
   "source": [
    "%matplotlib inline\n",
    "%load_ext autoreload\n",
    "%autoreload 2\n",
    "\n",
    "import warnings\n",
    "warnings.filterwarnings('ignore')\n",
    "warnings.simplefilter(action='ignore', category=FutureWarning)"
   ]
  },
  {
   "cell_type": "code",
   "execution_count": 3,
   "metadata": {},
   "outputs": [],
   "source": [
    "import sys\n",
    "sys.path.append('../code')\n",
    "import scrape, features\n",
    "import dataframe_utilities as util"
   ]
  },
  {
   "cell_type": "markdown",
   "metadata": {},
   "source": [
    "# Update DB & Get Today Games"
   ]
  },
  {
   "cell_type": "code",
   "execution_count": 4,
   "metadata": {},
   "outputs": [
    {
     "data": {
      "text/plain": [
       "Timestamp('2019-08-17 00:00:00')"
      ]
     },
     "execution_count": 4,
     "metadata": {},
     "output_type": "execute_result"
    }
   ],
   "source": [
    "last_day = pd.to_datetime(pd.read_csv('../data/game_summaries.csv')['date']).max()\n",
    "get_day = last_day + pd.Timedelta(days=1)\n",
    "get_day"
   ]
  },
  {
   "cell_type": "code",
   "execution_count": 5,
   "metadata": {},
   "outputs": [],
   "source": [
    "while get_day.date() < pd.datetime.today().date():\n",
    "    links = scrape.get_game_links(get_day)\n",
    "    for l in links:\n",
    "        scrape.process_link(l)\n",
    "    get_day += + pd.Timedelta(days=1)"
   ]
  },
  {
   "cell_type": "code",
   "execution_count": 6,
   "metadata": {},
   "outputs": [],
   "source": [
    "test_df = scrape.get_today_games()"
   ]
  },
  {
   "cell_type": "code",
   "execution_count": 7,
   "metadata": {},
   "outputs": [
    {
     "data": {
      "text/html": [
       "<div>\n",
       "<style scoped>\n",
       "    .dataframe tbody tr th:only-of-type {\n",
       "        vertical-align: middle;\n",
       "    }\n",
       "\n",
       "    .dataframe tbody tr th {\n",
       "        vertical-align: top;\n",
       "    }\n",
       "\n",
       "    .dataframe thead th {\n",
       "        text-align: right;\n",
       "    }\n",
       "</style>\n",
       "<table border=\"1\" class=\"dataframe\">\n",
       "  <thead>\n",
       "    <tr style=\"text-align: right;\">\n",
       "      <th></th>\n",
       "      <th>away_pitcher</th>\n",
       "      <th>away_team_abbr</th>\n",
       "      <th>home_pitcher</th>\n",
       "      <th>home_team_abbr</th>\n",
       "      <th>time</th>\n",
       "      <th>date</th>\n",
       "    </tr>\n",
       "  </thead>\n",
       "  <tbody>\n",
       "    <tr>\n",
       "      <th>0</th>\n",
       "      <td>plesaza01</td>\n",
       "      <td>CLE</td>\n",
       "      <td>paxtoja01</td>\n",
       "      <td>NYY</td>\n",
       "      <td>1:05PM</td>\n",
       "      <td>2019-08-17</td>\n",
       "    </tr>\n",
       "    <tr>\n",
       "      <th>1</th>\n",
       "      <td>lestejo01</td>\n",
       "      <td>CHC</td>\n",
       "      <td>braulst01</td>\n",
       "      <td>PIT</td>\n",
       "      <td>1:35PM</td>\n",
       "      <td>2019-08-17</td>\n",
       "    </tr>\n",
       "    <tr>\n",
       "      <th>2</th>\n",
       "      <td>mcclare01</td>\n",
       "      <td>SEA</td>\n",
       "      <td>thorntr01</td>\n",
       "      <td>TOR</td>\n",
       "      <td>3:07PM</td>\n",
       "      <td>2019-08-17</td>\n",
       "    </tr>\n",
       "    <tr>\n",
       "      <th>3</th>\n",
       "      <td>armenro01</td>\n",
       "      <td>HOU</td>\n",
       "      <td>bassich01</td>\n",
       "      <td>OAK</td>\n",
       "      <td>4:05PM</td>\n",
       "      <td>2019-08-17</td>\n",
       "    </tr>\n",
       "    <tr>\n",
       "      <th>4</th>\n",
       "      <td>zimmejo02</td>\n",
       "      <td>DET</td>\n",
       "      <td>yarbrry01</td>\n",
       "      <td>TBR</td>\n",
       "      <td>6:10PM</td>\n",
       "      <td>2019-08-17</td>\n",
       "    </tr>\n",
       "    <tr>\n",
       "      <th>5</th>\n",
       "      <td>mikolmi01</td>\n",
       "      <td>STL</td>\n",
       "      <td>desclan01</td>\n",
       "      <td>CIN</td>\n",
       "      <td>6:40PM</td>\n",
       "      <td>2019-08-17</td>\n",
       "    </tr>\n",
       "    <tr>\n",
       "      <th>6</th>\n",
       "      <td>lametdi01</td>\n",
       "      <td>SDP</td>\n",
       "      <td>eflinza01</td>\n",
       "      <td>PHI</td>\n",
       "      <td>7:05PM</td>\n",
       "      <td>2019-08-17</td>\n",
       "    </tr>\n",
       "    <tr>\n",
       "      <th>7</th>\n",
       "      <td>lylesjo01</td>\n",
       "      <td>MIL</td>\n",
       "      <td>sanchan01</td>\n",
       "      <td>WSN</td>\n",
       "      <td>7:05PM</td>\n",
       "      <td>2019-08-17</td>\n",
       "    </tr>\n",
       "    <tr>\n",
       "      <th>8</th>\n",
       "      <td>wojcias01</td>\n",
       "      <td>BAL</td>\n",
       "      <td>rodried05</td>\n",
       "      <td>BOS</td>\n",
       "      <td>7:10PM</td>\n",
       "      <td>2019-08-17</td>\n",
       "    </tr>\n",
       "    <tr>\n",
       "      <th>9</th>\n",
       "      <td>degroja01</td>\n",
       "      <td>NYM</td>\n",
       "      <td>junisja01</td>\n",
       "      <td>KCR</td>\n",
       "      <td>7:15PM</td>\n",
       "      <td>2019-08-17</td>\n",
       "    </tr>\n",
       "    <tr>\n",
       "      <th>10</th>\n",
       "      <td>ryuhy01</td>\n",
       "      <td>LAD</td>\n",
       "      <td>foltymi01</td>\n",
       "      <td>ATL</td>\n",
       "      <td>7:20PM</td>\n",
       "      <td>2019-08-17</td>\n",
       "    </tr>\n",
       "    <tr>\n",
       "      <th>11</th>\n",
       "      <td>berrijo01</td>\n",
       "      <td>MIN</td>\n",
       "      <td>juradar01</td>\n",
       "      <td>TEX</td>\n",
       "      <td>8:05PM</td>\n",
       "      <td>2019-08-17</td>\n",
       "    </tr>\n",
       "    <tr>\n",
       "      <th>12</th>\n",
       "      <td>noesihe01</td>\n",
       "      <td>MIA</td>\n",
       "      <td>marquge01</td>\n",
       "      <td>COL</td>\n",
       "      <td>8:10PM</td>\n",
       "      <td>2019-08-17</td>\n",
       "    </tr>\n",
       "    <tr>\n",
       "      <th>13</th>\n",
       "      <td></td>\n",
       "      <td>SFG</td>\n",
       "      <td>clarkta01</td>\n",
       "      <td>ARI</td>\n",
       "      <td>8:10PM</td>\n",
       "      <td>2019-08-17</td>\n",
       "    </tr>\n",
       "    <tr>\n",
       "      <th>14</th>\n",
       "      <td>santihe01</td>\n",
       "      <td>CHW</td>\n",
       "      <td>ramirno01</td>\n",
       "      <td>LAA</td>\n",
       "      <td>9:07PM</td>\n",
       "      <td>2019-08-17</td>\n",
       "    </tr>\n",
       "  </tbody>\n",
       "</table>\n",
       "</div>"
      ],
      "text/plain": [
       "   away_pitcher away_team_abbr home_pitcher home_team_abbr    time        date\n",
       "0     plesaza01            CLE    paxtoja01            NYY  1:05PM  2019-08-17\n",
       "1     lestejo01            CHC    braulst01            PIT  1:35PM  2019-08-17\n",
       "2     mcclare01            SEA    thorntr01            TOR  3:07PM  2019-08-17\n",
       "3     armenro01            HOU    bassich01            OAK  4:05PM  2019-08-17\n",
       "4     zimmejo02            DET    yarbrry01            TBR  6:10PM  2019-08-17\n",
       "5     mikolmi01            STL    desclan01            CIN  6:40PM  2019-08-17\n",
       "6     lametdi01            SDP    eflinza01            PHI  7:05PM  2019-08-17\n",
       "7     lylesjo01            MIL    sanchan01            WSN  7:05PM  2019-08-17\n",
       "8     wojcias01            BAL    rodried05            BOS  7:10PM  2019-08-17\n",
       "9     degroja01            NYM    junisja01            KCR  7:15PM  2019-08-17\n",
       "10      ryuhy01            LAD    foltymi01            ATL  7:20PM  2019-08-17\n",
       "11    berrijo01            MIN    juradar01            TEX  8:05PM  2019-08-17\n",
       "12    noesihe01            MIA    marquge01            COL  8:10PM  2019-08-17\n",
       "13                         SFG    clarkta01            ARI  8:10PM  2019-08-17\n",
       "14    santihe01            CHW    ramirno01            LAA  9:07PM  2019-08-17"
      ]
     },
     "execution_count": 7,
     "metadata": {},
     "output_type": "execute_result"
    }
   ],
   "source": [
    "test_df"
   ]
  },
  {
   "cell_type": "markdown",
   "metadata": {},
   "source": [
    "# Process Stats for Today's Games"
   ]
  },
  {
   "cell_type": "markdown",
   "metadata": {},
   "source": [
    "## Merge test and train dfs"
   ]
  },
  {
   "cell_type": "code",
   "execution_count": 8,
   "metadata": {},
   "outputs": [],
   "source": [
    "test_df['is_night_game'] = True\n",
    "test_df['is_night_game'][test_df['time'].str[:1].astype('int')<5] = False\n",
    "test_df['is_night_game'][test_df['time'].str[1:2].isin(['0','1'])] = True #for 10,11 PM games\n",
    "test_df.drop(columns='time', inplace=True)"
   ]
  },
  {
   "cell_type": "code",
   "execution_count": 9,
   "metadata": {},
   "outputs": [
    {
     "data": {
      "text/plain": [
       "(15, 9)"
      ]
     },
     "execution_count": 9,
     "metadata": {},
     "output_type": "execute_result"
    }
   ],
   "source": [
    "test_df['is_test'] = True\n",
    "test_df['home_team_win']=np.nan\n",
    "test_df['game_id'] = test_df.home_team_abbr + test_df.date.astype('str').str.replace('-','') + '0'\n",
    "test_df.shape"
   ]
  },
  {
   "cell_type": "code",
   "execution_count": 10,
   "metadata": {},
   "outputs": [
    {
     "data": {
      "text/plain": [
       "(24049, 9)"
      ]
     },
     "execution_count": 10,
     "metadata": {},
     "output_type": "execute_result"
    }
   ],
   "source": [
    "df = features.get_game_df()\n",
    "df['is_test'] = False\n",
    "df.shape"
   ]
  },
  {
   "cell_type": "code",
   "execution_count": 11,
   "metadata": {},
   "outputs": [
    {
     "data": {
      "text/plain": [
       "(24064, 9)"
      ]
     },
     "execution_count": 11,
     "metadata": {},
     "output_type": "execute_result"
    }
   ],
   "source": [
    "df = pd.concat([df,test_df])\n",
    "df = df.sort_values(by='date').reset_index(drop=True)\n",
    "df.shape"
   ]
  },
  {
   "cell_type": "markdown",
   "metadata": {},
   "source": [
    "## Add Features"
   ]
  },
  {
   "cell_type": "code",
   "execution_count": 12,
   "metadata": {},
   "outputs": [
    {
     "data": {
      "text/plain": [
       "(24064, 18)"
      ]
     },
     "execution_count": 12,
     "metadata": {},
     "output_type": "execute_result"
    }
   ],
   "source": [
    "df = features.add_trueskill_ratings(df)\n",
    "df = features.add_rest_durations(df)\n",
    "df.shape"
   ]
  },
  {
   "cell_type": "code",
   "execution_count": 13,
   "metadata": {},
   "outputs": [],
   "source": [
    "#datetime\n",
    "date = pd.to_datetime(df['date'])\n",
    "df['season'] = date.dt.year\n",
    "df['month']=date.dt.month\n",
    "df['week_num'] = date.dt.week\n",
    "df['dow']=date.dt.weekday.astype('int')"
   ]
  },
  {
   "cell_type": "code",
   "execution_count": 14,
   "metadata": {},
   "outputs": [],
   "source": [
    "df['dh_game_no'] = pd.to_numeric(df['game_id'].str[-1:],errors='coerce')\n",
    "df['date'] = (pd.to_datetime(df['date']) - pd.Timestamp(\"1970-01-01\")) // pd.Timedelta('1s') #epoch time"
   ]
  },
  {
   "cell_type": "markdown",
   "metadata": {},
   "source": [
    "### Add Stats"
   ]
  },
  {
   "cell_type": "code",
   "execution_count": 15,
   "metadata": {},
   "outputs": [],
   "source": [
    "games = features.get_games()\n",
    "batting = features.get_batting()\n",
    "pitching = features.get_pitching()\n",
    "pitchers = features.get_pitchers()"
   ]
  },
  {
   "cell_type": "markdown",
   "metadata": {},
   "source": [
    "#### Rolling 10 Day Stats"
   ]
  },
  {
   "cell_type": "code",
   "execution_count": 16,
   "metadata": {},
   "outputs": [],
   "source": [
    "b_stats = ['batting_avg','leverage_index_avg', 'onbase_perc', 'onbase_plus_slugging']\n",
    "df = features.add_10RA_rolling(batting, df, b_stats, True, 'batting')"
   ]
  },
  {
   "cell_type": "code",
   "execution_count": 17,
   "metadata": {},
   "outputs": [],
   "source": [
    "pitching['SO_batters_faced'] = pitching['SO'] / pitching['batters_faced']\n",
    "pitching['H_batters_faced'] = pitching['H'] / pitching['batters_faced']\n",
    "pitching['BB_batters_faced'] = pitching['BB'] / pitching['batters_faced']\n",
    "\n",
    "# create rolling stat\n",
    "b_stats = ['earned_run_avg','SO_batters_faced','H_batters_faced','BB_batters_faced']\n",
    "df = features.add_10RA_rolling(pitching, df, b_stats, True, 'team_pitching')"
   ]
  },
  {
   "cell_type": "code",
   "execution_count": 18,
   "metadata": {},
   "outputs": [],
   "source": [
    "pitchers['SO_batters_faced'] = pitchers['SO'] / pitchers['batters_faced']\n",
    "pitchers['H_batters_faced'] = pitchers['H'] / pitchers['batters_faced']\n",
    "pitchers['BB_batters_faced'] = pitchers['BB'] / pitchers['batters_faced']\n",
    "\n",
    "# create rolling stat\n",
    "b_stats = ['earned_run_avg','SO_batters_faced','H_batters_faced','BB_batters_faced']\n",
    "df = features.add_10RA_rolling(pitchers, df, b_stats, False, 'pitcher')"
   ]
  },
  {
   "cell_type": "markdown",
   "metadata": {},
   "source": [
    "#### Games Stats"
   ]
  },
  {
   "cell_type": "code",
   "execution_count": 19,
   "metadata": {
    "scrolled": true
   },
   "outputs": [],
   "source": [
    "df = features.game_stats(games,df)"
   ]
  },
  {
   "cell_type": "code",
   "execution_count": 20,
   "metadata": {
    "scrolled": true
   },
   "outputs": [
    {
     "data": {
      "text/plain": [
       "(24064, 75)"
      ]
     },
     "execution_count": 20,
     "metadata": {},
     "output_type": "execute_result"
    }
   ],
   "source": [
    "df.shape"
   ]
  },
  {
   "cell_type": "markdown",
   "metadata": {},
   "source": [
    "#### Season Stats"
   ]
  },
  {
   "cell_type": "code",
   "execution_count": 21,
   "metadata": {},
   "outputs": [
    {
     "data": {
      "text/plain": [
       "(24064, 215)"
      ]
     },
     "execution_count": 21,
     "metadata": {},
     "output_type": "execute_result"
    }
   ],
   "source": [
    "batting_stats = ['A', 'AB', 'BB', 'H', 'PA', 'PO', 'R', 'RBI', 'SO', 'batting_avg',\n",
    "             'leverage_index_avg', 'onbase_perc', 'onbase_plus_slugging', 'pitches', \n",
    "             're24_bat', 'slugging_perc', 'strikes_total', 'wpa_bat', 'wpa_bat_neg', \n",
    "             'wpa_bat_pos']\n",
    "df = features.add_season_rolling(batting, df, batting_stats, True,'batting')\n",
    "df.shape"
   ]
  },
  {
   "cell_type": "code",
   "execution_count": 22,
   "metadata": {},
   "outputs": [
    {
     "data": {
      "text/plain": [
       "(24064, 404)"
      ]
     },
     "execution_count": 22,
     "metadata": {},
     "output_type": "execute_result"
    }
   ],
   "source": [
    "pitching_stats = ['BB', 'ER', 'H', 'HR', 'IP', 'R', 'SO', 'batters_faced',\n",
    "               'earned_run_avg', 'game_score', 'inherited_runners',\n",
    "               'inherited_score', 'inplay_fb_total', 'inplay_gb_total', 'inplay_ld',\n",
    "               'inplay_unk', 'leverage_index_avg', 'pitches', 're24_def',\n",
    "               'strikes_contact', 'strikes_looking', 'strikes_swinging',\n",
    "               'strikes_total', 'wpa_def','SO_batters_faced','H_batters_faced',\n",
    "                'BB_batters_faced']\n",
    "df = features.add_season_rolling(pitching, df, pitching_stats, True,'team_pitching')\n",
    "df.shape"
   ]
  },
  {
   "cell_type": "code",
   "execution_count": 23,
   "metadata": {},
   "outputs": [
    {
     "data": {
      "text/plain": [
       "(24064, 593)"
      ]
     },
     "execution_count": 23,
     "metadata": {},
     "output_type": "execute_result"
    }
   ],
   "source": [
    "df = features.add_season_rolling(pitchers, df, pitching_stats, False,'pitcher')\n",
    "df.shape"
   ]
  },
  {
   "cell_type": "markdown",
   "metadata": {},
   "source": [
    "## Cleanup"
   ]
  },
  {
   "cell_type": "code",
   "execution_count": 24,
   "metadata": {},
   "outputs": [],
   "source": [
    "df = util.fix_na(df, False)"
   ]
  },
  {
   "cell_type": "markdown",
   "metadata": {},
   "source": [
    "# Generate Predictions"
   ]
  },
  {
   "cell_type": "code",
   "execution_count": 25,
   "metadata": {},
   "outputs": [],
   "source": [
    "X_test = df[df.is_test].drop(columns=['is_test'])\n",
    "cols = pd.read_csv(\"../data/df_w_features.csv\").columns\n",
    "X_test = X_test[cols]\n",
    "\n",
    "X_test.drop(columns=['home_team_win','game_id'], inplace=True)"
   ]
  },
  {
   "cell_type": "code",
   "execution_count": 26,
   "metadata": {},
   "outputs": [
    {
     "data": {
      "text/plain": [
       "(CatBoostEncoder(cols=['home_team_abbr', 'away_team_abbr', 'home_pitcher', 'away_pitcher', 'home_team_season', 'away_team_season'],\n",
       "         drop_invariant=False, handle_missing='value',\n",
       "         handle_unknown='value', random_state=13, return_df=True,\n",
       "         sigma=None, verbose=0),\n",
       " XGBClassifier(base_score=0.5, booster='gbtree', colsample_bylevel=1,\n",
       "        colsample_bytree=0.3, gamma=0, learning_rate=0.01, max_delta_step=0,\n",
       "        max_depth=21, min_child_weight=3.0, missing=nan, n_estimators=100,\n",
       "        n_jobs=1, nthread=None, num_boost_round=100,\n",
       "        objective='binary:logistic', random_state=13, reg_alpha=61.3512,\n",
       "        reg_lambda=1, scale_pos_weight=1, seed=None, silent=True,\n",
       "        subsample=1.0))"
      ]
     },
     "execution_count": 26,
     "metadata": {},
     "output_type": "execute_result"
    }
   ],
   "source": [
    "import pickle\n",
    "encoder, model = pickle.load(open('../data/encoder_model.pk','rb'))\n",
    "encoder, model"
   ]
  },
  {
   "cell_type": "code",
   "execution_count": 27,
   "metadata": {},
   "outputs": [
    {
     "data": {
      "text/html": [
       "<div>\n",
       "<style scoped>\n",
       "    .dataframe tbody tr th:only-of-type {\n",
       "        vertical-align: middle;\n",
       "    }\n",
       "\n",
       "    .dataframe tbody tr th {\n",
       "        vertical-align: top;\n",
       "    }\n",
       "\n",
       "    .dataframe thead th {\n",
       "        text-align: right;\n",
       "    }\n",
       "</style>\n",
       "<table border=\"1\" class=\"dataframe\">\n",
       "  <thead>\n",
       "    <tr style=\"text-align: right;\">\n",
       "      <th></th>\n",
       "      <th>away_pitcher</th>\n",
       "      <th>away_team_abbr</th>\n",
       "      <th>home_pitcher</th>\n",
       "      <th>home_team_abbr</th>\n",
       "      <th>xgb_winner</th>\n",
       "      <th>xgb_probability</th>\n",
       "    </tr>\n",
       "  </thead>\n",
       "  <tbody>\n",
       "    <tr>\n",
       "      <th>0</th>\n",
       "      <td>plesaza01</td>\n",
       "      <td>CLE</td>\n",
       "      <td>paxtoja01</td>\n",
       "      <td>NYY</td>\n",
       "      <td>CLE</td>\n",
       "      <td>0.491180</td>\n",
       "    </tr>\n",
       "    <tr>\n",
       "      <th>1</th>\n",
       "      <td>lestejo01</td>\n",
       "      <td>CHC</td>\n",
       "      <td>braulst01</td>\n",
       "      <td>PIT</td>\n",
       "      <td>PIT</td>\n",
       "      <td>0.510151</td>\n",
       "    </tr>\n",
       "    <tr>\n",
       "      <th>2</th>\n",
       "      <td>mcclare01</td>\n",
       "      <td>SEA</td>\n",
       "      <td>thorntr01</td>\n",
       "      <td>TOR</td>\n",
       "      <td>SEA</td>\n",
       "      <td>0.489737</td>\n",
       "    </tr>\n",
       "    <tr>\n",
       "      <th>3</th>\n",
       "      <td>armenro01</td>\n",
       "      <td>HOU</td>\n",
       "      <td>bassich01</td>\n",
       "      <td>OAK</td>\n",
       "      <td>OAK</td>\n",
       "      <td>0.503884</td>\n",
       "    </tr>\n",
       "    <tr>\n",
       "      <th>4</th>\n",
       "      <td>zimmejo02</td>\n",
       "      <td>DET</td>\n",
       "      <td>yarbrry01</td>\n",
       "      <td>TBR</td>\n",
       "      <td>TBR</td>\n",
       "      <td>0.504237</td>\n",
       "    </tr>\n",
       "    <tr>\n",
       "      <th>5</th>\n",
       "      <td>mikolmi01</td>\n",
       "      <td>STL</td>\n",
       "      <td>desclan01</td>\n",
       "      <td>CIN</td>\n",
       "      <td>CIN</td>\n",
       "      <td>0.504627</td>\n",
       "    </tr>\n",
       "    <tr>\n",
       "      <th>6</th>\n",
       "      <td>lametdi01</td>\n",
       "      <td>SDP</td>\n",
       "      <td>eflinza01</td>\n",
       "      <td>PHI</td>\n",
       "      <td>SDP</td>\n",
       "      <td>0.499967</td>\n",
       "    </tr>\n",
       "    <tr>\n",
       "      <th>7</th>\n",
       "      <td>lylesjo01</td>\n",
       "      <td>MIL</td>\n",
       "      <td>sanchan01</td>\n",
       "      <td>WSN</td>\n",
       "      <td>MIL</td>\n",
       "      <td>0.491257</td>\n",
       "    </tr>\n",
       "    <tr>\n",
       "      <th>8</th>\n",
       "      <td>wojcias01</td>\n",
       "      <td>BAL</td>\n",
       "      <td>rodried05</td>\n",
       "      <td>BOS</td>\n",
       "      <td>BAL</td>\n",
       "      <td>0.498448</td>\n",
       "    </tr>\n",
       "    <tr>\n",
       "      <th>9</th>\n",
       "      <td>degroja01</td>\n",
       "      <td>NYM</td>\n",
       "      <td>junisja01</td>\n",
       "      <td>KCR</td>\n",
       "      <td>KCR</td>\n",
       "      <td>0.509547</td>\n",
       "    </tr>\n",
       "    <tr>\n",
       "      <th>10</th>\n",
       "      <td>ryuhy01</td>\n",
       "      <td>LAD</td>\n",
       "      <td>foltymi01</td>\n",
       "      <td>ATL</td>\n",
       "      <td>ATL</td>\n",
       "      <td>0.500373</td>\n",
       "    </tr>\n",
       "    <tr>\n",
       "      <th>11</th>\n",
       "      <td>berrijo01</td>\n",
       "      <td>MIN</td>\n",
       "      <td>juradar01</td>\n",
       "      <td>TEX</td>\n",
       "      <td>TEX</td>\n",
       "      <td>0.511075</td>\n",
       "    </tr>\n",
       "    <tr>\n",
       "      <th>12</th>\n",
       "      <td>noesihe01</td>\n",
       "      <td>MIA</td>\n",
       "      <td>marquge01</td>\n",
       "      <td>COL</td>\n",
       "      <td>COL</td>\n",
       "      <td>0.511165</td>\n",
       "    </tr>\n",
       "    <tr>\n",
       "      <th>13</th>\n",
       "      <td></td>\n",
       "      <td>SFG</td>\n",
       "      <td>clarkta01</td>\n",
       "      <td>ARI</td>\n",
       "      <td>ARI</td>\n",
       "      <td>0.508255</td>\n",
       "    </tr>\n",
       "    <tr>\n",
       "      <th>14</th>\n",
       "      <td>santihe01</td>\n",
       "      <td>CHW</td>\n",
       "      <td>ramirno01</td>\n",
       "      <td>LAA</td>\n",
       "      <td>LAA</td>\n",
       "      <td>0.511075</td>\n",
       "    </tr>\n",
       "  </tbody>\n",
       "</table>\n",
       "</div>"
      ],
      "text/plain": [
       "   away_pitcher away_team_abbr home_pitcher home_team_abbr xgb_winner  \\\n",
       "0     plesaza01            CLE    paxtoja01            NYY        CLE   \n",
       "1     lestejo01            CHC    braulst01            PIT        PIT   \n",
       "2     mcclare01            SEA    thorntr01            TOR        SEA   \n",
       "3     armenro01            HOU    bassich01            OAK        OAK   \n",
       "4     zimmejo02            DET    yarbrry01            TBR        TBR   \n",
       "5     mikolmi01            STL    desclan01            CIN        CIN   \n",
       "6     lametdi01            SDP    eflinza01            PHI        SDP   \n",
       "7     lylesjo01            MIL    sanchan01            WSN        MIL   \n",
       "8     wojcias01            BAL    rodried05            BOS        BAL   \n",
       "9     degroja01            NYM    junisja01            KCR        KCR   \n",
       "10      ryuhy01            LAD    foltymi01            ATL        ATL   \n",
       "11    berrijo01            MIN    juradar01            TEX        TEX   \n",
       "12    noesihe01            MIA    marquge01            COL        COL   \n",
       "13                         SFG    clarkta01            ARI        ARI   \n",
       "14    santihe01            CHW    ramirno01            LAA        LAA   \n",
       "\n",
       "    xgb_probability  \n",
       "0          0.491180  \n",
       "1          0.510151  \n",
       "2          0.489737  \n",
       "3          0.503884  \n",
       "4          0.504237  \n",
       "5          0.504627  \n",
       "6          0.499967  \n",
       "7          0.491257  \n",
       "8          0.498448  \n",
       "9          0.509547  \n",
       "10         0.500373  \n",
       "11         0.511075  \n",
       "12         0.511165  \n",
       "13         0.508255  \n",
       "14         0.511075  "
      ]
     },
     "execution_count": 27,
     "metadata": {},
     "output_type": "execute_result"
    }
   ],
   "source": [
    "X_test = encoder.transform(X_test)\n",
    "\n",
    "pred_df = test_df[['away_pitcher', 'away_team_abbr', 'home_pitcher', 'home_team_abbr']]\n",
    "pred_df['xgb_winner']=pred_df.home_team_abbr\n",
    "pred_df['xgb_winner'][~model.predict(X_test)]=pred_df.away_team_abbr\n",
    "pred_df['xgb_probability']= model.predict_proba(X_test)[:,1]\n",
    "\n",
    "pred_df"
   ]
  },
  {
   "cell_type": "code",
   "execution_count": null,
   "metadata": {},
   "outputs": [],
   "source": []
  }
 ],
 "metadata": {
  "kernelspec": {
   "display_name": "Python 3",
   "language": "python",
   "name": "python3"
  },
  "language_info": {
   "codemirror_mode": {
    "name": "ipython",
    "version": 3
   },
   "file_extension": ".py",
   "mimetype": "text/x-python",
   "name": "python",
   "nbconvert_exporter": "python",
   "pygments_lexer": "ipython3",
   "version": "3.6.8"
  },
  "toc": {
   "base_numbering": 1,
   "nav_menu": {},
   "number_sections": true,
   "sideBar": true,
   "skip_h1_title": false,
   "title_cell": "Table of Contents",
   "title_sidebar": "Contents",
   "toc_cell": false,
   "toc_position": {},
   "toc_section_display": true,
   "toc_window_display": true
  }
 },
 "nbformat": 4,
 "nbformat_minor": 2
}
