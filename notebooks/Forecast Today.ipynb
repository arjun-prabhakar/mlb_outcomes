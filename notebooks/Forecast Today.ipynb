{
 "cells": [
  {
   "cell_type": "code",
   "execution_count": 1,
   "metadata": {},
   "outputs": [],
   "source": [
    "import pandas as pd\n",
    "import numpy as np\n",
    "import matplotlib.pyplot as plt"
   ]
  },
  {
   "cell_type": "code",
   "execution_count": 2,
   "metadata": {},
   "outputs": [],
   "source": [
    "%matplotlib inline\n",
    "%load_ext autoreload\n",
    "%autoreload 2\n",
    "\n",
    "import warnings\n",
    "warnings.filterwarnings('ignore')\n",
    "warnings.simplefilter(action='ignore', category=FutureWarning)"
   ]
  },
  {
   "cell_type": "code",
   "execution_count": 3,
   "metadata": {},
   "outputs": [],
   "source": [
    "import sys\n",
    "sys.path.append('../code')\n",
    "import scrape"
   ]
  },
  {
   "cell_type": "markdown",
   "metadata": {},
   "source": [
    "# Update DB & Get Today Games"
   ]
  },
  {
   "cell_type": "code",
   "execution_count": 4,
   "metadata": {},
   "outputs": [
    {
     "data": {
      "text/plain": [
       "Timestamp('2019-08-17 00:00:00')"
      ]
     },
     "execution_count": 4,
     "metadata": {},
     "output_type": "execute_result"
    }
   ],
   "source": [
    "last_day = pd.to_datetime(pd.read_csv('../data/game_summaries.csv')['date']).max()\n",
    "get_day = last_day + pd.Timedelta(days=1)\n",
    "get_day"
   ]
  },
  {
   "cell_type": "code",
   "execution_count": 5,
   "metadata": {},
   "outputs": [],
   "source": [
    "while get_day.date() < pd.datetime.today().date():\n",
    "    links = scrape.get_game_links(get_day)\n",
    "    for l in links:\n",
    "        scrape.process_link(l)\n",
    "    get_day += + pd.Timedelta(days=1)"
   ]
  },
  {
   "cell_type": "code",
   "execution_count": 10,
   "metadata": {},
   "outputs": [
    {
     "data": {
      "text/html": [
       "<div>\n",
       "<style scoped>\n",
       "    .dataframe tbody tr th:only-of-type {\n",
       "        vertical-align: middle;\n",
       "    }\n",
       "\n",
       "    .dataframe tbody tr th {\n",
       "        vertical-align: top;\n",
       "    }\n",
       "\n",
       "    .dataframe thead th {\n",
       "        text-align: right;\n",
       "    }\n",
       "</style>\n",
       "<table border=\"1\" class=\"dataframe\">\n",
       "  <thead>\n",
       "    <tr style=\"text-align: right;\">\n",
       "      <th></th>\n",
       "      <th>away_pitcher</th>\n",
       "      <th>away_team_abbr</th>\n",
       "      <th>home_pitcher</th>\n",
       "      <th>home_team_abbr</th>\n",
       "      <th>time</th>\n",
       "      <th>date</th>\n",
       "    </tr>\n",
       "  </thead>\n",
       "  <tbody>\n",
       "    <tr>\n",
       "      <th>0</th>\n",
       "      <td>plesaza01</td>\n",
       "      <td>CLE</td>\n",
       "      <td>paxtoja01</td>\n",
       "      <td>NYY</td>\n",
       "      <td>1:05PM</td>\n",
       "      <td>2019-08-17</td>\n",
       "    </tr>\n",
       "    <tr>\n",
       "      <th>1</th>\n",
       "      <td>lestejo01</td>\n",
       "      <td>CHC</td>\n",
       "      <td>braulst01</td>\n",
       "      <td>PIT</td>\n",
       "      <td>1:35PM</td>\n",
       "      <td>2019-08-17</td>\n",
       "    </tr>\n",
       "    <tr>\n",
       "      <th>2</th>\n",
       "      <td>mcclare01</td>\n",
       "      <td>SEA</td>\n",
       "      <td>thorntr01</td>\n",
       "      <td>TOR</td>\n",
       "      <td>3:07PM</td>\n",
       "      <td>2019-08-17</td>\n",
       "    </tr>\n",
       "    <tr>\n",
       "      <th>3</th>\n",
       "      <td>armenro01</td>\n",
       "      <td>HOU</td>\n",
       "      <td>bassich01</td>\n",
       "      <td>OAK</td>\n",
       "      <td>4:05PM</td>\n",
       "      <td>2019-08-17</td>\n",
       "    </tr>\n",
       "    <tr>\n",
       "      <th>4</th>\n",
       "      <td>zimmejo02</td>\n",
       "      <td>DET</td>\n",
       "      <td>yarbrry01</td>\n",
       "      <td>TBR</td>\n",
       "      <td>6:10PM</td>\n",
       "      <td>2019-08-17</td>\n",
       "    </tr>\n",
       "    <tr>\n",
       "      <th>5</th>\n",
       "      <td>mikolmi01</td>\n",
       "      <td>STL</td>\n",
       "      <td>desclan01</td>\n",
       "      <td>CIN</td>\n",
       "      <td>6:40PM</td>\n",
       "      <td>2019-08-17</td>\n",
       "    </tr>\n",
       "    <tr>\n",
       "      <th>6</th>\n",
       "      <td>lametdi01</td>\n",
       "      <td>SDP</td>\n",
       "      <td>eflinza01</td>\n",
       "      <td>PHI</td>\n",
       "      <td>7:05PM</td>\n",
       "      <td>2019-08-17</td>\n",
       "    </tr>\n",
       "    <tr>\n",
       "      <th>7</th>\n",
       "      <td>lylesjo01</td>\n",
       "      <td>MIL</td>\n",
       "      <td>sanchan01</td>\n",
       "      <td>WSN</td>\n",
       "      <td>7:05PM</td>\n",
       "      <td>2019-08-17</td>\n",
       "    </tr>\n",
       "    <tr>\n",
       "      <th>8</th>\n",
       "      <td>wojcias01</td>\n",
       "      <td>BAL</td>\n",
       "      <td>rodried05</td>\n",
       "      <td>BOS</td>\n",
       "      <td>7:10PM</td>\n",
       "      <td>2019-08-17</td>\n",
       "    </tr>\n",
       "    <tr>\n",
       "      <th>9</th>\n",
       "      <td>degroja01</td>\n",
       "      <td>NYM</td>\n",
       "      <td>junisja01</td>\n",
       "      <td>KCR</td>\n",
       "      <td>7:15PM</td>\n",
       "      <td>2019-08-17</td>\n",
       "    </tr>\n",
       "    <tr>\n",
       "      <th>10</th>\n",
       "      <td>ryuhy01</td>\n",
       "      <td>LAD</td>\n",
       "      <td>foltymi01</td>\n",
       "      <td>ATL</td>\n",
       "      <td>7:20PM</td>\n",
       "      <td>2019-08-17</td>\n",
       "    </tr>\n",
       "    <tr>\n",
       "      <th>11</th>\n",
       "      <td>berrijo01</td>\n",
       "      <td>MIN</td>\n",
       "      <td>juradar01</td>\n",
       "      <td>TEX</td>\n",
       "      <td>8:05PM</td>\n",
       "      <td>2019-08-17</td>\n",
       "    </tr>\n",
       "    <tr>\n",
       "      <th>12</th>\n",
       "      <td>noesihe01</td>\n",
       "      <td>MIA</td>\n",
       "      <td>marquge01</td>\n",
       "      <td>COL</td>\n",
       "      <td>8:10PM</td>\n",
       "      <td>2019-08-17</td>\n",
       "    </tr>\n",
       "    <tr>\n",
       "      <th>13</th>\n",
       "      <td></td>\n",
       "      <td>SFG</td>\n",
       "      <td>clarkta01</td>\n",
       "      <td>ARI</td>\n",
       "      <td>8:10PM</td>\n",
       "      <td>2019-08-17</td>\n",
       "    </tr>\n",
       "    <tr>\n",
       "      <th>14</th>\n",
       "      <td>santihe01</td>\n",
       "      <td>CHW</td>\n",
       "      <td>suarejo01</td>\n",
       "      <td>LAA</td>\n",
       "      <td>9:07PM</td>\n",
       "      <td>2019-08-17</td>\n",
       "    </tr>\n",
       "  </tbody>\n",
       "</table>\n",
       "</div>"
      ],
      "text/plain": [
       "   away_pitcher away_team_abbr home_pitcher home_team_abbr    time        date\n",
       "0     plesaza01            CLE    paxtoja01            NYY  1:05PM  2019-08-17\n",
       "1     lestejo01            CHC    braulst01            PIT  1:35PM  2019-08-17\n",
       "2     mcclare01            SEA    thorntr01            TOR  3:07PM  2019-08-17\n",
       "3     armenro01            HOU    bassich01            OAK  4:05PM  2019-08-17\n",
       "4     zimmejo02            DET    yarbrry01            TBR  6:10PM  2019-08-17\n",
       "5     mikolmi01            STL    desclan01            CIN  6:40PM  2019-08-17\n",
       "6     lametdi01            SDP    eflinza01            PHI  7:05PM  2019-08-17\n",
       "7     lylesjo01            MIL    sanchan01            WSN  7:05PM  2019-08-17\n",
       "8     wojcias01            BAL    rodried05            BOS  7:10PM  2019-08-17\n",
       "9     degroja01            NYM    junisja01            KCR  7:15PM  2019-08-17\n",
       "10      ryuhy01            LAD    foltymi01            ATL  7:20PM  2019-08-17\n",
       "11    berrijo01            MIN    juradar01            TEX  8:05PM  2019-08-17\n",
       "12    noesihe01            MIA    marquge01            COL  8:10PM  2019-08-17\n",
       "13                         SFG    clarkta01            ARI  8:10PM  2019-08-17\n",
       "14    santihe01            CHW    suarejo01            LAA  9:07PM  2019-08-17"
      ]
     },
     "execution_count": 10,
     "metadata": {},
     "output_type": "execute_result"
    }
   ],
   "source": [
    "test_df = scrape.get_today_games()"
   ]
  },
  {
   "cell_type": "markdown",
   "metadata": {},
   "source": [
    "# Process Stats for Today's Games"
   ]
  },
  {
   "cell_type": "code",
   "execution_count": 8,
   "metadata": {},
   "outputs": [],
   "source": [
    "test_df['is_night_game'] = True\n",
    "test_df['is_night_game'][test_df['time'].str[:1].astype('int')<5] = False\n",
    "test_df.drop(columns='time', inplace=True)"
   ]
  },
  {
   "cell_type": "code",
   "execution_count": 9,
   "metadata": {},
   "outputs": [],
   "source": [
    "test_df['is_test'] = True"
   ]
  },
  {
   "cell_type": "code",
   "execution_count": null,
   "metadata": {},
   "outputs": [],
   "source": []
  },
  {
   "cell_type": "code",
   "execution_count": null,
   "metadata": {},
   "outputs": [],
   "source": []
  },
  {
   "cell_type": "markdown",
   "metadata": {},
   "source": [
    "# Generate Predictions"
   ]
  },
  {
   "cell_type": "code",
   "execution_count": null,
   "metadata": {},
   "outputs": [],
   "source": []
  }
 ],
 "metadata": {
  "kernelspec": {
   "display_name": "Python 3",
   "language": "python",
   "name": "python3"
  },
  "language_info": {
   "codemirror_mode": {
    "name": "ipython",
    "version": 3
   },
   "file_extension": ".py",
   "mimetype": "text/x-python",
   "name": "python",
   "nbconvert_exporter": "python",
   "pygments_lexer": "ipython3",
   "version": "3.6.8"
  },
  "toc": {
   "base_numbering": 1,
   "nav_menu": {},
   "number_sections": true,
   "sideBar": true,
   "skip_h1_title": false,
   "title_cell": "Table of Contents",
   "title_sidebar": "Contents",
   "toc_cell": false,
   "toc_position": {},
   "toc_section_display": true,
   "toc_window_display": false
  }
 },
 "nbformat": 4,
 "nbformat_minor": 2
}
