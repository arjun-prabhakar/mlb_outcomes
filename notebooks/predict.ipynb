{
 "cells": [
  {
   "cell_type": "code",
   "execution_count": 1,
   "metadata": {},
   "outputs": [],
   "source": [
    "import pandas as pd\n",
    "import numpy as np\n",
    "import matplotlib.pyplot as plt"
   ]
  },
  {
   "cell_type": "code",
   "execution_count": 2,
   "metadata": {},
   "outputs": [],
   "source": [
    "%matplotlib inline\n",
    "%load_ext autoreload\n",
    "%autoreload 2\n",
    "\n",
    "import warnings\n",
    "warnings.filterwarnings('ignore')\n",
    "warnings.simplefilter(action='ignore', category=FutureWarning)"
   ]
  },
  {
   "cell_type": "code",
   "execution_count": 3,
   "metadata": {},
   "outputs": [],
   "source": [
    "import sys\n",
    "sys.path.append('../code')\n",
    "import scrape, features\n",
    "import dataframe_utilities as util"
   ]
  },
  {
   "cell_type": "markdown",
   "metadata": {},
   "source": [
    "# Update DB & Get Today Games"
   ]
  },
  {
   "cell_type": "code",
   "execution_count": 4,
   "metadata": {},
   "outputs": [
    {
     "data": {
      "text/plain": [
       "Timestamp('2019-08-25 00:00:00')"
      ]
     },
     "execution_count": 4,
     "metadata": {},
     "output_type": "execute_result"
    }
   ],
   "source": [
    "last_day = pd.to_datetime(pd.read_csv('../data/game_summaries.csv')['date']).max()\n",
    "get_day = last_day + pd.Timedelta(days=1)\n",
    "get_day"
   ]
  },
  {
   "cell_type": "code",
   "execution_count": 5,
   "metadata": {},
   "outputs": [],
   "source": [
    "while get_day.date() < pd.datetime.today().date():\n",
    "    links = scrape.get_game_links(get_day)\n",
    "    for l in links:\n",
    "        scrape.process_link(l)\n",
    "    get_day += + pd.Timedelta(days=1)"
   ]
  },
  {
   "cell_type": "code",
   "execution_count": 6,
   "metadata": {},
   "outputs": [],
   "source": [
    "test_df = scrape.get_today_games()"
   ]
  },
  {
   "cell_type": "code",
   "execution_count": 7,
   "metadata": {},
   "outputs": [
    {
     "data": {
      "text/html": [
       "<div>\n",
       "<style scoped>\n",
       "    .dataframe tbody tr th:only-of-type {\n",
       "        vertical-align: middle;\n",
       "    }\n",
       "\n",
       "    .dataframe tbody tr th {\n",
       "        vertical-align: top;\n",
       "    }\n",
       "\n",
       "    .dataframe thead th {\n",
       "        text-align: right;\n",
       "    }\n",
       "</style>\n",
       "<table border=\"1\" class=\"dataframe\">\n",
       "  <thead>\n",
       "    <tr style=\"text-align: right;\">\n",
       "      <th></th>\n",
       "      <th>away_pitcher</th>\n",
       "      <th>away_team_abbr</th>\n",
       "      <th>home_pitcher</th>\n",
       "      <th>home_team_abbr</th>\n",
       "      <th>time</th>\n",
       "      <th>date</th>\n",
       "    </tr>\n",
       "  </thead>\n",
       "  <tbody>\n",
       "    <tr>\n",
       "      <th>0</th>\n",
       "      <td>castidi01</td>\n",
       "      <td>TBR</td>\n",
       "      <td>bundydy01</td>\n",
       "      <td>BAL</td>\n",
       "      <td>1:05PM</td>\n",
       "      <td>2019-08-25</td>\n",
       "    </tr>\n",
       "    <tr>\n",
       "      <th>1</th>\n",
       "      <td>keuchda01</td>\n",
       "      <td>ATL</td>\n",
       "      <td>matzst01</td>\n",
       "      <td>NYM</td>\n",
       "      <td>1:10PM</td>\n",
       "      <td>2019-08-25</td>\n",
       "    </tr>\n",
       "    <tr>\n",
       "      <th>2</th>\n",
       "      <td>skogler01</td>\n",
       "      <td>KCR</td>\n",
       "      <td>biebesh01</td>\n",
       "      <td>CLE</td>\n",
       "      <td>1:10PM</td>\n",
       "      <td>2019-08-25</td>\n",
       "    </tr>\n",
       "    <tr>\n",
       "      <th>3</th>\n",
       "      <td>nolaaa01</td>\n",
       "      <td>PHI</td>\n",
       "      <td>hernael01</td>\n",
       "      <td>MIA</td>\n",
       "      <td>1:10PM</td>\n",
       "      <td>2019-08-25</td>\n",
       "    </tr>\n",
       "    <tr>\n",
       "      <th>4</th>\n",
       "      <td>bauertr01</td>\n",
       "      <td>CIN</td>\n",
       "      <td>agrazda01</td>\n",
       "      <td>PIT</td>\n",
       "      <td>1:35PM</td>\n",
       "      <td>2019-08-25</td>\n",
       "    </tr>\n",
       "    <tr>\n",
       "      <th>5</th>\n",
       "      <td>boydma01</td>\n",
       "      <td>DET</td>\n",
       "      <td>perezma02</td>\n",
       "      <td>MIN</td>\n",
       "      <td>2:10PM</td>\n",
       "      <td>2019-08-25</td>\n",
       "    </tr>\n",
       "    <tr>\n",
       "      <th>6</th>\n",
       "      <td>rayro02</td>\n",
       "      <td>ARI</td>\n",
       "      <td>davieza02</td>\n",
       "      <td>MIL</td>\n",
       "      <td>2:10PM</td>\n",
       "      <td>2019-08-25</td>\n",
       "    </tr>\n",
       "    <tr>\n",
       "      <th>7</th>\n",
       "      <td>barrija01</td>\n",
       "      <td>LAA</td>\n",
       "      <td>valdefr01</td>\n",
       "      <td>HOU</td>\n",
       "      <td>2:10PM</td>\n",
       "      <td>2019-08-25</td>\n",
       "    </tr>\n",
       "    <tr>\n",
       "      <th>8</th>\n",
       "      <td>burkebr01</td>\n",
       "      <td>TEX</td>\n",
       "      <td>lopezre01</td>\n",
       "      <td>CHW</td>\n",
       "      <td>2:10PM</td>\n",
       "      <td>2019-08-25</td>\n",
       "    </tr>\n",
       "    <tr>\n",
       "      <th>9</th>\n",
       "      <td>senzaan01</td>\n",
       "      <td>COL</td>\n",
       "      <td>wachami01</td>\n",
       "      <td>STL</td>\n",
       "      <td>2:15PM</td>\n",
       "      <td>2019-08-25</td>\n",
       "    </tr>\n",
       "    <tr>\n",
       "      <th>10</th>\n",
       "      <td>strasst01</td>\n",
       "      <td>WSN</td>\n",
       "      <td>hamelco01</td>\n",
       "      <td>CHC</td>\n",
       "      <td>2:20PM</td>\n",
       "      <td>2019-08-25</td>\n",
       "    </tr>\n",
       "    <tr>\n",
       "      <th>11</th>\n",
       "      <td>webblo01</td>\n",
       "      <td>SFG</td>\n",
       "      <td>anderbr04</td>\n",
       "      <td>OAK</td>\n",
       "      <td>4:07PM</td>\n",
       "      <td>2019-08-25</td>\n",
       "    </tr>\n",
       "    <tr>\n",
       "      <th>12</th>\n",
       "      <td>johnsbr02</td>\n",
       "      <td>BOS</td>\n",
       "      <td>lucchjo01</td>\n",
       "      <td>SDP</td>\n",
       "      <td>4:10PM</td>\n",
       "      <td>2019-08-25</td>\n",
       "    </tr>\n",
       "    <tr>\n",
       "      <th>13</th>\n",
       "      <td>buchhcl01</td>\n",
       "      <td>TOR</td>\n",
       "      <td>gonzama02</td>\n",
       "      <td>SEA</td>\n",
       "      <td>4:10PM</td>\n",
       "      <td>2019-08-25</td>\n",
       "    </tr>\n",
       "    <tr>\n",
       "      <th>14</th>\n",
       "      <td>germado01</td>\n",
       "      <td>NYY</td>\n",
       "      <td>kershcl01</td>\n",
       "      <td>LAD</td>\n",
       "      <td>7:05PM</td>\n",
       "      <td>2019-08-25</td>\n",
       "    </tr>\n",
       "  </tbody>\n",
       "</table>\n",
       "</div>"
      ],
      "text/plain": [
       "   away_pitcher away_team_abbr home_pitcher home_team_abbr    time        date\n",
       "0     castidi01            TBR    bundydy01            BAL  1:05PM  2019-08-25\n",
       "1     keuchda01            ATL     matzst01            NYM  1:10PM  2019-08-25\n",
       "2     skogler01            KCR    biebesh01            CLE  1:10PM  2019-08-25\n",
       "3      nolaaa01            PHI    hernael01            MIA  1:10PM  2019-08-25\n",
       "4     bauertr01            CIN    agrazda01            PIT  1:35PM  2019-08-25\n",
       "5      boydma01            DET    perezma02            MIN  2:10PM  2019-08-25\n",
       "6       rayro02            ARI    davieza02            MIL  2:10PM  2019-08-25\n",
       "7     barrija01            LAA    valdefr01            HOU  2:10PM  2019-08-25\n",
       "8     burkebr01            TEX    lopezre01            CHW  2:10PM  2019-08-25\n",
       "9     senzaan01            COL    wachami01            STL  2:15PM  2019-08-25\n",
       "10    strasst01            WSN    hamelco01            CHC  2:20PM  2019-08-25\n",
       "11     webblo01            SFG    anderbr04            OAK  4:07PM  2019-08-25\n",
       "12    johnsbr02            BOS    lucchjo01            SDP  4:10PM  2019-08-25\n",
       "13    buchhcl01            TOR    gonzama02            SEA  4:10PM  2019-08-25\n",
       "14    germado01            NYY    kershcl01            LAD  7:05PM  2019-08-25"
      ]
     },
     "execution_count": 7,
     "metadata": {},
     "output_type": "execute_result"
    }
   ],
   "source": [
    "test_df"
   ]
  },
  {
   "cell_type": "markdown",
   "metadata": {},
   "source": [
    "# Process Stats for Today's Games"
   ]
  },
  {
   "cell_type": "markdown",
   "metadata": {},
   "source": [
    "## Merge test and train dfs"
   ]
  },
  {
   "cell_type": "code",
   "execution_count": 8,
   "metadata": {},
   "outputs": [],
   "source": [
    "test_df['is_night_game'] = True\n",
    "test_df['is_night_game'][test_df['time'].str[:1].astype('int')<5] = False\n",
    "test_df['is_night_game'][test_df['time'].str[1:2].isin(['0','1'])] = True #for 10,11 PM games\n",
    "test_df.drop(columns='time', inplace=True)"
   ]
  },
  {
   "cell_type": "code",
   "execution_count": 9,
   "metadata": {},
   "outputs": [
    {
     "data": {
      "text/plain": [
       "(15, 9)"
      ]
     },
     "execution_count": 9,
     "metadata": {},
     "output_type": "execute_result"
    }
   ],
   "source": [
    "test_df['is_test'] = True\n",
    "test_df['home_team_win']=np.nan\n",
    "test_df['game_id'] = test_df.home_team_abbr + test_df.date.astype('str').str.replace('-','') + '0'\n",
    "test_df.shape"
   ]
  },
  {
   "cell_type": "code",
   "execution_count": 10,
   "metadata": {},
   "outputs": [
    {
     "data": {
      "text/plain": [
       "(24160, 9)"
      ]
     },
     "execution_count": 10,
     "metadata": {},
     "output_type": "execute_result"
    }
   ],
   "source": [
    "df = features.get_game_df()\n",
    "df['is_test'] = False\n",
    "df.shape"
   ]
  },
  {
   "cell_type": "code",
   "execution_count": 11,
   "metadata": {},
   "outputs": [
    {
     "data": {
      "text/plain": [
       "(24175, 9)"
      ]
     },
     "execution_count": 11,
     "metadata": {},
     "output_type": "execute_result"
    }
   ],
   "source": [
    "df = pd.concat([df,test_df])\n",
    "df = df.sort_values(by='date').reset_index(drop=True)\n",
    "df.shape"
   ]
  },
  {
   "cell_type": "markdown",
   "metadata": {},
   "source": [
    "## Add Features"
   ]
  },
  {
   "cell_type": "code",
   "execution_count": 12,
   "metadata": {},
   "outputs": [
    {
     "data": {
      "text/plain": [
       "(24175, 18)"
      ]
     },
     "execution_count": 12,
     "metadata": {},
     "output_type": "execute_result"
    }
   ],
   "source": [
    "df = features.add_trueskill_ratings(df)\n",
    "df = features.add_rest_durations(df)\n",
    "df.shape"
   ]
  },
  {
   "cell_type": "code",
   "execution_count": 13,
   "metadata": {},
   "outputs": [],
   "source": [
    "#datetime\n",
    "date = pd.to_datetime(df['date'])\n",
    "df['season'] = date.dt.year\n",
    "df['month']=date.dt.month\n",
    "df['week_num'] = date.dt.week\n",
    "df['dow']=date.dt.weekday.astype('int')"
   ]
  },
  {
   "cell_type": "code",
   "execution_count": 14,
   "metadata": {},
   "outputs": [],
   "source": [
    "df['dh_game_no'] = pd.to_numeric(df['game_id'].str[-1:],errors='coerce')\n",
    "df['date'] = (pd.to_datetime(df['date']) - pd.Timestamp(\"1970-01-01\")) // pd.Timedelta('1s') #epoch time"
   ]
  },
  {
   "cell_type": "markdown",
   "metadata": {},
   "source": [
    "### Add Stats"
   ]
  },
  {
   "cell_type": "code",
   "execution_count": 15,
   "metadata": {},
   "outputs": [],
   "source": [
    "games = features.get_games()\n",
    "batting = features.get_batting()\n",
    "pitching = features.get_pitching()\n",
    "pitchers = features.get_pitchers()"
   ]
  },
  {
   "cell_type": "markdown",
   "metadata": {},
   "source": [
    "#### Rolling 10 Day Stats"
   ]
  },
  {
   "cell_type": "code",
   "execution_count": 16,
   "metadata": {},
   "outputs": [],
   "source": [
    "b_stats = ['batting_avg','leverage_index_avg', 'onbase_perc', 'onbase_plus_slugging']\n",
    "df = features.add_10RA_rolling(batting, df, b_stats, True, 'batting')"
   ]
  },
  {
   "cell_type": "code",
   "execution_count": 17,
   "metadata": {},
   "outputs": [],
   "source": [
    "pitching['SO_batters_faced'] = pitching['SO'] / pitching['batters_faced']\n",
    "pitching['H_batters_faced'] = pitching['H'] / pitching['batters_faced']\n",
    "pitching['BB_batters_faced'] = pitching['BB'] / pitching['batters_faced']\n",
    "\n",
    "# create rolling stat\n",
    "b_stats = ['earned_run_avg','SO_batters_faced','H_batters_faced','BB_batters_faced']\n",
    "df = features.add_10RA_rolling(pitching, df, b_stats, True, 'team_pitching')"
   ]
  },
  {
   "cell_type": "code",
   "execution_count": 18,
   "metadata": {},
   "outputs": [],
   "source": [
    "pitchers['SO_batters_faced'] = pitchers['SO'] / pitchers['batters_faced']\n",
    "pitchers['H_batters_faced'] = pitchers['H'] / pitchers['batters_faced']\n",
    "pitchers['BB_batters_faced'] = pitchers['BB'] / pitchers['batters_faced']\n",
    "\n",
    "# create rolling stat\n",
    "b_stats = ['earned_run_avg','SO_batters_faced','H_batters_faced','BB_batters_faced']\n",
    "df = features.add_10RA_rolling(pitchers, df, b_stats, False, 'pitcher')"
   ]
  },
  {
   "cell_type": "markdown",
   "metadata": {},
   "source": [
    "#### Games Stats"
   ]
  },
  {
   "cell_type": "code",
   "execution_count": 19,
   "metadata": {
    "scrolled": true
   },
   "outputs": [],
   "source": [
    "df = features.game_stats(games,df)"
   ]
  },
  {
   "cell_type": "code",
   "execution_count": 20,
   "metadata": {
    "scrolled": true
   },
   "outputs": [
    {
     "data": {
      "text/plain": [
       "(24175, 82)"
      ]
     },
     "execution_count": 20,
     "metadata": {},
     "output_type": "execute_result"
    }
   ],
   "source": [
    "df.shape"
   ]
  },
  {
   "cell_type": "markdown",
   "metadata": {},
   "source": [
    "#### Season Stats"
   ]
  },
  {
   "cell_type": "code",
   "execution_count": 21,
   "metadata": {},
   "outputs": [
    {
     "data": {
      "text/plain": [
       "(24175, 222)"
      ]
     },
     "execution_count": 21,
     "metadata": {},
     "output_type": "execute_result"
    }
   ],
   "source": [
    "batting_stats = ['A', 'AB', 'BB', 'H', 'PA', 'PO', 'R', 'RBI', 'SO', 'batting_avg',\n",
    "             'leverage_index_avg', 'onbase_perc', 'onbase_plus_slugging', 'pitches', \n",
    "             're24_bat', 'slugging_perc', 'strikes_total', 'wpa_bat', 'wpa_bat_neg', \n",
    "             'wpa_bat_pos']\n",
    "df = features.add_season_rolling(batting, df, batting_stats, True,'batting')\n",
    "df.shape"
   ]
  },
  {
   "cell_type": "code",
   "execution_count": 22,
   "metadata": {},
   "outputs": [
    {
     "data": {
      "text/plain": [
       "(24175, 411)"
      ]
     },
     "execution_count": 22,
     "metadata": {},
     "output_type": "execute_result"
    }
   ],
   "source": [
    "pitching_stats = ['BB', 'ER', 'H', 'HR', 'IP', 'R', 'SO', 'batters_faced',\n",
    "               'earned_run_avg', 'game_score', 'inherited_runners',\n",
    "               'inherited_score', 'inplay_fb_total', 'inplay_gb_total', 'inplay_ld',\n",
    "               'inplay_unk', 'leverage_index_avg', 'pitches', 're24_def',\n",
    "               'strikes_contact', 'strikes_looking', 'strikes_swinging',\n",
    "               'strikes_total', 'wpa_def','SO_batters_faced','H_batters_faced',\n",
    "                'BB_batters_faced']\n",
    "df = features.add_season_rolling(pitching, df, pitching_stats, True,'team_pitching')\n",
    "df.shape"
   ]
  },
  {
   "cell_type": "code",
   "execution_count": 23,
   "metadata": {},
   "outputs": [
    {
     "data": {
      "text/plain": [
       "(24175, 600)"
      ]
     },
     "execution_count": 23,
     "metadata": {},
     "output_type": "execute_result"
    }
   ],
   "source": [
    "df = features.add_season_rolling(pitchers, df, pitching_stats, False,'pitcher')\n",
    "df.shape"
   ]
  },
  {
   "cell_type": "markdown",
   "metadata": {},
   "source": [
    "## Cleanup"
   ]
  },
  {
   "cell_type": "code",
   "execution_count": 24,
   "metadata": {},
   "outputs": [],
   "source": [
    "df = util.fix_na(df, False)"
   ]
  },
  {
   "cell_type": "markdown",
   "metadata": {},
   "source": [
    "# Generate Predictions"
   ]
  },
  {
   "cell_type": "code",
   "execution_count": 25,
   "metadata": {},
   "outputs": [],
   "source": [
    "X_test = df[df.is_test].drop(columns=['is_test'])\n",
    "cols = pd.read_csv(\"../data/df_w_features.csv\").columns\n",
    "X_test = X_test[cols]\n",
    "\n",
    "X_test.drop(columns=['home_team_win','game_id'], inplace=True)"
   ]
  },
  {
   "cell_type": "code",
   "execution_count": 26,
   "metadata": {},
   "outputs": [
    {
     "data": {
      "text/plain": [
       "(CatBoostEncoder(cols=['home_team_abbr', 'away_team_abbr', 'home_pitcher',\n",
       "                       'away_pitcher', 'home_team_season', 'away_team_season'],\n",
       "                 drop_invariant=False, handle_missing='value',\n",
       "                 handle_unknown='value', random_state=13, return_df=True,\n",
       "                 sigma=None, verbose=0),\n",
       " XGBClassifier(base_score=0.5, booster='gbtree', colsample_bylevel=1,\n",
       "               colsample_bynode=None, colsample_bytree=0.65, gamma=0,\n",
       "               learning_rate=0.3, max_delta_step=0, max_depth=26,\n",
       "               min_child_weight=18.0, missing=nan, n_estimators=100, n_jobs=1,\n",
       "               nthread=None, num_boost_round=100, objective='binary:logistic',\n",
       "               random_state=13, reg_alpha=0.057490000000000006, reg_lambda=1,\n",
       "               scale_pos_weight=1, seed=None, silent=True,\n",
       "               subsample=0.6000000000000001, verbosity=None))"
      ]
     },
     "execution_count": 26,
     "metadata": {},
     "output_type": "execute_result"
    }
   ],
   "source": [
    "import pickle\n",
    "encoder, model = pickle.load(open('../data/encoder_model.pk','rb'))\n",
    "encoder, model"
   ]
  },
  {
   "cell_type": "code",
   "execution_count": 27,
   "metadata": {},
   "outputs": [],
   "source": [
    "X_test = encoder.transform(X_test)\n",
    "\n",
    "test_df = test_df.sort_values(by=['date','game_id']).reset_index(drop=True)\n",
    "pred_df = df[df.is_test][['away_pitcher', 'away_team_abbr', 'home_pitcher', 'home_team_abbr']]\n",
    "pred_df['home'] = pred_df['home_team_abbr']\n",
    "pred_df['away'] = pred_df['away_team_abbr']\n",
    "pred_df.drop(columns=['home_team_abbr','away_team_abbr'], inplace=True)\n",
    "\n",
    "pred_df['xgb_proba']= model.predict_proba(X_test)[:,1]\n",
    "\n",
    "pred_df['xgb_winner']=pred_df.home\n",
    "pred_df['xgb_winner'][~model.predict(X_test)]=pred_df.away"
   ]
  },
  {
   "cell_type": "code",
   "execution_count": 28,
   "metadata": {},
   "outputs": [],
   "source": [
    "# get daily odds from covers.com\n",
    "import requests\n",
    "from bs4 import BeautifulSoup as bs\n",
    "html = requests.get('https://www.covers.com/sports/mlb/matchups').text\n",
    "soup = bs(html)\n",
    "games = []\n",
    "for s in soup.findAll('div',{'class':'cmg_matchup_game_box cmg_game_data'}):\n",
    "    g = {}\n",
    "    g['home'] = s['data-home-team-shortname-search']\n",
    "    g['home_odds'] = s['data-game-odd']\n",
    "    \n",
    "    if g['home']=='SD':g['home']='SDP'\n",
    "    \n",
    "    games.append(g)\n",
    "odds = pd.DataFrame(games)\n",
    "\n",
    "# merge in the odds\n",
    "pred_df = pd.merge(left=pred_df, right=odds, on='home', how='left')\n",
    "pred_df['home_odds']=pd.to_numeric(pred_df['home_odds'], errors='coerce')\n",
    "# pred_df['online_odds'][pred_df.xgb_probability<0.5] = -pred_df['online_odds'] #convert odds to pred winner odds (not home team odds)"
   ]
  },
  {
   "cell_type": "code",
   "execution_count": 29,
   "metadata": {},
   "outputs": [],
   "source": [
    "# online proba\n",
    "#https://www.bettingexpert.com/en-au/learn/understanding-betting-odds/how-to-convert-odds\n",
    "pred_df['online_proba'] = -pred_df['home_odds']/(-pred_df['home_odds']+100)\n",
    "pred_df['online_proba'][pred_df['home_odds']>0] = 100/(pred_df['home_odds']+100)\n",
    "\n",
    "# Confidence\n",
    "pred_df['confidence'] = np.abs(pred_df['xgb_proba']-0.5)+.5\n",
    "online_conf = np.abs(pred_df['online_proba']-0.5)+.5\n",
    "\n",
    "pred_df['conf_diff'] = pred_df['confidence'] - online_conf\n",
    "pred_df['conf_diff'][(pred_df['xgb_proba']>.5)&(pred_df['online_proba']<.5)] = 'Contrary'\n",
    "pred_df['conf_diff'][(pred_df['xgb_proba']<.5)&(pred_df['online_proba']>.5)] = 'Contrary'"
   ]
  },
  {
   "cell_type": "code",
   "execution_count": 30,
   "metadata": {
    "scrolled": false
   },
   "outputs": [],
   "source": [
    "# merge in team names\n",
    "teams = pd.read_csv(\"../data/teams.csv\")\n",
    "pred_df = pd.merge(left=pred_df, right=teams, \n",
    "                   left_on='xgb_winner',right_on='Abbr',\n",
    "                   how='left')\n",
    "\n",
    "pred_df['pred_winner'] = pred_df['Team']\n",
    "pred_df.drop(columns=['xgb_winner','Abbr','Team'], inplace=True)"
   ]
  },
  {
   "cell_type": "code",
   "execution_count": 32,
   "metadata": {
    "scrolled": false
   },
   "outputs": [
    {
     "name": "stdout",
     "output_type": "stream",
     "text": [
      "70% success rate for bets with confidence >0.6\n"
     ]
    },
    {
     "data": {
      "text/html": [
       "<table border=\"1\" class=\"dataframe\">\n",
       "  <thead>\n",
       "    <tr style=\"text-align: right;\">\n",
       "      <th>away_pitcher</th>\n",
       "      <th>home_pitcher</th>\n",
       "      <th>home</th>\n",
       "      <th>away</th>\n",
       "      <th>xgb_proba</th>\n",
       "      <th>home_odds</th>\n",
       "      <th>online_proba</th>\n",
       "      <th>confidence</th>\n",
       "      <th>conf_diff</th>\n",
       "      <th>pred_winner</th>\n",
       "    </tr>\n",
       "  </thead>\n",
       "  <tbody>\n",
       "    <tr>\n",
       "      <td>bauertr01</td>\n",
       "      <td>agrazda01</td>\n",
       "      <td>PIT</td>\n",
       "      <td>CIN</td>\n",
       "      <td>0.197</td>\n",
       "      <td>110</td>\n",
       "      <td>0.476</td>\n",
       "      <td>0.803</td>\n",
       "      <td>0.279</td>\n",
       "      <td>Reds</td>\n",
       "    </tr>\n",
       "    <tr>\n",
       "      <td>skogler01</td>\n",
       "      <td>biebesh01</td>\n",
       "      <td>CLE</td>\n",
       "      <td>KCR</td>\n",
       "      <td>0.714</td>\n",
       "      <td>-346</td>\n",
       "      <td>0.776</td>\n",
       "      <td>0.714</td>\n",
       "      <td>-0.062</td>\n",
       "      <td>Indians</td>\n",
       "    </tr>\n",
       "    <tr>\n",
       "      <td>buchhcl01</td>\n",
       "      <td>gonzama02</td>\n",
       "      <td>SEA</td>\n",
       "      <td>TOR</td>\n",
       "      <td>0.712</td>\n",
       "      <td>-150</td>\n",
       "      <td>0.600</td>\n",
       "      <td>0.712</td>\n",
       "      <td>0.112</td>\n",
       "      <td>Mariners</td>\n",
       "    </tr>\n",
       "    <tr>\n",
       "      <td>senzaan01</td>\n",
       "      <td>wachami01</td>\n",
       "      <td>STL</td>\n",
       "      <td>COL</td>\n",
       "      <td>0.677</td>\n",
       "      <td>-180</td>\n",
       "      <td>0.643</td>\n",
       "      <td>0.677</td>\n",
       "      <td>0.034</td>\n",
       "      <td>Cardinals</td>\n",
       "    </tr>\n",
       "    <tr>\n",
       "      <td>germado01</td>\n",
       "      <td>kershcl01</td>\n",
       "      <td>LAD</td>\n",
       "      <td>NYY</td>\n",
       "      <td>0.671</td>\n",
       "      <td>-173</td>\n",
       "      <td>0.634</td>\n",
       "      <td>0.671</td>\n",
       "      <td>0.037</td>\n",
       "      <td>Dodgers</td>\n",
       "    </tr>\n",
       "    <tr>\n",
       "      <td>boydma01</td>\n",
       "      <td>perezma02</td>\n",
       "      <td>MIN</td>\n",
       "      <td>DET</td>\n",
       "      <td>0.657</td>\n",
       "      <td>-193</td>\n",
       "      <td>0.659</td>\n",
       "      <td>0.657</td>\n",
       "      <td>-0.002</td>\n",
       "      <td>Twins</td>\n",
       "    </tr>\n",
       "    <tr>\n",
       "      <td>johnsbr02</td>\n",
       "      <td>lucchjo01</td>\n",
       "      <td>SDP</td>\n",
       "      <td>BOS</td>\n",
       "      <td>0.637</td>\n",
       "      <td>-112</td>\n",
       "      <td>0.528</td>\n",
       "      <td>0.637</td>\n",
       "      <td>0.108</td>\n",
       "      <td>Padres</td>\n",
       "    </tr>\n",
       "    <tr>\n",
       "      <td>webblo01</td>\n",
       "      <td>anderbr04</td>\n",
       "      <td>OAK</td>\n",
       "      <td>SFG</td>\n",
       "      <td>0.623</td>\n",
       "      <td>-162</td>\n",
       "      <td>0.618</td>\n",
       "      <td>0.623</td>\n",
       "      <td>0.005</td>\n",
       "      <td>Athletics</td>\n",
       "    </tr>\n",
       "    <tr>\n",
       "      <td>barrija01</td>\n",
       "      <td>valdefr01</td>\n",
       "      <td>HOU</td>\n",
       "      <td>LAA</td>\n",
       "      <td>0.378</td>\n",
       "      <td>-185</td>\n",
       "      <td>0.649</td>\n",
       "      <td>0.622</td>\n",
       "      <td>Contrary</td>\n",
       "      <td>Angels</td>\n",
       "    </tr>\n",
       "    <tr>\n",
       "      <td>nolaaa01</td>\n",
       "      <td>hernael01</td>\n",
       "      <td>MIA</td>\n",
       "      <td>PHI</td>\n",
       "      <td>0.422</td>\n",
       "      <td>179</td>\n",
       "      <td>0.358</td>\n",
       "      <td>0.578</td>\n",
       "      <td>-0.063</td>\n",
       "      <td>Phillies</td>\n",
       "    </tr>\n",
       "    <tr>\n",
       "      <td>rayro02</td>\n",
       "      <td>davieza02</td>\n",
       "      <td>MIL</td>\n",
       "      <td>ARI</td>\n",
       "      <td>0.428</td>\n",
       "      <td>-115</td>\n",
       "      <td>0.535</td>\n",
       "      <td>0.572</td>\n",
       "      <td>Contrary</td>\n",
       "      <td>D-Backs</td>\n",
       "    </tr>\n",
       "    <tr>\n",
       "      <td>castidi01</td>\n",
       "      <td>bundydy01</td>\n",
       "      <td>BAL</td>\n",
       "      <td>TBR</td>\n",
       "      <td>0.438</td>\n",
       "      <td>150</td>\n",
       "      <td>0.400</td>\n",
       "      <td>0.562</td>\n",
       "      <td>-0.038</td>\n",
       "      <td>Rays</td>\n",
       "    </tr>\n",
       "    <tr>\n",
       "      <td>strasst01</td>\n",
       "      <td>hamelco01</td>\n",
       "      <td>CHC</td>\n",
       "      <td>WSN</td>\n",
       "      <td>0.551</td>\n",
       "      <td>110</td>\n",
       "      <td>0.476</td>\n",
       "      <td>0.551</td>\n",
       "      <td>Contrary</td>\n",
       "      <td>Cubs</td>\n",
       "    </tr>\n",
       "    <tr>\n",
       "      <td>keuchda01</td>\n",
       "      <td>matzst01</td>\n",
       "      <td>NYM</td>\n",
       "      <td>ATL</td>\n",
       "      <td>0.464</td>\n",
       "      <td>-107</td>\n",
       "      <td>0.517</td>\n",
       "      <td>0.536</td>\n",
       "      <td>Contrary</td>\n",
       "      <td>Braves</td>\n",
       "    </tr>\n",
       "    <tr>\n",
       "      <td>burkebr01</td>\n",
       "      <td>lopezre01</td>\n",
       "      <td>CHW</td>\n",
       "      <td>TEX</td>\n",
       "      <td>0.488</td>\n",
       "      <td>-135</td>\n",
       "      <td>0.574</td>\n",
       "      <td>0.512</td>\n",
       "      <td>Contrary</td>\n",
       "      <td>Rangers</td>\n",
       "    </tr>\n",
       "  </tbody>\n",
       "</table>"
      ],
      "text/plain": [
       "<IPython.core.display.HTML object>"
      ]
     },
     "execution_count": 32,
     "metadata": {},
     "output_type": "execute_result"
    }
   ],
   "source": [
    "from IPython.display import HTML\n",
    "pd.options.display.float_format = '{:.3f}'.format\n",
    "\n",
    "print(\"70% success rate for bets with confidence >0.6\")\n",
    "HTML(pred_df.sort_values(by='confidence', ascending=False).to_html(index=False))\n"
   ]
  },
  {
   "cell_type": "code",
   "execution_count": null,
   "metadata": {},
   "outputs": [],
   "source": []
  }
 ],
 "metadata": {
  "kernelspec": {
   "display_name": "Python 3",
   "language": "python",
   "name": "python3"
  },
  "language_info": {
   "codemirror_mode": {
    "name": "ipython",
    "version": 3
   },
   "file_extension": ".py",
   "mimetype": "text/x-python",
   "name": "python",
   "nbconvert_exporter": "python",
   "pygments_lexer": "ipython3",
   "version": "3.7.3"
  },
  "toc": {
   "base_numbering": 1,
   "nav_menu": {},
   "number_sections": true,
   "sideBar": true,
   "skip_h1_title": false,
   "title_cell": "Table of Contents",
   "title_sidebar": "Contents",
   "toc_cell": false,
   "toc_position": {},
   "toc_section_display": true,
   "toc_window_display": true
  }
 },
 "nbformat": 4,
 "nbformat_minor": 2
}
