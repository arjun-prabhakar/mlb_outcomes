{
 "cells": [
  {
   "cell_type": "code",
   "execution_count": 1,
   "metadata": {},
   "outputs": [],
   "source": [
    "import pandas as pd\n",
    "import numpy as np\n",
    "import matplotlib.pyplot as plt"
   ]
  },
  {
   "cell_type": "code",
   "execution_count": 2,
   "metadata": {},
   "outputs": [],
   "source": [
    "%matplotlib inline\n",
    "%load_ext autoreload\n",
    "%autoreload 2\n",
    "\n",
    "import warnings\n",
    "warnings.filterwarnings('ignore')\n",
    "warnings.simplefilter(action='ignore', category=FutureWarning)"
   ]
  },
  {
   "cell_type": "code",
   "execution_count": 3,
   "metadata": {},
   "outputs": [],
   "source": [
    "import sys\n",
    "sys.path.append('../code')\n",
    "import scrape, features\n",
    "import dataframe_utilities as util"
   ]
  },
  {
   "cell_type": "markdown",
   "metadata": {},
   "source": [
    "# Update DB & Get Today Games"
   ]
  },
  {
   "cell_type": "code",
   "execution_count": 4,
   "metadata": {},
   "outputs": [
    {
     "data": {
      "text/plain": [
       "Timestamp('2019-08-28 00:00:00')"
      ]
     },
     "execution_count": 4,
     "metadata": {},
     "output_type": "execute_result"
    }
   ],
   "source": [
    "last_day = pd.to_datetime(pd.read_csv('../data/game_summaries.csv')['date']).max()\n",
    "get_day = last_day + pd.Timedelta(days=1)\n",
    "get_day"
   ]
  },
  {
   "cell_type": "code",
   "execution_count": 5,
   "metadata": {},
   "outputs": [
    {
     "name": "stdout",
     "output_type": "stream",
     "text": [
      "ANA201908280 done\n",
      "CHA201908280 done\n",
      "COL201908280 done\n",
      "DET201908280 done\n",
      "HOU201908280 done\n",
      "KCA201908280 done\n",
      "MIA201908280 done\n",
      "MIL201908280 done\n",
      "NYN201908280 done\n",
      "PHI201908280 done\n",
      "SDN201908280 done\n",
      "SEA201908280 done\n",
      "TOR201908280 done\n",
      "WAS201908280 done\n",
      "ARI201908290 done\n",
      "CHA201908290 done\n",
      "COL201908290 done\n",
      "DET201908290 done\n",
      "HOU201908290 done\n",
      "KCA201908290 done\n",
      "MIA201908290 done\n",
      "NYN201908290 done\n",
      "SFN201908290 done\n",
      "TEX201908290 done\n"
     ]
    }
   ],
   "source": [
    "while get_day.date() < pd.datetime.today().date():\n",
    "    links = scrape.get_game_links(get_day)\n",
    "    for l in links:\n",
    "        scrape.process_link(l)\n",
    "    get_day += + pd.Timedelta(days=1)"
   ]
  },
  {
   "cell_type": "code",
   "execution_count": 6,
   "metadata": {},
   "outputs": [
    {
     "name": "stdout",
     "output_type": "stream",
     "text": [
      "no pitcher {'away_team_abbr': 'CHW', 'home_team_abbr': 'ATL', 'time': '7:20PM', 'away_pitcher': 'novaiv01'}\n",
      "no pitcher {'away_team_abbr': 'BAL', 'home_team_abbr': 'KCR', 'time': '8:15PM', 'away_pitcher': 'skogler01'}\n"
     ]
    }
   ],
   "source": [
    "test_df = scrape.get_today_games()"
   ]
  },
  {
   "cell_type": "code",
   "execution_count": 7,
   "metadata": {},
   "outputs": [
    {
     "data": {
      "text/html": [
       "<div>\n",
       "<style scoped>\n",
       "    .dataframe tbody tr th:only-of-type {\n",
       "        vertical-align: middle;\n",
       "    }\n",
       "\n",
       "    .dataframe tbody tr th {\n",
       "        vertical-align: top;\n",
       "    }\n",
       "\n",
       "    .dataframe thead th {\n",
       "        text-align: right;\n",
       "    }\n",
       "</style>\n",
       "<table border=\"1\" class=\"dataframe\">\n",
       "  <thead>\n",
       "    <tr style=\"text-align: right;\">\n",
       "      <th></th>\n",
       "      <th>away_pitcher</th>\n",
       "      <th>away_team_abbr</th>\n",
       "      <th>home_pitcher</th>\n",
       "      <th>home_team_abbr</th>\n",
       "      <th>time</th>\n",
       "      <th>date</th>\n",
       "    </tr>\n",
       "  </thead>\n",
       "  <tbody>\n",
       "    <tr>\n",
       "      <th>0</th>\n",
       "      <td>anderch01</td>\n",
       "      <td>MIL</td>\n",
       "      <td>quintjo01</td>\n",
       "      <td>CHC</td>\n",
       "      <td>2:20PM</td>\n",
       "      <td>2019-08-30</td>\n",
       "    </tr>\n",
       "    <tr>\n",
       "      <th>1</th>\n",
       "      <td>hernael01</td>\n",
       "      <td>MIA</td>\n",
       "      <td>sanchan01</td>\n",
       "      <td>WSN</td>\n",
       "      <td>7:05PM</td>\n",
       "      <td>2019-08-30</td>\n",
       "    </tr>\n",
       "    <tr>\n",
       "      <th>2</th>\n",
       "      <td>wheelza01</td>\n",
       "      <td>NYM</td>\n",
       "      <td>nolaaa01</td>\n",
       "      <td>PHI</td>\n",
       "      <td>7:05PM</td>\n",
       "      <td>2019-08-30</td>\n",
       "    </tr>\n",
       "    <tr>\n",
       "      <th>3</th>\n",
       "      <td>anderbr04</td>\n",
       "      <td>OAK</td>\n",
       "      <td>sabatc.01</td>\n",
       "      <td>NYY</td>\n",
       "      <td>7:05PM</td>\n",
       "      <td>2019-08-30</td>\n",
       "    </tr>\n",
       "    <tr>\n",
       "      <th>4</th>\n",
       "      <td>mileywa01</td>\n",
       "      <td>HOU</td>\n",
       "      <td>thorntr01</td>\n",
       "      <td>TOR</td>\n",
       "      <td>7:07PM</td>\n",
       "      <td>2019-08-30</td>\n",
       "    </tr>\n",
       "    <tr>\n",
       "      <th>5</th>\n",
       "      <td>gibsoky01</td>\n",
       "      <td>MIN</td>\n",
       "      <td>jacksed01</td>\n",
       "      <td>DET</td>\n",
       "      <td>7:10PM</td>\n",
       "      <td>2019-08-30</td>\n",
       "    </tr>\n",
       "    <tr>\n",
       "      <th>6</th>\n",
       "      <td>biebesh01</td>\n",
       "      <td>CLE</td>\n",
       "      <td>pruitau01</td>\n",
       "      <td>TBR</td>\n",
       "      <td>7:10PM</td>\n",
       "      <td>2019-08-30</td>\n",
       "    </tr>\n",
       "    <tr>\n",
       "      <th>7</th>\n",
       "      <td>novaiv01</td>\n",
       "      <td>CHW</td>\n",
       "      <td>NaN</td>\n",
       "      <td>ATL</td>\n",
       "      <td>7:20PM</td>\n",
       "      <td>2019-08-30</td>\n",
       "    </tr>\n",
       "    <tr>\n",
       "      <th>8</th>\n",
       "      <td>gonzama02</td>\n",
       "      <td>SEA</td>\n",
       "      <td>allarko01</td>\n",
       "      <td>TEX</td>\n",
       "      <td>8:05PM</td>\n",
       "      <td>2019-08-30</td>\n",
       "    </tr>\n",
       "    <tr>\n",
       "      <th>9</th>\n",
       "      <td>skogler01</td>\n",
       "      <td>BAL</td>\n",
       "      <td>NaN</td>\n",
       "      <td>KCR</td>\n",
       "      <td>8:15PM</td>\n",
       "      <td>2019-08-30</td>\n",
       "    </tr>\n",
       "    <tr>\n",
       "      <th>10</th>\n",
       "      <td>bauertr01</td>\n",
       "      <td>CIN</td>\n",
       "      <td>hudsoda02</td>\n",
       "      <td>STL</td>\n",
       "      <td>8:15PM</td>\n",
       "      <td>2019-08-30</td>\n",
       "    </tr>\n",
       "    <tr>\n",
       "      <th>11</th>\n",
       "      <td>agrazda01</td>\n",
       "      <td>PIT</td>\n",
       "      <td>senzaan01</td>\n",
       "      <td>COL</td>\n",
       "      <td>8:40PM</td>\n",
       "      <td>2019-08-30</td>\n",
       "    </tr>\n",
       "    <tr>\n",
       "      <th>12</th>\n",
       "      <td>gonsoto01</td>\n",
       "      <td>LAD</td>\n",
       "      <td>galleza01</td>\n",
       "      <td>ARI</td>\n",
       "      <td>9:40PM</td>\n",
       "      <td>2019-08-30</td>\n",
       "    </tr>\n",
       "    <tr>\n",
       "      <th>13</th>\n",
       "      <td>eovalna01</td>\n",
       "      <td>BOS</td>\n",
       "      <td>suarejo01</td>\n",
       "      <td>LAA</td>\n",
       "      <td>10:07PM</td>\n",
       "      <td>2019-08-30</td>\n",
       "    </tr>\n",
       "    <tr>\n",
       "      <th>14</th>\n",
       "      <td>lametdi01</td>\n",
       "      <td>SDP</td>\n",
       "      <td>bumgama01</td>\n",
       "      <td>SFG</td>\n",
       "      <td>10:15PM</td>\n",
       "      <td>2019-08-30</td>\n",
       "    </tr>\n",
       "  </tbody>\n",
       "</table>\n",
       "</div>"
      ],
      "text/plain": [
       "   away_pitcher away_team_abbr home_pitcher home_team_abbr     time  \\\n",
       "0     anderch01            MIL    quintjo01            CHC   2:20PM   \n",
       "1     hernael01            MIA    sanchan01            WSN   7:05PM   \n",
       "2     wheelza01            NYM     nolaaa01            PHI   7:05PM   \n",
       "3     anderbr04            OAK    sabatc.01            NYY   7:05PM   \n",
       "4     mileywa01            HOU    thorntr01            TOR   7:07PM   \n",
       "5     gibsoky01            MIN    jacksed01            DET   7:10PM   \n",
       "6     biebesh01            CLE    pruitau01            TBR   7:10PM   \n",
       "7      novaiv01            CHW          NaN            ATL   7:20PM   \n",
       "8     gonzama02            SEA    allarko01            TEX   8:05PM   \n",
       "9     skogler01            BAL          NaN            KCR   8:15PM   \n",
       "10    bauertr01            CIN    hudsoda02            STL   8:15PM   \n",
       "11    agrazda01            PIT    senzaan01            COL   8:40PM   \n",
       "12    gonsoto01            LAD    galleza01            ARI   9:40PM   \n",
       "13    eovalna01            BOS    suarejo01            LAA  10:07PM   \n",
       "14    lametdi01            SDP    bumgama01            SFG  10:15PM   \n",
       "\n",
       "          date  \n",
       "0   2019-08-30  \n",
       "1   2019-08-30  \n",
       "2   2019-08-30  \n",
       "3   2019-08-30  \n",
       "4   2019-08-30  \n",
       "5   2019-08-30  \n",
       "6   2019-08-30  \n",
       "7   2019-08-30  \n",
       "8   2019-08-30  \n",
       "9   2019-08-30  \n",
       "10  2019-08-30  \n",
       "11  2019-08-30  \n",
       "12  2019-08-30  \n",
       "13  2019-08-30  \n",
       "14  2019-08-30  "
      ]
     },
     "execution_count": 7,
     "metadata": {},
     "output_type": "execute_result"
    }
   ],
   "source": [
    "test_df"
   ]
  },
  {
   "cell_type": "markdown",
   "metadata": {},
   "source": [
    "# Process Stats for Today's Games"
   ]
  },
  {
   "cell_type": "markdown",
   "metadata": {},
   "source": [
    "## Merge test and train dfs"
   ]
  },
  {
   "cell_type": "code",
   "execution_count": 8,
   "metadata": {},
   "outputs": [],
   "source": [
    "test_df['is_night_game'] = True\n",
    "test_df['is_night_game'][test_df['time'].str[:1].astype('int')<5] = False\n",
    "test_df['is_night_game'][test_df['time'].str[1:2].isin(['0','1'])] = True #for 10,11 PM games\n",
    "test_df.drop(columns='time', inplace=True)"
   ]
  },
  {
   "cell_type": "code",
   "execution_count": 9,
   "metadata": {},
   "outputs": [
    {
     "data": {
      "text/plain": [
       "(15, 9)"
      ]
     },
     "execution_count": 9,
     "metadata": {},
     "output_type": "execute_result"
    }
   ],
   "source": [
    "test_df['is_test'] = True\n",
    "test_df['home_team_win']=np.nan\n",
    "test_df['game_id'] = test_df.home_team_abbr + test_df.date.astype('str').str.replace('-','') + '0'\n",
    "test_df.shape"
   ]
  },
  {
   "cell_type": "code",
   "execution_count": 10,
   "metadata": {},
   "outputs": [
    {
     "data": {
      "text/plain": [
       "(24252, 9)"
      ]
     },
     "execution_count": 10,
     "metadata": {},
     "output_type": "execute_result"
    }
   ],
   "source": [
    "df = features.get_game_df()\n",
    "df['is_test'] = False\n",
    "df.shape"
   ]
  },
  {
   "cell_type": "code",
   "execution_count": 11,
   "metadata": {},
   "outputs": [
    {
     "data": {
      "text/plain": [
       "(24267, 9)"
      ]
     },
     "execution_count": 11,
     "metadata": {},
     "output_type": "execute_result"
    }
   ],
   "source": [
    "df = pd.concat([df,test_df])\n",
    "df = df.sort_values(by='date').reset_index(drop=True)\n",
    "df.shape"
   ]
  },
  {
   "cell_type": "markdown",
   "metadata": {},
   "source": [
    "## Add Features"
   ]
  },
  {
   "cell_type": "code",
   "execution_count": 12,
   "metadata": {},
   "outputs": [
    {
     "data": {
      "text/plain": [
       "(24267, 18)"
      ]
     },
     "execution_count": 12,
     "metadata": {},
     "output_type": "execute_result"
    }
   ],
   "source": [
    "df = features.add_trueskill_ratings(df)\n",
    "df = features.add_rest_durations(df)\n",
    "df.shape"
   ]
  },
  {
   "cell_type": "code",
   "execution_count": 13,
   "metadata": {},
   "outputs": [],
   "source": [
    "#datetime\n",
    "date = pd.to_datetime(df['date'])\n",
    "df['season'] = date.dt.year\n",
    "df['month']=date.dt.month\n",
    "df['week_num'] = date.dt.week\n",
    "df['dow']=date.dt.weekday.astype('int')"
   ]
  },
  {
   "cell_type": "code",
   "execution_count": 14,
   "metadata": {},
   "outputs": [],
   "source": [
    "df['dh_game_no'] = pd.to_numeric(df['game_id'].str[-1:],errors='coerce')\n",
    "df['date'] = (pd.to_datetime(df['date']) - pd.Timestamp(\"1970-01-01\")) // pd.Timedelta('1s') #epoch time"
   ]
  },
  {
   "cell_type": "markdown",
   "metadata": {},
   "source": [
    "### Add Stats"
   ]
  },
  {
   "cell_type": "code",
   "execution_count": 15,
   "metadata": {},
   "outputs": [],
   "source": [
    "games = features.get_games()\n",
    "batting = features.get_batting()\n",
    "pitching = features.get_pitching()\n",
    "pitchers = features.get_pitchers()"
   ]
  },
  {
   "cell_type": "markdown",
   "metadata": {},
   "source": [
    "#### Rolling 10 Day Stats"
   ]
  },
  {
   "cell_type": "code",
   "execution_count": 16,
   "metadata": {},
   "outputs": [],
   "source": [
    "b_stats = ['batting_avg','leverage_index_avg', 'onbase_perc', 'onbase_plus_slugging']\n",
    "df = features.add_10RA_rolling(batting, df, b_stats, True, 'batting')"
   ]
  },
  {
   "cell_type": "code",
   "execution_count": 17,
   "metadata": {},
   "outputs": [],
   "source": [
    "pitching['SO_batters_faced'] = pitching['SO'] / pitching['batters_faced']\n",
    "pitching['H_batters_faced'] = pitching['H'] / pitching['batters_faced']\n",
    "pitching['BB_batters_faced'] = pitching['BB'] / pitching['batters_faced']\n",
    "\n",
    "# create rolling stat\n",
    "b_stats = ['earned_run_avg','SO_batters_faced','H_batters_faced','BB_batters_faced']\n",
    "df = features.add_10RA_rolling(pitching, df, b_stats, True, 'team_pitching')"
   ]
  },
  {
   "cell_type": "code",
   "execution_count": 18,
   "metadata": {},
   "outputs": [],
   "source": [
    "pitchers['SO_batters_faced'] = pitchers['SO'] / pitchers['batters_faced']\n",
    "pitchers['H_batters_faced'] = pitchers['H'] / pitchers['batters_faced']\n",
    "pitchers['BB_batters_faced'] = pitchers['BB'] / pitchers['batters_faced']\n",
    "\n",
    "# create rolling stat\n",
    "b_stats = ['earned_run_avg','SO_batters_faced','H_batters_faced','BB_batters_faced']\n",
    "df = features.add_10RA_rolling(pitchers, df, b_stats, False, 'pitcher')"
   ]
  },
  {
   "cell_type": "markdown",
   "metadata": {},
   "source": [
    "#### Games Stats"
   ]
  },
  {
   "cell_type": "code",
   "execution_count": 19,
   "metadata": {
    "scrolled": true
   },
   "outputs": [],
   "source": [
    "df = features.game_stats(games,df)"
   ]
  },
  {
   "cell_type": "code",
   "execution_count": 20,
   "metadata": {
    "scrolled": true
   },
   "outputs": [
    {
     "data": {
      "text/plain": [
       "(24267, 82)"
      ]
     },
     "execution_count": 20,
     "metadata": {},
     "output_type": "execute_result"
    }
   ],
   "source": [
    "df.shape"
   ]
  },
  {
   "cell_type": "markdown",
   "metadata": {},
   "source": [
    "#### Season Stats"
   ]
  },
  {
   "cell_type": "code",
   "execution_count": 21,
   "metadata": {},
   "outputs": [
    {
     "data": {
      "text/plain": [
       "(24267, 222)"
      ]
     },
     "execution_count": 21,
     "metadata": {},
     "output_type": "execute_result"
    }
   ],
   "source": [
    "batting_stats = ['A', 'AB', 'BB', 'H', 'PA', 'PO', 'R', 'RBI', 'SO', 'batting_avg',\n",
    "             'leverage_index_avg', 'onbase_perc', 'onbase_plus_slugging', 'pitches', \n",
    "             're24_bat', 'slugging_perc', 'strikes_total', 'wpa_bat', 'wpa_bat_neg', \n",
    "             'wpa_bat_pos']\n",
    "df = features.add_season_rolling(batting, df, batting_stats, True,'batting')\n",
    "df.shape"
   ]
  },
  {
   "cell_type": "code",
   "execution_count": 22,
   "metadata": {},
   "outputs": [
    {
     "data": {
      "text/plain": [
       "(24267, 411)"
      ]
     },
     "execution_count": 22,
     "metadata": {},
     "output_type": "execute_result"
    }
   ],
   "source": [
    "pitching_stats = ['BB', 'ER', 'H', 'HR', 'IP', 'R', 'SO', 'batters_faced',\n",
    "               'earned_run_avg', 'game_score', 'inherited_runners',\n",
    "               'inherited_score', 'inplay_fb_total', 'inplay_gb_total', 'inplay_ld',\n",
    "               'inplay_unk', 'leverage_index_avg', 'pitches', 're24_def',\n",
    "               'strikes_contact', 'strikes_looking', 'strikes_swinging',\n",
    "               'strikes_total', 'wpa_def','SO_batters_faced','H_batters_faced',\n",
    "                'BB_batters_faced']\n",
    "df = features.add_season_rolling(pitching, df, pitching_stats, True,'team_pitching')\n",
    "df.shape"
   ]
  },
  {
   "cell_type": "code",
   "execution_count": 23,
   "metadata": {},
   "outputs": [
    {
     "data": {
      "text/plain": [
       "(24267, 600)"
      ]
     },
     "execution_count": 23,
     "metadata": {},
     "output_type": "execute_result"
    }
   ],
   "source": [
    "df = features.add_season_rolling(pitchers, df, pitching_stats, False,'pitcher')\n",
    "df.shape"
   ]
  },
  {
   "cell_type": "markdown",
   "metadata": {},
   "source": [
    "## Cleanup"
   ]
  },
  {
   "cell_type": "code",
   "execution_count": 24,
   "metadata": {},
   "outputs": [],
   "source": [
    "df = util.fix_na(df, False)"
   ]
  },
  {
   "cell_type": "markdown",
   "metadata": {},
   "source": [
    "# Generate Predictions"
   ]
  },
  {
   "cell_type": "code",
   "execution_count": 34,
   "metadata": {},
   "outputs": [],
   "source": [
    "X_test = df[df.is_test].drop(columns=['is_test'])\n",
    "\n",
    "# make columns match training data\n",
    "cols = pd.read_csv(\"../data/df_w_features.csv\").columns\n",
    "X_test = X_test[cols]\n",
    "\n",
    "X_test.drop(columns=['home_team_win','game_id'], inplace=True)"
   ]
  },
  {
   "cell_type": "code",
   "execution_count": 35,
   "metadata": {},
   "outputs": [],
   "source": [
    "import pickle\n",
    "encoder, model = pickle.load(open('../data/encoder_model.pk','rb'))\n",
    "\n",
    "X_test = encoder.transform(X_test)\n",
    "proba = model.predict_proba(X_test)[:,1]\n",
    "pred = model.predict(X_test)"
   ]
  },
  {
   "cell_type": "code",
   "execution_count": 36,
   "metadata": {},
   "outputs": [],
   "source": [
    "test_df = test_df.sort_values(by=['date','game_id']).reset_index(drop=True)\n",
    "pred_df = df[df.is_test][['away_pitcher', 'away_team_abbr', 'home_pitcher', 'home_team_abbr']]\n",
    "pred_df['home'] = pred_df['home_team_abbr']\n",
    "pred_df['away'] = pred_df['away_team_abbr']\n",
    "pred_df.drop(columns=['home_team_abbr','away_team_abbr'], inplace=True)\n",
    "pred_df['xgb_proba']= proba\n",
    "pred_df['xgb_winner']=pred_df.home\n",
    "pred_df['xgb_winner'][~pred]=pred_df.away"
   ]
  },
  {
   "cell_type": "code",
   "execution_count": 37,
   "metadata": {},
   "outputs": [],
   "source": [
    "# get daily odds from covers.com\n",
    "import requests\n",
    "from bs4 import BeautifulSoup as bs\n",
    "html = requests.get('https://www.covers.com/sports/mlb/matchups').text\n",
    "soup = bs(html)\n",
    "games = []\n",
    "for s in soup.findAll('div',{'class':'cmg_matchup_game_box cmg_game_data'}):\n",
    "    g = {}\n",
    "    g['home'] = s['data-home-team-shortname-search']\n",
    "    g['home_odds'] = s['data-game-odd']\n",
    "    \n",
    "    if g['home']=='SD':g['home']='SDP'\n",
    "    if g['home']=='KC':g['home']='KCR'\n",
    "    if g['home']=='SF':g['home']='SFG'\n",
    "    if g['home']=='WAS':g['home']='WSN'\n",
    "    if g['home']=='TB':g['home']='TBR'\n",
    "    \n",
    "    games.append(g)\n",
    "odds = pd.DataFrame(games)\n",
    "\n",
    "# merge in the odds\n",
    "pred_df = pd.merge(left=pred_df, right=odds, on='home', how='left')\n",
    "pred_df['home_odds']=pd.to_numeric(pred_df['home_odds'], errors='coerce')\n",
    "# pred_df['online_odds'][pred_df.xgb_probability<0.5] = -pred_df['online_odds'] #convert odds to pred winner odds (not home team odds)"
   ]
  },
  {
   "cell_type": "code",
   "execution_count": 38,
   "metadata": {},
   "outputs": [],
   "source": [
    "# online proba\n",
    "#https://www.bettingexpert.com/en-au/learn/understanding-betting-odds/how-to-convert-odds\n",
    "pred_df['online_proba'] = -pred_df['home_odds']/(-pred_df['home_odds']+100)\n",
    "pred_df['online_proba'][pred_df['home_odds']>0] = 100/(pred_df['home_odds']+100)\n",
    "\n",
    "# Confidence\n",
    "pred_df['confidence'] = np.abs(pred_df['xgb_proba']-0.5)+.5\n",
    "online_conf = np.abs(pred_df['online_proba']-0.5)+.5\n",
    "\n",
    "pred_df['conf_diff'] = pred_df['confidence'] - online_conf\n",
    "pred_df['conf_diff'][(pred_df['xgb_proba']>.5)&(pred_df['online_proba']<.5)] = 'Contrary'\n",
    "pred_df['conf_diff'][(pred_df['xgb_proba']<.5)&(pred_df['online_proba']>.5)] = 'Contrary'"
   ]
  },
  {
   "cell_type": "code",
   "execution_count": 39,
   "metadata": {
    "scrolled": false
   },
   "outputs": [],
   "source": [
    "# merge in team names\n",
    "teams = pd.read_csv(\"../data/teams.csv\")\n",
    "pred_df = pd.merge(left=pred_df, right=teams, \n",
    "                   left_on='xgb_winner',right_on='Abbr',\n",
    "                   how='left')\n",
    "\n",
    "pred_df['pred_winner'] = pred_df['Team']\n",
    "pred_df.drop(columns=['xgb_winner','Abbr','Team'], inplace=True)"
   ]
  },
  {
   "cell_type": "code",
   "execution_count": 41,
   "metadata": {
    "scrolled": false
   },
   "outputs": [
    {
     "data": {
      "text/html": [
       "<table border=\"1\" class=\"dataframe\">\n",
       "  <thead>\n",
       "    <tr style=\"text-align: right;\">\n",
       "      <th>away_pitcher</th>\n",
       "      <th>home_pitcher</th>\n",
       "      <th>home</th>\n",
       "      <th>away</th>\n",
       "      <th>xgb_proba</th>\n",
       "      <th>home_odds</th>\n",
       "      <th>online_proba</th>\n",
       "      <th>confidence</th>\n",
       "      <th>conf_diff</th>\n",
       "      <th>pred_winner</th>\n",
       "      <th>conf</th>\n",
       "    </tr>\n",
       "  </thead>\n",
       "  <tbody>\n",
       "    <tr>\n",
       "      <td>biebesh01</td>\n",
       "      <td>pruitau01</td>\n",
       "      <td>TBR</td>\n",
       "      <td>CLE</td>\n",
       "      <td>0.185</td>\n",
       "      <td>125.000</td>\n",
       "      <td>0.444</td>\n",
       "      <td>0.815</td>\n",
       "      <td>0.259</td>\n",
       "      <td>Indians</td>\n",
       "      <td>0.815</td>\n",
       "    </tr>\n",
       "    <tr>\n",
       "      <td>anderch01</td>\n",
       "      <td>quintjo01</td>\n",
       "      <td>CHC</td>\n",
       "      <td>MIL</td>\n",
       "      <td>0.773</td>\n",
       "      <td>-149.000</td>\n",
       "      <td>0.598</td>\n",
       "      <td>0.773</td>\n",
       "      <td>0.175</td>\n",
       "      <td>Cubs</td>\n",
       "      <td>0.773</td>\n",
       "    </tr>\n",
       "    <tr>\n",
       "      <td>wheelza01</td>\n",
       "      <td>nolaaa01</td>\n",
       "      <td>PHI</td>\n",
       "      <td>NYM</td>\n",
       "      <td>0.688</td>\n",
       "      <td>-151.000</td>\n",
       "      <td>0.602</td>\n",
       "      <td>0.688</td>\n",
       "      <td>0.086</td>\n",
       "      <td>Phillies</td>\n",
       "      <td>0.688</td>\n",
       "    </tr>\n",
       "    <tr>\n",
       "      <td>bauertr01</td>\n",
       "      <td>hudsoda02</td>\n",
       "      <td>STL</td>\n",
       "      <td>CIN</td>\n",
       "      <td>0.640</td>\n",
       "      <td>-118.000</td>\n",
       "      <td>0.541</td>\n",
       "      <td>0.640</td>\n",
       "      <td>0.099</td>\n",
       "      <td>Cardinals</td>\n",
       "      <td>0.640</td>\n",
       "    </tr>\n",
       "    <tr>\n",
       "      <td>agrazda01</td>\n",
       "      <td>senzaan01</td>\n",
       "      <td>COL</td>\n",
       "      <td>PIT</td>\n",
       "      <td>0.638</td>\n",
       "      <td>-140.000</td>\n",
       "      <td>0.583</td>\n",
       "      <td>0.638</td>\n",
       "      <td>0.054</td>\n",
       "      <td>Rockies</td>\n",
       "      <td>0.638</td>\n",
       "    </tr>\n",
       "    <tr>\n",
       "      <td>gonzama02</td>\n",
       "      <td>allarko01</td>\n",
       "      <td>TEX</td>\n",
       "      <td>SEA</td>\n",
       "      <td>0.613</td>\n",
       "      <td>-112.000</td>\n",
       "      <td>0.528</td>\n",
       "      <td>0.613</td>\n",
       "      <td>0.085</td>\n",
       "      <td>Rangers</td>\n",
       "      <td>0.613</td>\n",
       "    </tr>\n",
       "    <tr>\n",
       "      <td>gonsoto01</td>\n",
       "      <td>galleza01</td>\n",
       "      <td>ARI</td>\n",
       "      <td>LAD</td>\n",
       "      <td>0.391</td>\n",
       "      <td>105.000</td>\n",
       "      <td>0.488</td>\n",
       "      <td>0.609</td>\n",
       "      <td>0.097</td>\n",
       "      <td>Dodgers</td>\n",
       "      <td>0.609</td>\n",
       "    </tr>\n",
       "    <tr>\n",
       "      <td>skogler01</td>\n",
       "      <td>Unknown</td>\n",
       "      <td>KCR</td>\n",
       "      <td>BAL</td>\n",
       "      <td>0.603</td>\n",
       "      <td>nan</td>\n",
       "      <td>nan</td>\n",
       "      <td>0.603</td>\n",
       "      <td>NaN</td>\n",
       "      <td>Royals</td>\n",
       "      <td>0.603</td>\n",
       "    </tr>\n",
       "    <tr>\n",
       "      <td>eovalna01</td>\n",
       "      <td>suarejo01</td>\n",
       "      <td>LAA</td>\n",
       "      <td>BOS</td>\n",
       "      <td>0.574</td>\n",
       "      <td>110.000</td>\n",
       "      <td>0.476</td>\n",
       "      <td>0.574</td>\n",
       "      <td>Contrary</td>\n",
       "      <td>Angels</td>\n",
       "      <td>0.574</td>\n",
       "    </tr>\n",
       "    <tr>\n",
       "      <td>mileywa01</td>\n",
       "      <td>thorntr01</td>\n",
       "      <td>TOR</td>\n",
       "      <td>HOU</td>\n",
       "      <td>0.443</td>\n",
       "      <td>174.000</td>\n",
       "      <td>0.365</td>\n",
       "      <td>0.557</td>\n",
       "      <td>-0.078</td>\n",
       "      <td>Astros</td>\n",
       "      <td>0.557</td>\n",
       "    </tr>\n",
       "    <tr>\n",
       "      <td>novaiv01</td>\n",
       "      <td>Unknown</td>\n",
       "      <td>ATL</td>\n",
       "      <td>CHW</td>\n",
       "      <td>0.557</td>\n",
       "      <td>-215.000</td>\n",
       "      <td>0.683</td>\n",
       "      <td>0.557</td>\n",
       "      <td>-0.126</td>\n",
       "      <td>Braves</td>\n",
       "      <td>0.557</td>\n",
       "    </tr>\n",
       "    <tr>\n",
       "      <td>lametdi01</td>\n",
       "      <td>bumgama01</td>\n",
       "      <td>SFG</td>\n",
       "      <td>SDP</td>\n",
       "      <td>0.552</td>\n",
       "      <td>-134.000</td>\n",
       "      <td>0.573</td>\n",
       "      <td>0.552</td>\n",
       "      <td>-0.021</td>\n",
       "      <td>Giants</td>\n",
       "      <td>0.552</td>\n",
       "    </tr>\n",
       "    <tr>\n",
       "      <td>gibsoky01</td>\n",
       "      <td>jacksed01</td>\n",
       "      <td>DET</td>\n",
       "      <td>MIN</td>\n",
       "      <td>0.452</td>\n",
       "      <td>235.000</td>\n",
       "      <td>0.299</td>\n",
       "      <td>0.548</td>\n",
       "      <td>-0.153</td>\n",
       "      <td>Twins</td>\n",
       "      <td>0.548</td>\n",
       "    </tr>\n",
       "    <tr>\n",
       "      <td>hernael01</td>\n",
       "      <td>sanchan01</td>\n",
       "      <td>WSN</td>\n",
       "      <td>MIA</td>\n",
       "      <td>0.463</td>\n",
       "      <td>-265.000</td>\n",
       "      <td>0.726</td>\n",
       "      <td>0.537</td>\n",
       "      <td>Contrary</td>\n",
       "      <td>Marlins</td>\n",
       "      <td>0.537</td>\n",
       "    </tr>\n",
       "    <tr>\n",
       "      <td>anderbr04</td>\n",
       "      <td>sabatc.01</td>\n",
       "      <td>NYY</td>\n",
       "      <td>OAK</td>\n",
       "      <td>0.480</td>\n",
       "      <td>-141.000</td>\n",
       "      <td>0.585</td>\n",
       "      <td>0.520</td>\n",
       "      <td>Contrary</td>\n",
       "      <td>Athletics</td>\n",
       "      <td>0.520</td>\n",
       "    </tr>\n",
       "  </tbody>\n",
       "</table>"
      ],
      "text/plain": [
       "<IPython.core.display.HTML object>"
      ]
     },
     "execution_count": 41,
     "metadata": {},
     "output_type": "execute_result"
    }
   ],
   "source": [
    "from IPython.display import HTML\n",
    "pd.options.display.float_format = '{:.3f}'.format\n",
    "\n",
    "pred_df['conf'] = pred_df.confidence\n",
    "HTML(pred_df.sort_values(by='confidence', ascending=False).to_html(index=False))"
   ]
  },
  {
   "cell_type": "code",
   "execution_count": 60,
   "metadata": {},
   "outputs": [
    {
     "name": "stdout",
     "output_type": "stream",
     "text": [
      "2-Team Parlays:\n",
      "- Indians, Cubs  \t 0.630\n",
      "- Cubs, Phillies  \t 0.532\n",
      "- Phillies, Cardinals  \t 0.440\n",
      "- Cardinals, Rockies  \t 0.408\n",
      "- Rockies, Rangers  \t 0.391\n"
     ]
    }
   ],
   "source": [
    "print(\"2-Team Parlays:\")\n",
    "pred_df = pred_df.sort_values(by='conf', ascending=False).reset_index(drop=True)\n",
    "for i in range(5):\n",
    "    t1 = pred_df.iloc[i]\n",
    "    t2 = pred_df.iloc[i+1]\n",
    "    print(f\"- {t1.pred_winner}, {t2.pred_winner}  \\t{t1.conf*t2.conf: .3f}\")"
   ]
  },
  {
   "cell_type": "code",
   "execution_count": null,
   "metadata": {},
   "outputs": [],
   "source": []
  }
 ],
 "metadata": {
  "kernelspec": {
   "display_name": "Python 3",
   "language": "python",
   "name": "python3"
  },
  "language_info": {
   "codemirror_mode": {
    "name": "ipython",
    "version": 3
   },
   "file_extension": ".py",
   "mimetype": "text/x-python",
   "name": "python",
   "nbconvert_exporter": "python",
   "pygments_lexer": "ipython3",
   "version": "3.7.3"
  },
  "toc": {
   "base_numbering": 1,
   "nav_menu": {},
   "number_sections": true,
   "sideBar": true,
   "skip_h1_title": false,
   "title_cell": "Table of Contents",
   "title_sidebar": "Contents",
   "toc_cell": false,
   "toc_position": {},
   "toc_section_display": true,
   "toc_window_display": false
  }
 },
 "nbformat": 4,
 "nbformat_minor": 2
}
