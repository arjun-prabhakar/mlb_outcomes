{
 "cells": [
  {
   "cell_type": "code",
   "execution_count": 1,
   "metadata": {},
   "outputs": [],
   "source": [
    "import pandas as pd\n",
    "import numpy as np\n",
    "import matplotlib.pyplot as plt"
   ]
  },
  {
   "cell_type": "code",
   "execution_count": 2,
   "metadata": {},
   "outputs": [],
   "source": [
    "%matplotlib inline\n",
    "%load_ext autoreload\n",
    "%autoreload 2\n",
    "\n",
    "import warnings\n",
    "warnings.filterwarnings('ignore')\n",
    "warnings.simplefilter(action='ignore', category=FutureWarning)"
   ]
  },
  {
   "cell_type": "code",
   "execution_count": 3,
   "metadata": {},
   "outputs": [],
   "source": [
    "import sys\n",
    "sys.path.append('../code')\n",
    "import scrape, features\n",
    "import dataframe_utilities as util"
   ]
  },
  {
   "cell_type": "markdown",
   "metadata": {},
   "source": [
    "# Update DB & Get Today Games"
   ]
  },
  {
   "cell_type": "code",
   "execution_count": 4,
   "metadata": {},
   "outputs": [
    {
     "data": {
      "text/plain": [
       "Timestamp('2019-08-20 00:00:00')"
      ]
     },
     "execution_count": 4,
     "metadata": {},
     "output_type": "execute_result"
    }
   ],
   "source": [
    "last_day = pd.to_datetime(pd.read_csv('../data/game_summaries.csv')['date']).max()\n",
    "get_day = last_day + pd.Timedelta(days=1)\n",
    "get_day"
   ]
  },
  {
   "cell_type": "code",
   "execution_count": 5,
   "metadata": {},
   "outputs": [
    {
     "name": "stdout",
     "output_type": "stream",
     "text": [
      "ARI201908190 done\n",
      "BAL201908190 done\n",
      "CIN201908190 done\n",
      "HOU201908190 done\n",
      "MIN201908190 done\n",
      "PIT201908190 done\n",
      "SLN201908190 done\n",
      "TBA201908190 done\n",
      "TEX201908190 done\n"
     ]
    }
   ],
   "source": [
    "while get_day.date() < pd.datetime.today().date():\n",
    "    links = scrape.get_game_links(get_day)\n",
    "    for l in links:\n",
    "        scrape.process_link(l)\n",
    "    get_day += + pd.Timedelta(days=1)"
   ]
  },
  {
   "cell_type": "code",
   "execution_count": 6,
   "metadata": {},
   "outputs": [
    {
     "name": "stdout",
     "output_type": "stream",
     "text": [
      "no pitcher {'away_team_abbr': 'SEA', 'home_team_abbr': 'TBR', 'time': '1:10PM', 'away_pitcher': 'mortoch02'}\n",
      "no pitcher {'away_team_abbr': 'SFG', 'home_team_abbr': 'CHC', 'time': '8:05PM'}\n"
     ]
    }
   ],
   "source": [
    "test_df = scrape.get_today_games()"
   ]
  },
  {
   "cell_type": "code",
   "execution_count": 7,
   "metadata": {},
   "outputs": [
    {
     "data": {
      "text/html": [
       "<div>\n",
       "<style scoped>\n",
       "    .dataframe tbody tr th:only-of-type {\n",
       "        vertical-align: middle;\n",
       "    }\n",
       "\n",
       "    .dataframe tbody tr th {\n",
       "        vertical-align: top;\n",
       "    }\n",
       "\n",
       "    .dataframe thead th {\n",
       "        text-align: right;\n",
       "    }\n",
       "</style>\n",
       "<table border=\"1\" class=\"dataframe\">\n",
       "  <thead>\n",
       "    <tr style=\"text-align: right;\">\n",
       "      <th></th>\n",
       "      <th>away_pitcher</th>\n",
       "      <th>away_team_abbr</th>\n",
       "      <th>home_pitcher</th>\n",
       "      <th>home_team_abbr</th>\n",
       "      <th>time</th>\n",
       "      <th>date</th>\n",
       "    </tr>\n",
       "  </thead>\n",
       "  <tbody>\n",
       "    <tr>\n",
       "      <th>0</th>\n",
       "      <td>strahma01</td>\n",
       "      <td>SDP</td>\n",
       "      <td>castilu02</td>\n",
       "      <td>CIN</td>\n",
       "      <td>12:35PM</td>\n",
       "      <td>2019-08-21</td>\n",
       "    </tr>\n",
       "    <tr>\n",
       "      <th>1</th>\n",
       "      <td>mortoch02</td>\n",
       "      <td>SEA</td>\n",
       "      <td>NaN</td>\n",
       "      <td>TBR</td>\n",
       "      <td>1:10PM</td>\n",
       "      <td>2019-08-21</td>\n",
       "    </tr>\n",
       "    <tr>\n",
       "      <th>2</th>\n",
       "      <td>giolilu01</td>\n",
       "      <td>CHW</td>\n",
       "      <td>odorija01</td>\n",
       "      <td>MIN</td>\n",
       "      <td>1:10PM</td>\n",
       "      <td>2019-08-21</td>\n",
       "    </tr>\n",
       "    <tr>\n",
       "      <th>3</th>\n",
       "      <td>grayjo02</td>\n",
       "      <td>COL</td>\n",
       "      <td>leakemi01</td>\n",
       "      <td>ARI</td>\n",
       "      <td>3:40PM</td>\n",
       "      <td>2019-08-21</td>\n",
       "    </tr>\n",
       "    <tr>\n",
       "      <th>4</th>\n",
       "      <td>corbipa01</td>\n",
       "      <td>WSN</td>\n",
       "      <td>musgrjo01</td>\n",
       "      <td>PIT</td>\n",
       "      <td>7:05PM</td>\n",
       "      <td>2019-08-21</td>\n",
       "    </tr>\n",
       "    <tr>\n",
       "      <th>5</th>\n",
       "      <td>sandopa02</td>\n",
       "      <td>LAA</td>\n",
       "      <td>minormi01</td>\n",
       "      <td>TEX</td>\n",
       "      <td>7:05PM</td>\n",
       "      <td>2019-08-21</td>\n",
       "    </tr>\n",
       "    <tr>\n",
       "      <th>6</th>\n",
       "      <td>montgmi01</td>\n",
       "      <td>KCR</td>\n",
       "      <td>brookaa01</td>\n",
       "      <td>BAL</td>\n",
       "      <td>7:05PM</td>\n",
       "      <td>2019-08-21</td>\n",
       "    </tr>\n",
       "    <tr>\n",
       "      <th>7</th>\n",
       "      <td>smylydr01</td>\n",
       "      <td>PHI</td>\n",
       "      <td>porceri01</td>\n",
       "      <td>BOS</td>\n",
       "      <td>7:10PM</td>\n",
       "      <td>2019-08-21</td>\n",
       "    </tr>\n",
       "    <tr>\n",
       "      <th>8</th>\n",
       "      <td>plutkad01</td>\n",
       "      <td>CLE</td>\n",
       "      <td>stromma01</td>\n",
       "      <td>NYM</td>\n",
       "      <td>7:10PM</td>\n",
       "      <td>2019-08-21</td>\n",
       "    </tr>\n",
       "    <tr>\n",
       "      <th>9</th>\n",
       "      <td>smithca03</td>\n",
       "      <td>MIA</td>\n",
       "      <td>teherju01</td>\n",
       "      <td>ATL</td>\n",
       "      <td>7:20PM</td>\n",
       "      <td>2019-08-21</td>\n",
       "    </tr>\n",
       "    <tr>\n",
       "      <th>10</th>\n",
       "      <td>housead01</td>\n",
       "      <td>MIL</td>\n",
       "      <td>wainwad01</td>\n",
       "      <td>STL</td>\n",
       "      <td>7:45PM</td>\n",
       "      <td>2019-08-21</td>\n",
       "    </tr>\n",
       "    <tr>\n",
       "      <th>11</th>\n",
       "      <td>NaN</td>\n",
       "      <td>SFG</td>\n",
       "      <td>NaN</td>\n",
       "      <td>CHC</td>\n",
       "      <td>8:05PM</td>\n",
       "      <td>2019-08-21</td>\n",
       "    </tr>\n",
       "    <tr>\n",
       "      <th>12</th>\n",
       "      <td>norrida01</td>\n",
       "      <td>DET</td>\n",
       "      <td>verlaju01</td>\n",
       "      <td>HOU</td>\n",
       "      <td>8:10PM</td>\n",
       "      <td>2019-08-21</td>\n",
       "    </tr>\n",
       "    <tr>\n",
       "      <th>13</th>\n",
       "      <td>happja01</td>\n",
       "      <td>NYY</td>\n",
       "      <td>fiersmi01</td>\n",
       "      <td>OAK</td>\n",
       "      <td>10:07PM</td>\n",
       "      <td>2019-08-21</td>\n",
       "    </tr>\n",
       "    <tr>\n",
       "      <th>14</th>\n",
       "      <td>fontwi01</td>\n",
       "      <td>TOR</td>\n",
       "      <td>buehlwa01</td>\n",
       "      <td>LAD</td>\n",
       "      <td>10:10PM</td>\n",
       "      <td>2019-08-21</td>\n",
       "    </tr>\n",
       "  </tbody>\n",
       "</table>\n",
       "</div>"
      ],
      "text/plain": [
       "   away_pitcher away_team_abbr home_pitcher home_team_abbr     time  \\\n",
       "0     strahma01            SDP    castilu02            CIN  12:35PM   \n",
       "1     mortoch02            SEA          NaN            TBR   1:10PM   \n",
       "2     giolilu01            CHW    odorija01            MIN   1:10PM   \n",
       "3      grayjo02            COL    leakemi01            ARI   3:40PM   \n",
       "4     corbipa01            WSN    musgrjo01            PIT   7:05PM   \n",
       "5     sandopa02            LAA    minormi01            TEX   7:05PM   \n",
       "6     montgmi01            KCR    brookaa01            BAL   7:05PM   \n",
       "7     smylydr01            PHI    porceri01            BOS   7:10PM   \n",
       "8     plutkad01            CLE    stromma01            NYM   7:10PM   \n",
       "9     smithca03            MIA    teherju01            ATL   7:20PM   \n",
       "10    housead01            MIL    wainwad01            STL   7:45PM   \n",
       "11          NaN            SFG          NaN            CHC   8:05PM   \n",
       "12    norrida01            DET    verlaju01            HOU   8:10PM   \n",
       "13     happja01            NYY    fiersmi01            OAK  10:07PM   \n",
       "14     fontwi01            TOR    buehlwa01            LAD  10:10PM   \n",
       "\n",
       "          date  \n",
       "0   2019-08-21  \n",
       "1   2019-08-21  \n",
       "2   2019-08-21  \n",
       "3   2019-08-21  \n",
       "4   2019-08-21  \n",
       "5   2019-08-21  \n",
       "6   2019-08-21  \n",
       "7   2019-08-21  \n",
       "8   2019-08-21  \n",
       "9   2019-08-21  \n",
       "10  2019-08-21  \n",
       "11  2019-08-21  \n",
       "12  2019-08-21  \n",
       "13  2019-08-21  \n",
       "14  2019-08-21  "
      ]
     },
     "execution_count": 7,
     "metadata": {},
     "output_type": "execute_result"
    }
   ],
   "source": [
    "test_df"
   ]
  },
  {
   "cell_type": "markdown",
   "metadata": {},
   "source": [
    "# Process Stats for Today's Games"
   ]
  },
  {
   "cell_type": "markdown",
   "metadata": {},
   "source": [
    "## Merge test and train dfs"
   ]
  },
  {
   "cell_type": "code",
   "execution_count": 8,
   "metadata": {},
   "outputs": [],
   "source": [
    "test_df['is_night_game'] = True\n",
    "test_df['is_night_game'][test_df['time'].str[:1].astype('int')<5] = False\n",
    "test_df['is_night_game'][test_df['time'].str[1:2].isin(['0','1'])] = True #for 10,11 PM games\n",
    "test_df.drop(columns='time', inplace=True)"
   ]
  },
  {
   "cell_type": "code",
   "execution_count": 9,
   "metadata": {},
   "outputs": [
    {
     "data": {
      "text/plain": [
       "(15, 9)"
      ]
     },
     "execution_count": 9,
     "metadata": {},
     "output_type": "execute_result"
    }
   ],
   "source": [
    "test_df['is_test'] = True\n",
    "test_df['home_team_win']=np.nan\n",
    "test_df['game_id'] = test_df.home_team_abbr + test_df.date.astype('str').str.replace('-','') + '0'\n",
    "test_df.shape"
   ]
  },
  {
   "cell_type": "code",
   "execution_count": 10,
   "metadata": {},
   "outputs": [
    {
     "data": {
      "text/plain": [
       "(24090, 9)"
      ]
     },
     "execution_count": 10,
     "metadata": {},
     "output_type": "execute_result"
    }
   ],
   "source": [
    "df = features.get_game_df()\n",
    "df['is_test'] = False\n",
    "df.shape"
   ]
  },
  {
   "cell_type": "code",
   "execution_count": 11,
   "metadata": {},
   "outputs": [
    {
     "data": {
      "text/plain": [
       "(24105, 9)"
      ]
     },
     "execution_count": 11,
     "metadata": {},
     "output_type": "execute_result"
    }
   ],
   "source": [
    "df = pd.concat([df,test_df])\n",
    "df = df.sort_values(by='date').reset_index(drop=True)\n",
    "df.shape"
   ]
  },
  {
   "cell_type": "markdown",
   "metadata": {},
   "source": [
    "## Add Features"
   ]
  },
  {
   "cell_type": "code",
   "execution_count": 12,
   "metadata": {},
   "outputs": [
    {
     "data": {
      "text/plain": [
       "(24105, 18)"
      ]
     },
     "execution_count": 12,
     "metadata": {},
     "output_type": "execute_result"
    }
   ],
   "source": [
    "df = features.add_trueskill_ratings(df)\n",
    "df = features.add_rest_durations(df)\n",
    "df.shape"
   ]
  },
  {
   "cell_type": "code",
   "execution_count": 13,
   "metadata": {},
   "outputs": [],
   "source": [
    "#datetime\n",
    "date = pd.to_datetime(df['date'])\n",
    "df['season'] = date.dt.year\n",
    "df['month']=date.dt.month\n",
    "df['week_num'] = date.dt.week\n",
    "df['dow']=date.dt.weekday.astype('int')"
   ]
  },
  {
   "cell_type": "code",
   "execution_count": 14,
   "metadata": {},
   "outputs": [],
   "source": [
    "df['dh_game_no'] = pd.to_numeric(df['game_id'].str[-1:],errors='coerce')\n",
    "df['date'] = (pd.to_datetime(df['date']) - pd.Timestamp(\"1970-01-01\")) // pd.Timedelta('1s') #epoch time"
   ]
  },
  {
   "cell_type": "markdown",
   "metadata": {},
   "source": [
    "### Add Stats"
   ]
  },
  {
   "cell_type": "code",
   "execution_count": 15,
   "metadata": {},
   "outputs": [],
   "source": [
    "games = features.get_games()\n",
    "batting = features.get_batting()\n",
    "pitching = features.get_pitching()\n",
    "pitchers = features.get_pitchers()"
   ]
  },
  {
   "cell_type": "markdown",
   "metadata": {},
   "source": [
    "#### Rolling 10 Day Stats"
   ]
  },
  {
   "cell_type": "code",
   "execution_count": 16,
   "metadata": {},
   "outputs": [],
   "source": [
    "b_stats = ['batting_avg','leverage_index_avg', 'onbase_perc', 'onbase_plus_slugging']\n",
    "df = features.add_10RA_rolling(batting, df, b_stats, True, 'batting')"
   ]
  },
  {
   "cell_type": "code",
   "execution_count": 17,
   "metadata": {},
   "outputs": [],
   "source": [
    "pitching['SO_batters_faced'] = pitching['SO'] / pitching['batters_faced']\n",
    "pitching['H_batters_faced'] = pitching['H'] / pitching['batters_faced']\n",
    "pitching['BB_batters_faced'] = pitching['BB'] / pitching['batters_faced']\n",
    "\n",
    "# create rolling stat\n",
    "b_stats = ['earned_run_avg','SO_batters_faced','H_batters_faced','BB_batters_faced']\n",
    "df = features.add_10RA_rolling(pitching, df, b_stats, True, 'team_pitching')"
   ]
  },
  {
   "cell_type": "code",
   "execution_count": 18,
   "metadata": {},
   "outputs": [],
   "source": [
    "pitchers['SO_batters_faced'] = pitchers['SO'] / pitchers['batters_faced']\n",
    "pitchers['H_batters_faced'] = pitchers['H'] / pitchers['batters_faced']\n",
    "pitchers['BB_batters_faced'] = pitchers['BB'] / pitchers['batters_faced']\n",
    "\n",
    "# create rolling stat\n",
    "b_stats = ['earned_run_avg','SO_batters_faced','H_batters_faced','BB_batters_faced']\n",
    "df = features.add_10RA_rolling(pitchers, df, b_stats, False, 'pitcher')"
   ]
  },
  {
   "cell_type": "markdown",
   "metadata": {},
   "source": [
    "#### Games Stats"
   ]
  },
  {
   "cell_type": "code",
   "execution_count": 19,
   "metadata": {
    "scrolled": true
   },
   "outputs": [],
   "source": [
    "df = features.game_stats(games,df)"
   ]
  },
  {
   "cell_type": "code",
   "execution_count": 20,
   "metadata": {
    "scrolled": true
   },
   "outputs": [
    {
     "data": {
      "text/plain": [
       "(24105, 82)"
      ]
     },
     "execution_count": 20,
     "metadata": {},
     "output_type": "execute_result"
    }
   ],
   "source": [
    "df.shape"
   ]
  },
  {
   "cell_type": "markdown",
   "metadata": {},
   "source": [
    "#### Season Stats"
   ]
  },
  {
   "cell_type": "code",
   "execution_count": 21,
   "metadata": {},
   "outputs": [
    {
     "data": {
      "text/plain": [
       "(24105, 222)"
      ]
     },
     "execution_count": 21,
     "metadata": {},
     "output_type": "execute_result"
    }
   ],
   "source": [
    "batting_stats = ['A', 'AB', 'BB', 'H', 'PA', 'PO', 'R', 'RBI', 'SO', 'batting_avg',\n",
    "             'leverage_index_avg', 'onbase_perc', 'onbase_plus_slugging', 'pitches', \n",
    "             're24_bat', 'slugging_perc', 'strikes_total', 'wpa_bat', 'wpa_bat_neg', \n",
    "             'wpa_bat_pos']\n",
    "df = features.add_season_rolling(batting, df, batting_stats, True,'batting')\n",
    "df.shape"
   ]
  },
  {
   "cell_type": "code",
   "execution_count": 22,
   "metadata": {},
   "outputs": [
    {
     "data": {
      "text/plain": [
       "(24105, 411)"
      ]
     },
     "execution_count": 22,
     "metadata": {},
     "output_type": "execute_result"
    }
   ],
   "source": [
    "pitching_stats = ['BB', 'ER', 'H', 'HR', 'IP', 'R', 'SO', 'batters_faced',\n",
    "               'earned_run_avg', 'game_score', 'inherited_runners',\n",
    "               'inherited_score', 'inplay_fb_total', 'inplay_gb_total', 'inplay_ld',\n",
    "               'inplay_unk', 'leverage_index_avg', 'pitches', 're24_def',\n",
    "               'strikes_contact', 'strikes_looking', 'strikes_swinging',\n",
    "               'strikes_total', 'wpa_def','SO_batters_faced','H_batters_faced',\n",
    "                'BB_batters_faced']\n",
    "df = features.add_season_rolling(pitching, df, pitching_stats, True,'team_pitching')\n",
    "df.shape"
   ]
  },
  {
   "cell_type": "code",
   "execution_count": 23,
   "metadata": {},
   "outputs": [
    {
     "data": {
      "text/plain": [
       "(24105, 600)"
      ]
     },
     "execution_count": 23,
     "metadata": {},
     "output_type": "execute_result"
    }
   ],
   "source": [
    "df = features.add_season_rolling(pitchers, df, pitching_stats, False,'pitcher')\n",
    "df.shape"
   ]
  },
  {
   "cell_type": "markdown",
   "metadata": {},
   "source": [
    "## Cleanup"
   ]
  },
  {
   "cell_type": "code",
   "execution_count": 24,
   "metadata": {},
   "outputs": [],
   "source": [
    "df = util.fix_na(df, False)"
   ]
  },
  {
   "cell_type": "markdown",
   "metadata": {},
   "source": [
    "# Generate Predictions"
   ]
  },
  {
   "cell_type": "code",
   "execution_count": 25,
   "metadata": {},
   "outputs": [],
   "source": [
    "X_test = df[df.is_test].drop(columns=['is_test'])\n",
    "cols = pd.read_csv(\"../data/df_w_features.csv\").columns\n",
    "X_test = X_test[cols]\n",
    "\n",
    "X_test.drop(columns=['home_team_win','game_id'], inplace=True)"
   ]
  },
  {
   "cell_type": "code",
   "execution_count": 26,
   "metadata": {},
   "outputs": [
    {
     "data": {
      "text/plain": [
       "(CatBoostEncoder(cols=['home_team_abbr', 'away_team_abbr', 'home_pitcher',\n",
       "                       'away_pitcher', 'home_team_season', 'away_team_season'],\n",
       "                 drop_invariant=False, handle_missing='value',\n",
       "                 handle_unknown='value', random_state=13, return_df=True,\n",
       "                 sigma=None, verbose=0),\n",
       " XGBClassifier(base_score=0.5, booster='gbtree', colsample_bylevel=1,\n",
       "               colsample_bynode=None, colsample_bytree=0.65, gamma=0,\n",
       "               learning_rate=0.3, max_delta_step=0, max_depth=26,\n",
       "               min_child_weight=18.0, missing=nan, n_estimators=100, n_jobs=1,\n",
       "               nthread=None, num_boost_round=100, objective='binary:logistic',\n",
       "               random_state=13, reg_alpha=0.057490000000000006, reg_lambda=1,\n",
       "               scale_pos_weight=1, seed=None, silent=True,\n",
       "               subsample=0.6000000000000001, verbosity=None))"
      ]
     },
     "execution_count": 26,
     "metadata": {},
     "output_type": "execute_result"
    }
   ],
   "source": [
    "import pickle\n",
    "encoder, model = pickle.load(open('../data/encoder_model.pk','rb'))\n",
    "encoder, model"
   ]
  },
  {
   "cell_type": "code",
   "execution_count": 27,
   "metadata": {},
   "outputs": [
    {
     "data": {
      "text/html": [
       "<div>\n",
       "<style scoped>\n",
       "    .dataframe tbody tr th:only-of-type {\n",
       "        vertical-align: middle;\n",
       "    }\n",
       "\n",
       "    .dataframe tbody tr th {\n",
       "        vertical-align: top;\n",
       "    }\n",
       "\n",
       "    .dataframe thead th {\n",
       "        text-align: right;\n",
       "    }\n",
       "</style>\n",
       "<table border=\"1\" class=\"dataframe\">\n",
       "  <thead>\n",
       "    <tr style=\"text-align: right;\">\n",
       "      <th></th>\n",
       "      <th>away_pitcher</th>\n",
       "      <th>away_team_abbr</th>\n",
       "      <th>home_pitcher</th>\n",
       "      <th>home_team_abbr</th>\n",
       "      <th>xgb_probability</th>\n",
       "      <th>xgb_winner</th>\n",
       "    </tr>\n",
       "  </thead>\n",
       "  <tbody>\n",
       "    <tr>\n",
       "      <th>24090</th>\n",
       "      <td>giolilu01</td>\n",
       "      <td>CHW</td>\n",
       "      <td>odorija01</td>\n",
       "      <td>MIN</td>\n",
       "      <td>0.540249</td>\n",
       "      <td>MIN</td>\n",
       "    </tr>\n",
       "    <tr>\n",
       "      <th>24091</th>\n",
       "      <td>housead01</td>\n",
       "      <td>MIL</td>\n",
       "      <td>wainwad01</td>\n",
       "      <td>STL</td>\n",
       "      <td>0.733115</td>\n",
       "      <td>STL</td>\n",
       "    </tr>\n",
       "    <tr>\n",
       "      <th>24092</th>\n",
       "      <td>corbipa01</td>\n",
       "      <td>WSN</td>\n",
       "      <td>musgrjo01</td>\n",
       "      <td>PIT</td>\n",
       "      <td>0.428208</td>\n",
       "      <td>WSN</td>\n",
       "    </tr>\n",
       "    <tr>\n",
       "      <th>24093</th>\n",
       "      <td>happja01</td>\n",
       "      <td>NYY</td>\n",
       "      <td>fiersmi01</td>\n",
       "      <td>OAK</td>\n",
       "      <td>0.692220</td>\n",
       "      <td>OAK</td>\n",
       "    </tr>\n",
       "    <tr>\n",
       "      <th>24094</th>\n",
       "      <td>plutkad01</td>\n",
       "      <td>CLE</td>\n",
       "      <td>stromma01</td>\n",
       "      <td>NYM</td>\n",
       "      <td>0.516305</td>\n",
       "      <td>NYM</td>\n",
       "    </tr>\n",
       "    <tr>\n",
       "      <th>24095</th>\n",
       "      <td>fontwi01</td>\n",
       "      <td>TOR</td>\n",
       "      <td>buehlwa01</td>\n",
       "      <td>LAD</td>\n",
       "      <td>0.655450</td>\n",
       "      <td>LAD</td>\n",
       "    </tr>\n",
       "    <tr>\n",
       "      <th>24096</th>\n",
       "      <td>mortoch02</td>\n",
       "      <td>SEA</td>\n",
       "      <td>Unknown</td>\n",
       "      <td>TBR</td>\n",
       "      <td>0.479512</td>\n",
       "      <td>SEA</td>\n",
       "    </tr>\n",
       "    <tr>\n",
       "      <th>24097</th>\n",
       "      <td>strahma01</td>\n",
       "      <td>SDP</td>\n",
       "      <td>castilu02</td>\n",
       "      <td>CIN</td>\n",
       "      <td>0.645518</td>\n",
       "      <td>CIN</td>\n",
       "    </tr>\n",
       "    <tr>\n",
       "      <th>24098</th>\n",
       "      <td>Unknown</td>\n",
       "      <td>SFG</td>\n",
       "      <td>Unknown</td>\n",
       "      <td>CHC</td>\n",
       "      <td>0.577858</td>\n",
       "      <td>CHC</td>\n",
       "    </tr>\n",
       "    <tr>\n",
       "      <th>24099</th>\n",
       "      <td>smylydr01</td>\n",
       "      <td>PHI</td>\n",
       "      <td>porceri01</td>\n",
       "      <td>BOS</td>\n",
       "      <td>0.624853</td>\n",
       "      <td>BOS</td>\n",
       "    </tr>\n",
       "    <tr>\n",
       "      <th>24100</th>\n",
       "      <td>montgmi01</td>\n",
       "      <td>KCR</td>\n",
       "      <td>brookaa01</td>\n",
       "      <td>BAL</td>\n",
       "      <td>0.593648</td>\n",
       "      <td>BAL</td>\n",
       "    </tr>\n",
       "    <tr>\n",
       "      <th>24101</th>\n",
       "      <td>smithca03</td>\n",
       "      <td>MIA</td>\n",
       "      <td>teherju01</td>\n",
       "      <td>ATL</td>\n",
       "      <td>0.687720</td>\n",
       "      <td>ATL</td>\n",
       "    </tr>\n",
       "    <tr>\n",
       "      <th>24102</th>\n",
       "      <td>grayjo02</td>\n",
       "      <td>COL</td>\n",
       "      <td>leakemi01</td>\n",
       "      <td>ARI</td>\n",
       "      <td>0.622148</td>\n",
       "      <td>ARI</td>\n",
       "    </tr>\n",
       "    <tr>\n",
       "      <th>24103</th>\n",
       "      <td>norrida01</td>\n",
       "      <td>DET</td>\n",
       "      <td>verlaju01</td>\n",
       "      <td>HOU</td>\n",
       "      <td>0.845530</td>\n",
       "      <td>HOU</td>\n",
       "    </tr>\n",
       "    <tr>\n",
       "      <th>24104</th>\n",
       "      <td>sandopa02</td>\n",
       "      <td>LAA</td>\n",
       "      <td>minormi01</td>\n",
       "      <td>TEX</td>\n",
       "      <td>0.503489</td>\n",
       "      <td>TEX</td>\n",
       "    </tr>\n",
       "  </tbody>\n",
       "</table>\n",
       "</div>"
      ],
      "text/plain": [
       "      away_pitcher away_team_abbr home_pitcher home_team_abbr  \\\n",
       "24090    giolilu01            CHW    odorija01            MIN   \n",
       "24091    housead01            MIL    wainwad01            STL   \n",
       "24092    corbipa01            WSN    musgrjo01            PIT   \n",
       "24093     happja01            NYY    fiersmi01            OAK   \n",
       "24094    plutkad01            CLE    stromma01            NYM   \n",
       "24095     fontwi01            TOR    buehlwa01            LAD   \n",
       "24096    mortoch02            SEA      Unknown            TBR   \n",
       "24097    strahma01            SDP    castilu02            CIN   \n",
       "24098      Unknown            SFG      Unknown            CHC   \n",
       "24099    smylydr01            PHI    porceri01            BOS   \n",
       "24100    montgmi01            KCR    brookaa01            BAL   \n",
       "24101    smithca03            MIA    teherju01            ATL   \n",
       "24102     grayjo02            COL    leakemi01            ARI   \n",
       "24103    norrida01            DET    verlaju01            HOU   \n",
       "24104    sandopa02            LAA    minormi01            TEX   \n",
       "\n",
       "       xgb_probability xgb_winner  \n",
       "24090         0.540249        MIN  \n",
       "24091         0.733115        STL  \n",
       "24092         0.428208        WSN  \n",
       "24093         0.692220        OAK  \n",
       "24094         0.516305        NYM  \n",
       "24095         0.655450        LAD  \n",
       "24096         0.479512        SEA  \n",
       "24097         0.645518        CIN  \n",
       "24098         0.577858        CHC  \n",
       "24099         0.624853        BOS  \n",
       "24100         0.593648        BAL  \n",
       "24101         0.687720        ATL  \n",
       "24102         0.622148        ARI  \n",
       "24103         0.845530        HOU  \n",
       "24104         0.503489        TEX  "
      ]
     },
     "execution_count": 27,
     "metadata": {},
     "output_type": "execute_result"
    }
   ],
   "source": [
    "X_test = encoder.transform(X_test)\n",
    "\n",
    "test_df = test_df.sort_values(by=['date','game_id']).reset_index(drop=True)\n",
    "pred_df = df[df.is_test][['away_pitcher', 'away_team_abbr', 'home_pitcher', 'home_team_abbr']]\n",
    "pred_df['xgb_probability']= model.predict_proba(X_test)[:,1]\n",
    "pred_df['xgb_winner']=pred_df.home_team_abbr\n",
    "pred_df['xgb_winner'][~model.predict(X_test)]=pred_df.away_team_abbr\n",
    "\n",
    "pred_df"
   ]
  },
  {
   "cell_type": "code",
   "execution_count": null,
   "metadata": {},
   "outputs": [],
   "source": []
  }
 ],
 "metadata": {
  "kernelspec": {
   "display_name": "Python 3",
   "language": "python",
   "name": "python3"
  },
  "language_info": {
   "codemirror_mode": {
    "name": "ipython",
    "version": 3
   },
   "file_extension": ".py",
   "mimetype": "text/x-python",
   "name": "python",
   "nbconvert_exporter": "python",
   "pygments_lexer": "ipython3",
   "version": "3.7.3"
  },
  "toc": {
   "base_numbering": 1,
   "nav_menu": {},
   "number_sections": true,
   "sideBar": true,
   "skip_h1_title": false,
   "title_cell": "Table of Contents",
   "title_sidebar": "Contents",
   "toc_cell": false,
   "toc_position": {},
   "toc_section_display": true,
   "toc_window_display": true
  }
 },
 "nbformat": 4,
 "nbformat_minor": 2
}
