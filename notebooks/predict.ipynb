{
 "cells": [
  {
   "cell_type": "code",
   "execution_count": 1,
   "metadata": {},
   "outputs": [],
   "source": [
    "import pandas as pd\n",
    "import numpy as np\n",
    "import matplotlib.pyplot as plt"
   ]
  },
  {
   "cell_type": "code",
   "execution_count": 2,
   "metadata": {},
   "outputs": [],
   "source": [
    "%matplotlib inline\n",
    "%load_ext autoreload\n",
    "%autoreload 2\n",
    "\n",
    "import warnings\n",
    "warnings.filterwarnings('ignore')\n",
    "warnings.simplefilter(action='ignore', category=FutureWarning)"
   ]
  },
  {
   "cell_type": "code",
   "execution_count": 3,
   "metadata": {},
   "outputs": [],
   "source": [
    "import sys\n",
    "sys.path.append('../code')\n",
    "import scrape, features\n",
    "import dataframe_utilities as util"
   ]
  },
  {
   "cell_type": "markdown",
   "metadata": {},
   "source": [
    "# Update DB & Get Today Games"
   ]
  },
  {
   "cell_type": "code",
   "execution_count": 4,
   "metadata": {},
   "outputs": [
    {
     "data": {
      "text/plain": [
       "Timestamp('2019-08-19 00:00:00')"
      ]
     },
     "execution_count": 4,
     "metadata": {},
     "output_type": "execute_result"
    }
   ],
   "source": [
    "last_day = pd.to_datetime(pd.read_csv('../data/game_summaries.csv')['date']).max()\n",
    "get_day = last_day + pd.Timedelta(days=1)\n",
    "get_day"
   ]
  },
  {
   "cell_type": "code",
   "execution_count": 5,
   "metadata": {},
   "outputs": [
    {
     "name": "stdout",
     "output_type": "stream",
     "text": [
      "ANA201908180 done\n",
      "ARI201908180 done\n",
      "ATL201908180 done\n",
      "BOS201908180 done\n",
      "CIN201908180 done\n",
      "COL201908180 done\n",
      "KCA201908180 done\n",
      "NYA201908180 done\n",
      "OAK201908180 done\n",
      "PHI201908180 done\n",
      "PIT201908180 done\n",
      "TBA201908180 done\n",
      "TEX201908180 done\n",
      "TOR201908180 done\n",
      "WAS201908180 done\n"
     ]
    }
   ],
   "source": [
    "while get_day.date() < pd.datetime.today().date():\n",
    "    links = scrape.get_game_links(get_day)\n",
    "    for l in links:\n",
    "        scrape.process_link(l)\n",
    "    get_day += + pd.Timedelta(days=1)"
   ]
  },
  {
   "cell_type": "code",
   "execution_count": 6,
   "metadata": {},
   "outputs": [
    {
     "name": "stdout",
     "output_type": "stream",
     "text": [
      "no pitcher {'away_team_abbr': 'SEA', 'home_team_abbr': 'TBR', 'time': '7:10PM', 'away_pitcher': 'castidi01'}\n",
      "no pitcher {'away_team_abbr': 'PHI', 'home_team_abbr': 'BOS', 'time': '7:10PM', 'away_pitcher': 'nolaaa01'}\n"
     ]
    }
   ],
   "source": [
    "test_df = scrape.get_today_games()"
   ]
  },
  {
   "cell_type": "code",
   "execution_count": 7,
   "metadata": {},
   "outputs": [
    {
     "data": {
      "text/html": [
       "<div>\n",
       "<style scoped>\n",
       "    .dataframe tbody tr th:only-of-type {\n",
       "        vertical-align: middle;\n",
       "    }\n",
       "\n",
       "    .dataframe tbody tr th {\n",
       "        vertical-align: top;\n",
       "    }\n",
       "\n",
       "    .dataframe thead th {\n",
       "        text-align: right;\n",
       "    }\n",
       "</style>\n",
       "<table border=\"1\" class=\"dataframe\">\n",
       "  <thead>\n",
       "    <tr style=\"text-align: right;\">\n",
       "      <th></th>\n",
       "      <th>away_pitcher</th>\n",
       "      <th>away_team_abbr</th>\n",
       "      <th>home_pitcher</th>\n",
       "      <th>home_team_abbr</th>\n",
       "      <th>time</th>\n",
       "      <th>date</th>\n",
       "    </tr>\n",
       "  </thead>\n",
       "  <tbody>\n",
       "    <tr>\n",
       "      <th>0</th>\n",
       "      <td>heanean01</td>\n",
       "      <td>LAA</td>\n",
       "      <td>palumjo01</td>\n",
       "      <td>TEX</td>\n",
       "      <td>2:05PM</td>\n",
       "      <td>2019-08-20</td>\n",
       "    </tr>\n",
       "    <tr>\n",
       "      <th>1</th>\n",
       "      <td>strasst01</td>\n",
       "      <td>WSN</td>\n",
       "      <td>archech01</td>\n",
       "      <td>PIT</td>\n",
       "      <td>7:05PM</td>\n",
       "      <td>2019-08-20</td>\n",
       "    </tr>\n",
       "    <tr>\n",
       "      <th>2</th>\n",
       "      <td>kellebr01</td>\n",
       "      <td>KCR</td>\n",
       "      <td>bundydy01</td>\n",
       "      <td>BAL</td>\n",
       "      <td>7:05PM</td>\n",
       "      <td>2019-08-20</td>\n",
       "    </tr>\n",
       "    <tr>\n",
       "      <th>3</th>\n",
       "      <td>biebesh01</td>\n",
       "      <td>CLE</td>\n",
       "      <td>matzst01</td>\n",
       "      <td>NYM</td>\n",
       "      <td>7:10PM</td>\n",
       "      <td>2019-08-20</td>\n",
       "    </tr>\n",
       "    <tr>\n",
       "      <th>4</th>\n",
       "      <td>castidi01</td>\n",
       "      <td>SEA</td>\n",
       "      <td>NaN</td>\n",
       "      <td>TBR</td>\n",
       "      <td>7:10PM</td>\n",
       "      <td>2019-08-20</td>\n",
       "    </tr>\n",
       "    <tr>\n",
       "      <th>5</th>\n",
       "      <td>quantca01</td>\n",
       "      <td>SDP</td>\n",
       "      <td>grayso01</td>\n",
       "      <td>CIN</td>\n",
       "      <td>7:10PM</td>\n",
       "      <td>2019-08-20</td>\n",
       "    </tr>\n",
       "    <tr>\n",
       "      <th>6</th>\n",
       "      <td>nolaaa01</td>\n",
       "      <td>PHI</td>\n",
       "      <td>NaN</td>\n",
       "      <td>BOS</td>\n",
       "      <td>7:10PM</td>\n",
       "      <td>2019-08-20</td>\n",
       "    </tr>\n",
       "    <tr>\n",
       "      <th>7</th>\n",
       "      <td>hernael01</td>\n",
       "      <td>MIA</td>\n",
       "      <td>keuchda01</td>\n",
       "      <td>ATL</td>\n",
       "      <td>7:20PM</td>\n",
       "      <td>2019-08-20</td>\n",
       "    </tr>\n",
       "    <tr>\n",
       "      <th>8</th>\n",
       "      <td>gonzagi01</td>\n",
       "      <td>MIL</td>\n",
       "      <td>wachami01</td>\n",
       "      <td>STL</td>\n",
       "      <td>7:45PM</td>\n",
       "      <td>2019-08-20</td>\n",
       "    </tr>\n",
       "    <tr>\n",
       "      <th>9</th>\n",
       "      <td>beedety01</td>\n",
       "      <td>SFG</td>\n",
       "      <td>hamelco01</td>\n",
       "      <td>CHC</td>\n",
       "      <td>8:05PM</td>\n",
       "      <td>2019-08-20</td>\n",
       "    </tr>\n",
       "    <tr>\n",
       "      <th>10</th>\n",
       "      <td>barrija01</td>\n",
       "      <td>LAA</td>\n",
       "      <td></td>\n",
       "      <td>TEX</td>\n",
       "      <td>8:05PM</td>\n",
       "      <td>2019-08-20</td>\n",
       "    </tr>\n",
       "    <tr>\n",
       "      <th>11</th>\n",
       "      <td>lopezre01</td>\n",
       "      <td>CHW</td>\n",
       "      <td>pinedmi01</td>\n",
       "      <td>MIN</td>\n",
       "      <td>8:10PM</td>\n",
       "      <td>2019-08-20</td>\n",
       "    </tr>\n",
       "    <tr>\n",
       "      <th>12</th>\n",
       "      <td>turnbsp01</td>\n",
       "      <td>DET</td>\n",
       "      <td>sanchaa01</td>\n",
       "      <td>HOU</td>\n",
       "      <td>8:10PM</td>\n",
       "      <td>2019-08-20</td>\n",
       "    </tr>\n",
       "    <tr>\n",
       "      <th>13</th>\n",
       "      <td>freelky01</td>\n",
       "      <td>COL</td>\n",
       "      <td>youngal01</td>\n",
       "      <td>ARI</td>\n",
       "      <td>9:40PM</td>\n",
       "      <td>2019-08-20</td>\n",
       "    </tr>\n",
       "    <tr>\n",
       "      <th>14</th>\n",
       "      <td>germado01</td>\n",
       "      <td>NYY</td>\n",
       "      <td>baileho02</td>\n",
       "      <td>OAK</td>\n",
       "      <td>10:07PM</td>\n",
       "      <td>2019-08-20</td>\n",
       "    </tr>\n",
       "    <tr>\n",
       "      <th>15</th>\n",
       "      <td>reidfse01</td>\n",
       "      <td>TOR</td>\n",
       "      <td>kershcl01</td>\n",
       "      <td>LAD</td>\n",
       "      <td>10:10PM</td>\n",
       "      <td>2019-08-20</td>\n",
       "    </tr>\n",
       "  </tbody>\n",
       "</table>\n",
       "</div>"
      ],
      "text/plain": [
       "   away_pitcher away_team_abbr home_pitcher home_team_abbr     time  \\\n",
       "0     heanean01            LAA    palumjo01            TEX   2:05PM   \n",
       "1     strasst01            WSN    archech01            PIT   7:05PM   \n",
       "2     kellebr01            KCR    bundydy01            BAL   7:05PM   \n",
       "3     biebesh01            CLE     matzst01            NYM   7:10PM   \n",
       "4     castidi01            SEA          NaN            TBR   7:10PM   \n",
       "5     quantca01            SDP     grayso01            CIN   7:10PM   \n",
       "6      nolaaa01            PHI          NaN            BOS   7:10PM   \n",
       "7     hernael01            MIA    keuchda01            ATL   7:20PM   \n",
       "8     gonzagi01            MIL    wachami01            STL   7:45PM   \n",
       "9     beedety01            SFG    hamelco01            CHC   8:05PM   \n",
       "10    barrija01            LAA                         TEX   8:05PM   \n",
       "11    lopezre01            CHW    pinedmi01            MIN   8:10PM   \n",
       "12    turnbsp01            DET    sanchaa01            HOU   8:10PM   \n",
       "13    freelky01            COL    youngal01            ARI   9:40PM   \n",
       "14    germado01            NYY    baileho02            OAK  10:07PM   \n",
       "15    reidfse01            TOR    kershcl01            LAD  10:10PM   \n",
       "\n",
       "          date  \n",
       "0   2019-08-20  \n",
       "1   2019-08-20  \n",
       "2   2019-08-20  \n",
       "3   2019-08-20  \n",
       "4   2019-08-20  \n",
       "5   2019-08-20  \n",
       "6   2019-08-20  \n",
       "7   2019-08-20  \n",
       "8   2019-08-20  \n",
       "9   2019-08-20  \n",
       "10  2019-08-20  \n",
       "11  2019-08-20  \n",
       "12  2019-08-20  \n",
       "13  2019-08-20  \n",
       "14  2019-08-20  \n",
       "15  2019-08-20  "
      ]
     },
     "execution_count": 7,
     "metadata": {},
     "output_type": "execute_result"
    }
   ],
   "source": [
    "test_df"
   ]
  },
  {
   "cell_type": "markdown",
   "metadata": {},
   "source": [
    "# Process Stats for Today's Games"
   ]
  },
  {
   "cell_type": "markdown",
   "metadata": {},
   "source": [
    "## Merge test and train dfs"
   ]
  },
  {
   "cell_type": "code",
   "execution_count": 8,
   "metadata": {},
   "outputs": [],
   "source": [
    "test_df['is_night_game'] = True\n",
    "test_df['is_night_game'][test_df['time'].str[:1].astype('int')<5] = False\n",
    "test_df['is_night_game'][test_df['time'].str[1:2].isin(['0','1'])] = True #for 10,11 PM games\n",
    "test_df.drop(columns='time', inplace=True)"
   ]
  },
  {
   "cell_type": "code",
   "execution_count": 9,
   "metadata": {},
   "outputs": [
    {
     "data": {
      "text/plain": [
       "(16, 9)"
      ]
     },
     "execution_count": 9,
     "metadata": {},
     "output_type": "execute_result"
    }
   ],
   "source": [
    "test_df['is_test'] = True\n",
    "test_df['home_team_win']=np.nan\n",
    "test_df['game_id'] = test_df.home_team_abbr + test_df.date.astype('str').str.replace('-','') + '0'\n",
    "test_df.shape"
   ]
  },
  {
   "cell_type": "code",
   "execution_count": 10,
   "metadata": {},
   "outputs": [
    {
     "data": {
      "text/plain": [
       "(24094, 9)"
      ]
     },
     "execution_count": 10,
     "metadata": {},
     "output_type": "execute_result"
    }
   ],
   "source": [
    "df = features.get_game_df()\n",
    "df['is_test'] = False\n",
    "df.shape"
   ]
  },
  {
   "cell_type": "code",
   "execution_count": 11,
   "metadata": {},
   "outputs": [
    {
     "data": {
      "text/plain": [
       "(24110, 9)"
      ]
     },
     "execution_count": 11,
     "metadata": {},
     "output_type": "execute_result"
    }
   ],
   "source": [
    "df = pd.concat([df,test_df])\n",
    "df = df.sort_values(by='date').reset_index(drop=True)\n",
    "df.shape"
   ]
  },
  {
   "cell_type": "markdown",
   "metadata": {},
   "source": [
    "## Add Features"
   ]
  },
  {
   "cell_type": "code",
   "execution_count": 12,
   "metadata": {},
   "outputs": [
    {
     "data": {
      "text/plain": [
       "(24110, 18)"
      ]
     },
     "execution_count": 12,
     "metadata": {},
     "output_type": "execute_result"
    }
   ],
   "source": [
    "df = features.add_trueskill_ratings(df)\n",
    "df = features.add_rest_durations(df)\n",
    "df.shape"
   ]
  },
  {
   "cell_type": "code",
   "execution_count": 13,
   "metadata": {},
   "outputs": [],
   "source": [
    "#datetime\n",
    "date = pd.to_datetime(df['date'])\n",
    "df['season'] = date.dt.year\n",
    "df['month']=date.dt.month\n",
    "df['week_num'] = date.dt.week\n",
    "df['dow']=date.dt.weekday.astype('int')"
   ]
  },
  {
   "cell_type": "code",
   "execution_count": 14,
   "metadata": {},
   "outputs": [],
   "source": [
    "df['dh_game_no'] = pd.to_numeric(df['game_id'].str[-1:],errors='coerce')\n",
    "df['date'] = (pd.to_datetime(df['date']) - pd.Timestamp(\"1970-01-01\")) // pd.Timedelta('1s') #epoch time"
   ]
  },
  {
   "cell_type": "markdown",
   "metadata": {},
   "source": [
    "### Add Stats"
   ]
  },
  {
   "cell_type": "code",
   "execution_count": 15,
   "metadata": {},
   "outputs": [],
   "source": [
    "games = features.get_games()\n",
    "batting = features.get_batting()\n",
    "pitching = features.get_pitching()\n",
    "pitchers = features.get_pitchers()"
   ]
  },
  {
   "cell_type": "markdown",
   "metadata": {},
   "source": [
    "#### Rolling 10 Day Stats"
   ]
  },
  {
   "cell_type": "code",
   "execution_count": 16,
   "metadata": {},
   "outputs": [],
   "source": [
    "b_stats = ['batting_avg','leverage_index_avg', 'onbase_perc', 'onbase_plus_slugging']\n",
    "df = features.add_10RA_rolling(batting, df, b_stats, True, 'batting')"
   ]
  },
  {
   "cell_type": "code",
   "execution_count": 17,
   "metadata": {},
   "outputs": [],
   "source": [
    "pitching['SO_batters_faced'] = pitching['SO'] / pitching['batters_faced']\n",
    "pitching['H_batters_faced'] = pitching['H'] / pitching['batters_faced']\n",
    "pitching['BB_batters_faced'] = pitching['BB'] / pitching['batters_faced']\n",
    "\n",
    "# create rolling stat\n",
    "b_stats = ['earned_run_avg','SO_batters_faced','H_batters_faced','BB_batters_faced']\n",
    "df = features.add_10RA_rolling(pitching, df, b_stats, True, 'team_pitching')"
   ]
  },
  {
   "cell_type": "code",
   "execution_count": 18,
   "metadata": {},
   "outputs": [],
   "source": [
    "pitchers['SO_batters_faced'] = pitchers['SO'] / pitchers['batters_faced']\n",
    "pitchers['H_batters_faced'] = pitchers['H'] / pitchers['batters_faced']\n",
    "pitchers['BB_batters_faced'] = pitchers['BB'] / pitchers['batters_faced']\n",
    "\n",
    "# create rolling stat\n",
    "b_stats = ['earned_run_avg','SO_batters_faced','H_batters_faced','BB_batters_faced']\n",
    "df = features.add_10RA_rolling(pitchers, df, b_stats, False, 'pitcher')"
   ]
  },
  {
   "cell_type": "markdown",
   "metadata": {},
   "source": [
    "#### Games Stats"
   ]
  },
  {
   "cell_type": "code",
   "execution_count": 19,
   "metadata": {
    "scrolled": true
   },
   "outputs": [],
   "source": [
    "df = features.game_stats(games,df)"
   ]
  },
  {
   "cell_type": "code",
   "execution_count": 20,
   "metadata": {
    "scrolled": true
   },
   "outputs": [
    {
     "data": {
      "text/plain": [
       "(24110, 82)"
      ]
     },
     "execution_count": 20,
     "metadata": {},
     "output_type": "execute_result"
    }
   ],
   "source": [
    "df.shape"
   ]
  },
  {
   "cell_type": "markdown",
   "metadata": {},
   "source": [
    "#### Season Stats"
   ]
  },
  {
   "cell_type": "code",
   "execution_count": 21,
   "metadata": {},
   "outputs": [
    {
     "data": {
      "text/plain": [
       "(24110, 222)"
      ]
     },
     "execution_count": 21,
     "metadata": {},
     "output_type": "execute_result"
    }
   ],
   "source": [
    "batting_stats = ['A', 'AB', 'BB', 'H', 'PA', 'PO', 'R', 'RBI', 'SO', 'batting_avg',\n",
    "             'leverage_index_avg', 'onbase_perc', 'onbase_plus_slugging', 'pitches', \n",
    "             're24_bat', 'slugging_perc', 'strikes_total', 'wpa_bat', 'wpa_bat_neg', \n",
    "             'wpa_bat_pos']\n",
    "df = features.add_season_rolling(batting, df, batting_stats, True,'batting')\n",
    "df.shape"
   ]
  },
  {
   "cell_type": "code",
   "execution_count": 22,
   "metadata": {},
   "outputs": [
    {
     "data": {
      "text/plain": [
       "(24110, 411)"
      ]
     },
     "execution_count": 22,
     "metadata": {},
     "output_type": "execute_result"
    }
   ],
   "source": [
    "pitching_stats = ['BB', 'ER', 'H', 'HR', 'IP', 'R', 'SO', 'batters_faced',\n",
    "               'earned_run_avg', 'game_score', 'inherited_runners',\n",
    "               'inherited_score', 'inplay_fb_total', 'inplay_gb_total', 'inplay_ld',\n",
    "               'inplay_unk', 'leverage_index_avg', 'pitches', 're24_def',\n",
    "               'strikes_contact', 'strikes_looking', 'strikes_swinging',\n",
    "               'strikes_total', 'wpa_def','SO_batters_faced','H_batters_faced',\n",
    "                'BB_batters_faced']\n",
    "df = features.add_season_rolling(pitching, df, pitching_stats, True,'team_pitching')\n",
    "df.shape"
   ]
  },
  {
   "cell_type": "code",
   "execution_count": 23,
   "metadata": {},
   "outputs": [
    {
     "data": {
      "text/plain": [
       "(24110, 600)"
      ]
     },
     "execution_count": 23,
     "metadata": {},
     "output_type": "execute_result"
    }
   ],
   "source": [
    "df = features.add_season_rolling(pitchers, df, pitching_stats, False,'pitcher')\n",
    "df.shape"
   ]
  },
  {
   "cell_type": "markdown",
   "metadata": {},
   "source": [
    "## Cleanup"
   ]
  },
  {
   "cell_type": "code",
   "execution_count": 24,
   "metadata": {},
   "outputs": [],
   "source": [
    "df = util.fix_na(df, False)"
   ]
  },
  {
   "cell_type": "markdown",
   "metadata": {},
   "source": [
    "# Generate Predictions"
   ]
  },
  {
   "cell_type": "code",
   "execution_count": 25,
   "metadata": {},
   "outputs": [],
   "source": [
    "X_test = df[df.is_test].drop(columns=['is_test'])\n",
    "cols = pd.read_csv(\"../data/df_w_features.csv\").columns\n",
    "X_test = X_test[cols]\n",
    "\n",
    "X_test.drop(columns=['home_team_win','game_id'], inplace=True)"
   ]
  },
  {
   "cell_type": "code",
   "execution_count": 26,
   "metadata": {},
   "outputs": [
    {
     "data": {
      "text/plain": [
       "(CatBoostEncoder(cols=['home_team_abbr', 'away_team_abbr', 'home_pitcher', 'away_pitcher', 'home_team_season', 'away_team_season'],\n",
       "         drop_invariant=False, handle_missing='value',\n",
       "         handle_unknown='value', random_state=13, return_df=True,\n",
       "         sigma=None, verbose=0),\n",
       " XGBClassifier(base_score=0.5, booster='gbtree', colsample_bylevel=1,\n",
       "        colsample_bytree=0.45, gamma=0, learning_rate=0.03,\n",
       "        max_delta_step=0, max_depth=27, min_child_weight=7.0, missing=nan,\n",
       "        n_estimators=100, n_jobs=1, nthread=None, num_boost_round=100,\n",
       "        objective='binary:logistic', random_state=13,\n",
       "        reg_alpha=6.417040000000001, reg_lambda=1, scale_pos_weight=1,\n",
       "        seed=None, silent=True, subsample=0.05))"
      ]
     },
     "execution_count": 26,
     "metadata": {},
     "output_type": "execute_result"
    }
   ],
   "source": [
    "import pickle\n",
    "encoder, model = pickle.load(open('../data/encoder_model.pk','rb'))\n",
    "encoder, model"
   ]
  },
  {
   "cell_type": "code",
   "execution_count": 27,
   "metadata": {},
   "outputs": [
    {
     "data": {
      "text/html": [
       "<div>\n",
       "<style scoped>\n",
       "    .dataframe tbody tr th:only-of-type {\n",
       "        vertical-align: middle;\n",
       "    }\n",
       "\n",
       "    .dataframe tbody tr th {\n",
       "        vertical-align: top;\n",
       "    }\n",
       "\n",
       "    .dataframe thead th {\n",
       "        text-align: right;\n",
       "    }\n",
       "</style>\n",
       "<table border=\"1\" class=\"dataframe\">\n",
       "  <thead>\n",
       "    <tr style=\"text-align: right;\">\n",
       "      <th></th>\n",
       "      <th>away_pitcher</th>\n",
       "      <th>away_team_abbr</th>\n",
       "      <th>home_pitcher</th>\n",
       "      <th>home_team_abbr</th>\n",
       "      <th>xgb_probability</th>\n",
       "      <th>xgb_winner</th>\n",
       "    </tr>\n",
       "  </thead>\n",
       "  <tbody>\n",
       "    <tr>\n",
       "      <th>24094</th>\n",
       "      <td>lopezre01</td>\n",
       "      <td>CHW</td>\n",
       "      <td>pinedmi01</td>\n",
       "      <td>MIN</td>\n",
       "      <td>0.525883</td>\n",
       "      <td>MIN</td>\n",
       "    </tr>\n",
       "    <tr>\n",
       "      <th>24095</th>\n",
       "      <td>castidi01</td>\n",
       "      <td>SEA</td>\n",
       "      <td>Unknown</td>\n",
       "      <td>TBR</td>\n",
       "      <td>0.531755</td>\n",
       "      <td>TBR</td>\n",
       "    </tr>\n",
       "    <tr>\n",
       "      <th>24096</th>\n",
       "      <td>gonzagi01</td>\n",
       "      <td>MIL</td>\n",
       "      <td>wachami01</td>\n",
       "      <td>STL</td>\n",
       "      <td>0.498785</td>\n",
       "      <td>MIL</td>\n",
       "    </tr>\n",
       "    <tr>\n",
       "      <th>24097</th>\n",
       "      <td>strasst01</td>\n",
       "      <td>WSN</td>\n",
       "      <td>archech01</td>\n",
       "      <td>PIT</td>\n",
       "      <td>0.488138</td>\n",
       "      <td>WSN</td>\n",
       "    </tr>\n",
       "    <tr>\n",
       "      <th>24098</th>\n",
       "      <td>germado01</td>\n",
       "      <td>NYY</td>\n",
       "      <td>baileho02</td>\n",
       "      <td>OAK</td>\n",
       "      <td>0.468748</td>\n",
       "      <td>NYY</td>\n",
       "    </tr>\n",
       "    <tr>\n",
       "      <th>24099</th>\n",
       "      <td>biebesh01</td>\n",
       "      <td>CLE</td>\n",
       "      <td>matzst01</td>\n",
       "      <td>NYM</td>\n",
       "      <td>0.471647</td>\n",
       "      <td>CLE</td>\n",
       "    </tr>\n",
       "    <tr>\n",
       "      <th>24100</th>\n",
       "      <td>reidfse01</td>\n",
       "      <td>TOR</td>\n",
       "      <td>kershcl01</td>\n",
       "      <td>LAD</td>\n",
       "      <td>0.574231</td>\n",
       "      <td>LAD</td>\n",
       "    </tr>\n",
       "    <tr>\n",
       "      <th>24101</th>\n",
       "      <td>barrija01</td>\n",
       "      <td>LAA</td>\n",
       "      <td></td>\n",
       "      <td>TEX</td>\n",
       "      <td>0.583371</td>\n",
       "      <td>TEX</td>\n",
       "    </tr>\n",
       "    <tr>\n",
       "      <th>24102</th>\n",
       "      <td>quantca01</td>\n",
       "      <td>SDP</td>\n",
       "      <td>grayso01</td>\n",
       "      <td>CIN</td>\n",
       "      <td>0.499282</td>\n",
       "      <td>SDP</td>\n",
       "    </tr>\n",
       "    <tr>\n",
       "      <th>24103</th>\n",
       "      <td>beedety01</td>\n",
       "      <td>SFG</td>\n",
       "      <td>hamelco01</td>\n",
       "      <td>CHC</td>\n",
       "      <td>0.560410</td>\n",
       "      <td>CHC</td>\n",
       "    </tr>\n",
       "    <tr>\n",
       "      <th>24104</th>\n",
       "      <td>nolaaa01</td>\n",
       "      <td>PHI</td>\n",
       "      <td>Unknown</td>\n",
       "      <td>BOS</td>\n",
       "      <td>0.515995</td>\n",
       "      <td>BOS</td>\n",
       "    </tr>\n",
       "    <tr>\n",
       "      <th>24105</th>\n",
       "      <td>kellebr01</td>\n",
       "      <td>KCR</td>\n",
       "      <td>bundydy01</td>\n",
       "      <td>BAL</td>\n",
       "      <td>0.503904</td>\n",
       "      <td>BAL</td>\n",
       "    </tr>\n",
       "    <tr>\n",
       "      <th>24106</th>\n",
       "      <td>hernael01</td>\n",
       "      <td>MIA</td>\n",
       "      <td>keuchda01</td>\n",
       "      <td>ATL</td>\n",
       "      <td>0.571129</td>\n",
       "      <td>ATL</td>\n",
       "    </tr>\n",
       "    <tr>\n",
       "      <th>24107</th>\n",
       "      <td>freelky01</td>\n",
       "      <td>COL</td>\n",
       "      <td>youngal01</td>\n",
       "      <td>ARI</td>\n",
       "      <td>0.532666</td>\n",
       "      <td>ARI</td>\n",
       "    </tr>\n",
       "    <tr>\n",
       "      <th>24108</th>\n",
       "      <td>turnbsp01</td>\n",
       "      <td>DET</td>\n",
       "      <td>sanchaa01</td>\n",
       "      <td>HOU</td>\n",
       "      <td>0.585746</td>\n",
       "      <td>HOU</td>\n",
       "    </tr>\n",
       "    <tr>\n",
       "      <th>24109</th>\n",
       "      <td>heanean01</td>\n",
       "      <td>LAA</td>\n",
       "      <td>palumjo01</td>\n",
       "      <td>TEX</td>\n",
       "      <td>0.553540</td>\n",
       "      <td>TEX</td>\n",
       "    </tr>\n",
       "  </tbody>\n",
       "</table>\n",
       "</div>"
      ],
      "text/plain": [
       "      away_pitcher away_team_abbr home_pitcher home_team_abbr  \\\n",
       "24094    lopezre01            CHW    pinedmi01            MIN   \n",
       "24095    castidi01            SEA      Unknown            TBR   \n",
       "24096    gonzagi01            MIL    wachami01            STL   \n",
       "24097    strasst01            WSN    archech01            PIT   \n",
       "24098    germado01            NYY    baileho02            OAK   \n",
       "24099    biebesh01            CLE     matzst01            NYM   \n",
       "24100    reidfse01            TOR    kershcl01            LAD   \n",
       "24101    barrija01            LAA                         TEX   \n",
       "24102    quantca01            SDP     grayso01            CIN   \n",
       "24103    beedety01            SFG    hamelco01            CHC   \n",
       "24104     nolaaa01            PHI      Unknown            BOS   \n",
       "24105    kellebr01            KCR    bundydy01            BAL   \n",
       "24106    hernael01            MIA    keuchda01            ATL   \n",
       "24107    freelky01            COL    youngal01            ARI   \n",
       "24108    turnbsp01            DET    sanchaa01            HOU   \n",
       "24109    heanean01            LAA    palumjo01            TEX   \n",
       "\n",
       "       xgb_probability xgb_winner  \n",
       "24094         0.525883        MIN  \n",
       "24095         0.531755        TBR  \n",
       "24096         0.498785        MIL  \n",
       "24097         0.488138        WSN  \n",
       "24098         0.468748        NYY  \n",
       "24099         0.471647        CLE  \n",
       "24100         0.574231        LAD  \n",
       "24101         0.583371        TEX  \n",
       "24102         0.499282        SDP  \n",
       "24103         0.560410        CHC  \n",
       "24104         0.515995        BOS  \n",
       "24105         0.503904        BAL  \n",
       "24106         0.571129        ATL  \n",
       "24107         0.532666        ARI  \n",
       "24108         0.585746        HOU  \n",
       "24109         0.553540        TEX  "
      ]
     },
     "execution_count": 27,
     "metadata": {},
     "output_type": "execute_result"
    }
   ],
   "source": [
    "X_test = encoder.transform(X_test)\n",
    "\n",
    "test_df = test_df.sort_values(by=['date','game_id']).reset_index(drop=True)\n",
    "pred_df = df[df.is_test][['away_pitcher', 'away_team_abbr', 'home_pitcher', 'home_team_abbr']]\n",
    "pred_df['xgb_probability']= model.predict_proba(X_test)[:,1]\n",
    "pred_df['xgb_winner']=pred_df.home_team_abbr\n",
    "pred_df['xgb_winner'][~model.predict(X_test)]=pred_df.away_team_abbr\n",
    "\n",
    "pred_df"
   ]
  },
  {
   "cell_type": "code",
   "execution_count": null,
   "metadata": {},
   "outputs": [],
   "source": []
  }
 ],
 "metadata": {
  "kernelspec": {
   "display_name": "Python 3",
   "language": "python",
   "name": "python3"
  },
  "language_info": {
   "codemirror_mode": {
    "name": "ipython",
    "version": 3
   },
   "file_extension": ".py",
   "mimetype": "text/x-python",
   "name": "python",
   "nbconvert_exporter": "python",
   "pygments_lexer": "ipython3",
   "version": "3.6.8"
  },
  "toc": {
   "base_numbering": 1,
   "nav_menu": {},
   "number_sections": true,
   "sideBar": true,
   "skip_h1_title": false,
   "title_cell": "Table of Contents",
   "title_sidebar": "Contents",
   "toc_cell": false,
   "toc_position": {},
   "toc_section_display": true,
   "toc_window_display": true
  }
 },
 "nbformat": 4,
 "nbformat_minor": 2
}
