{
 "cells": [
  {
   "cell_type": "code",
   "execution_count": 1,
   "metadata": {},
   "outputs": [],
   "source": [
    "import pandas as pd\n",
    "import numpy as np\n",
    "import matplotlib.pyplot as plt"
   ]
  },
  {
   "cell_type": "code",
   "execution_count": 2,
   "metadata": {},
   "outputs": [],
   "source": [
    "%matplotlib inline\n",
    "%load_ext autoreload\n",
    "%autoreload 2\n",
    "\n",
    "import warnings\n",
    "warnings.filterwarnings('ignore')\n",
    "warnings.simplefilter(action='ignore', category=FutureWarning)"
   ]
  },
  {
   "cell_type": "code",
   "execution_count": 3,
   "metadata": {},
   "outputs": [],
   "source": [
    "import sys\n",
    "sys.path.append('../code')\n",
    "import scrape, features\n",
    "import dataframe_utilities as util"
   ]
  },
  {
   "cell_type": "markdown",
   "metadata": {},
   "source": [
    "# Update DB & Get Today Games"
   ]
  },
  {
   "cell_type": "code",
   "execution_count": 4,
   "metadata": {},
   "outputs": [
    {
     "data": {
      "text/plain": [
       "Timestamp('2019-08-23 00:00:00')"
      ]
     },
     "execution_count": 4,
     "metadata": {},
     "output_type": "execute_result"
    }
   ],
   "source": [
    "last_day = pd.to_datetime(pd.read_csv('../data/game_summaries.csv')['date']).max()\n",
    "get_day = last_day + pd.Timedelta(days=1)\n",
    "get_day"
   ]
  },
  {
   "cell_type": "code",
   "execution_count": 5,
   "metadata": {},
   "outputs": [
    {
     "name": "stdout",
     "output_type": "stream",
     "text": [
      "BAL201908230 done\n",
      "CHA201908230 done\n",
      "CHN201908230 done\n",
      "CLE201908230 done\n",
      "HOU201908230 done\n",
      "LAN201908230 done\n",
      "MIA201908230 done\n",
      "MIL201908230 done\n",
      "MIN201908230 done\n",
      "NYN201908230 done\n",
      "PIT201908230 done\n",
      "SDN201908230 done\n",
      "SEA201908230 done\n",
      "SLN201908230 done\n"
     ]
    }
   ],
   "source": [
    "while get_day.date() < pd.datetime.today().date():\n",
    "    links = scrape.get_game_links(get_day)\n",
    "    for l in links:\n",
    "        scrape.process_link(l)\n",
    "    get_day += + pd.Timedelta(days=1)"
   ]
  },
  {
   "cell_type": "code",
   "execution_count": 6,
   "metadata": {},
   "outputs": [],
   "source": [
    "test_df = scrape.get_today_games()"
   ]
  },
  {
   "cell_type": "code",
   "execution_count": 7,
   "metadata": {},
   "outputs": [
    {
     "data": {
      "text/html": [
       "<div>\n",
       "<style scoped>\n",
       "    .dataframe tbody tr th:only-of-type {\n",
       "        vertical-align: middle;\n",
       "    }\n",
       "\n",
       "    .dataframe tbody tr th {\n",
       "        vertical-align: top;\n",
       "    }\n",
       "\n",
       "    .dataframe thead th {\n",
       "        text-align: right;\n",
       "    }\n",
       "</style>\n",
       "<table border=\"1\" class=\"dataframe\">\n",
       "  <thead>\n",
       "    <tr style=\"text-align: right;\">\n",
       "      <th></th>\n",
       "      <th>away_pitcher</th>\n",
       "      <th>away_team_abbr</th>\n",
       "      <th>home_pitcher</th>\n",
       "      <th>home_team_abbr</th>\n",
       "      <th>time</th>\n",
       "      <th>date</th>\n",
       "    </tr>\n",
       "  </thead>\n",
       "  <tbody>\n",
       "    <tr>\n",
       "      <th>0</th>\n",
       "      <td>rossjo01</td>\n",
       "      <td>WSN</td>\n",
       "      <td>quintjo01</td>\n",
       "      <td>CHC</td>\n",
       "      <td>2:20PM</td>\n",
       "      <td>2019-08-24</td>\n",
       "    </tr>\n",
       "    <tr>\n",
       "      <th>1</th>\n",
       "      <td>sabatc.01</td>\n",
       "      <td>NYY</td>\n",
       "      <td>gonsoto01</td>\n",
       "      <td>LAD</td>\n",
       "      <td>4:05PM</td>\n",
       "      <td>2019-08-24</td>\n",
       "    </tr>\n",
       "    <tr>\n",
       "      <th>2</th>\n",
       "      <td>eflinza01</td>\n",
       "      <td>PHI</td>\n",
       "      <td>yamamjo01</td>\n",
       "      <td>MIA</td>\n",
       "      <td>6:10PM</td>\n",
       "      <td>2019-08-24</td>\n",
       "    </tr>\n",
       "    <tr>\n",
       "      <th>3</th>\n",
       "      <td>alvarjo03</td>\n",
       "      <td>TBR</td>\n",
       "      <td>meansjo01</td>\n",
       "      <td>BAL</td>\n",
       "      <td>7:05PM</td>\n",
       "      <td>2019-08-24</td>\n",
       "    </tr>\n",
       "    <tr>\n",
       "      <th>4</th>\n",
       "      <td>woodal02</td>\n",
       "      <td>CIN</td>\n",
       "      <td>willitr01</td>\n",
       "      <td>PIT</td>\n",
       "      <td>7:05PM</td>\n",
       "      <td>2019-08-24</td>\n",
       "    </tr>\n",
       "    <tr>\n",
       "      <th>5</th>\n",
       "      <td>friedma01</td>\n",
       "      <td>ATL</td>\n",
       "      <td>wheelza01</td>\n",
       "      <td>NYM</td>\n",
       "      <td>7:10PM</td>\n",
       "      <td>2019-08-24</td>\n",
       "    </tr>\n",
       "    <tr>\n",
       "      <th>6</th>\n",
       "      <td>jacksed01</td>\n",
       "      <td>DET</td>\n",
       "      <td>gibsoky01</td>\n",
       "      <td>MIN</td>\n",
       "      <td>7:10PM</td>\n",
       "      <td>2019-08-24</td>\n",
       "    </tr>\n",
       "    <tr>\n",
       "      <th>7</th>\n",
       "      <td>galleza01</td>\n",
       "      <td>ARI</td>\n",
       "      <td>anderch01</td>\n",
       "      <td>MIL</td>\n",
       "      <td>7:10PM</td>\n",
       "      <td>2019-08-24</td>\n",
       "    </tr>\n",
       "    <tr>\n",
       "      <th>8</th>\n",
       "      <td>peterdi01</td>\n",
       "      <td>LAA</td>\n",
       "      <td>mileywa01</td>\n",
       "      <td>HOU</td>\n",
       "      <td>7:10PM</td>\n",
       "      <td>2019-08-24</td>\n",
       "    </tr>\n",
       "    <tr>\n",
       "      <th>9</th>\n",
       "      <td>sparkgl01</td>\n",
       "      <td>KCR</td>\n",
       "      <td>clevimi01</td>\n",
       "      <td>CLE</td>\n",
       "      <td>7:10PM</td>\n",
       "      <td>2019-08-24</td>\n",
       "    </tr>\n",
       "    <tr>\n",
       "      <th>10</th>\n",
       "      <td>allarko01</td>\n",
       "      <td>TEX</td>\n",
       "      <td>novaiv01</td>\n",
       "      <td>CHW</td>\n",
       "      <td>7:10PM</td>\n",
       "      <td>2019-08-24</td>\n",
       "    </tr>\n",
       "    <tr>\n",
       "      <th>11</th>\n",
       "      <td>gonzach01</td>\n",
       "      <td>COL</td>\n",
       "      <td>hudsoda02</td>\n",
       "      <td>STL</td>\n",
       "      <td>7:15PM</td>\n",
       "      <td>2019-08-24</td>\n",
       "    </tr>\n",
       "    <tr>\n",
       "      <th>12</th>\n",
       "      <td>eovalna01</td>\n",
       "      <td>BOS</td>\n",
       "      <td>lametdi01</td>\n",
       "      <td>SDP</td>\n",
       "      <td>8:40PM</td>\n",
       "      <td>2019-08-24</td>\n",
       "    </tr>\n",
       "    <tr>\n",
       "      <th>13</th>\n",
       "      <td>bumgama01</td>\n",
       "      <td>SFG</td>\n",
       "      <td>bassich01</td>\n",
       "      <td>OAK</td>\n",
       "      <td>9:07PM</td>\n",
       "      <td>2019-08-24</td>\n",
       "    </tr>\n",
       "    <tr>\n",
       "      <th>14</th>\n",
       "      <td>fontwi01</td>\n",
       "      <td>TOR</td>\n",
       "      <td>hernafe02</td>\n",
       "      <td>SEA</td>\n",
       "      <td>9:10PM</td>\n",
       "      <td>2019-08-24</td>\n",
       "    </tr>\n",
       "  </tbody>\n",
       "</table>\n",
       "</div>"
      ],
      "text/plain": [
       "   away_pitcher away_team_abbr home_pitcher home_team_abbr    time        date\n",
       "0      rossjo01            WSN    quintjo01            CHC  2:20PM  2019-08-24\n",
       "1     sabatc.01            NYY    gonsoto01            LAD  4:05PM  2019-08-24\n",
       "2     eflinza01            PHI    yamamjo01            MIA  6:10PM  2019-08-24\n",
       "3     alvarjo03            TBR    meansjo01            BAL  7:05PM  2019-08-24\n",
       "4      woodal02            CIN    willitr01            PIT  7:05PM  2019-08-24\n",
       "5     friedma01            ATL    wheelza01            NYM  7:10PM  2019-08-24\n",
       "6     jacksed01            DET    gibsoky01            MIN  7:10PM  2019-08-24\n",
       "7     galleza01            ARI    anderch01            MIL  7:10PM  2019-08-24\n",
       "8     peterdi01            LAA    mileywa01            HOU  7:10PM  2019-08-24\n",
       "9     sparkgl01            KCR    clevimi01            CLE  7:10PM  2019-08-24\n",
       "10    allarko01            TEX     novaiv01            CHW  7:10PM  2019-08-24\n",
       "11    gonzach01            COL    hudsoda02            STL  7:15PM  2019-08-24\n",
       "12    eovalna01            BOS    lametdi01            SDP  8:40PM  2019-08-24\n",
       "13    bumgama01            SFG    bassich01            OAK  9:07PM  2019-08-24\n",
       "14     fontwi01            TOR    hernafe02            SEA  9:10PM  2019-08-24"
      ]
     },
     "execution_count": 7,
     "metadata": {},
     "output_type": "execute_result"
    }
   ],
   "source": [
    "test_df"
   ]
  },
  {
   "cell_type": "markdown",
   "metadata": {},
   "source": [
    "# Process Stats for Today's Games"
   ]
  },
  {
   "cell_type": "markdown",
   "metadata": {},
   "source": [
    "## Merge test and train dfs"
   ]
  },
  {
   "cell_type": "code",
   "execution_count": 8,
   "metadata": {},
   "outputs": [],
   "source": [
    "test_df['is_night_game'] = True\n",
    "test_df['is_night_game'][test_df['time'].str[:1].astype('int')<5] = False\n",
    "test_df['is_night_game'][test_df['time'].str[1:2].isin(['0','1'])] = True #for 10,11 PM games\n",
    "test_df.drop(columns='time', inplace=True)"
   ]
  },
  {
   "cell_type": "code",
   "execution_count": 9,
   "metadata": {},
   "outputs": [
    {
     "data": {
      "text/plain": [
       "(15, 9)"
      ]
     },
     "execution_count": 9,
     "metadata": {},
     "output_type": "execute_result"
    }
   ],
   "source": [
    "test_df['is_test'] = True\n",
    "test_df['home_team_win']=np.nan\n",
    "test_df['game_id'] = test_df.home_team_abbr + test_df.date.astype('str').str.replace('-','') + '0'\n",
    "test_df.shape"
   ]
  },
  {
   "cell_type": "code",
   "execution_count": 10,
   "metadata": {},
   "outputs": [
    {
     "data": {
      "text/plain": [
       "(24145, 9)"
      ]
     },
     "execution_count": 10,
     "metadata": {},
     "output_type": "execute_result"
    }
   ],
   "source": [
    "df = features.get_game_df()\n",
    "df['is_test'] = False\n",
    "df.shape"
   ]
  },
  {
   "cell_type": "code",
   "execution_count": 11,
   "metadata": {},
   "outputs": [
    {
     "data": {
      "text/plain": [
       "(24160, 9)"
      ]
     },
     "execution_count": 11,
     "metadata": {},
     "output_type": "execute_result"
    }
   ],
   "source": [
    "df = pd.concat([df,test_df])\n",
    "df = df.sort_values(by='date').reset_index(drop=True)\n",
    "df.shape"
   ]
  },
  {
   "cell_type": "markdown",
   "metadata": {},
   "source": [
    "## Add Features"
   ]
  },
  {
   "cell_type": "code",
   "execution_count": 12,
   "metadata": {},
   "outputs": [
    {
     "data": {
      "text/plain": [
       "(24160, 18)"
      ]
     },
     "execution_count": 12,
     "metadata": {},
     "output_type": "execute_result"
    }
   ],
   "source": [
    "df = features.add_trueskill_ratings(df)\n",
    "df = features.add_rest_durations(df)\n",
    "df.shape"
   ]
  },
  {
   "cell_type": "code",
   "execution_count": 13,
   "metadata": {},
   "outputs": [],
   "source": [
    "#datetime\n",
    "date = pd.to_datetime(df['date'])\n",
    "df['season'] = date.dt.year\n",
    "df['month']=date.dt.month\n",
    "df['week_num'] = date.dt.week\n",
    "df['dow']=date.dt.weekday.astype('int')"
   ]
  },
  {
   "cell_type": "code",
   "execution_count": 14,
   "metadata": {},
   "outputs": [],
   "source": [
    "df['dh_game_no'] = pd.to_numeric(df['game_id'].str[-1:],errors='coerce')\n",
    "df['date'] = (pd.to_datetime(df['date']) - pd.Timestamp(\"1970-01-01\")) // pd.Timedelta('1s') #epoch time"
   ]
  },
  {
   "cell_type": "markdown",
   "metadata": {},
   "source": [
    "### Add Stats"
   ]
  },
  {
   "cell_type": "code",
   "execution_count": 15,
   "metadata": {},
   "outputs": [],
   "source": [
    "games = features.get_games()\n",
    "batting = features.get_batting()\n",
    "pitching = features.get_pitching()\n",
    "pitchers = features.get_pitchers()"
   ]
  },
  {
   "cell_type": "markdown",
   "metadata": {},
   "source": [
    "#### Rolling 10 Day Stats"
   ]
  },
  {
   "cell_type": "code",
   "execution_count": 16,
   "metadata": {},
   "outputs": [],
   "source": [
    "b_stats = ['batting_avg','leverage_index_avg', 'onbase_perc', 'onbase_plus_slugging']\n",
    "df = features.add_10RA_rolling(batting, df, b_stats, True, 'batting')"
   ]
  },
  {
   "cell_type": "code",
   "execution_count": 17,
   "metadata": {},
   "outputs": [],
   "source": [
    "pitching['SO_batters_faced'] = pitching['SO'] / pitching['batters_faced']\n",
    "pitching['H_batters_faced'] = pitching['H'] / pitching['batters_faced']\n",
    "pitching['BB_batters_faced'] = pitching['BB'] / pitching['batters_faced']\n",
    "\n",
    "# create rolling stat\n",
    "b_stats = ['earned_run_avg','SO_batters_faced','H_batters_faced','BB_batters_faced']\n",
    "df = features.add_10RA_rolling(pitching, df, b_stats, True, 'team_pitching')"
   ]
  },
  {
   "cell_type": "code",
   "execution_count": 18,
   "metadata": {},
   "outputs": [],
   "source": [
    "pitchers['SO_batters_faced'] = pitchers['SO'] / pitchers['batters_faced']\n",
    "pitchers['H_batters_faced'] = pitchers['H'] / pitchers['batters_faced']\n",
    "pitchers['BB_batters_faced'] = pitchers['BB'] / pitchers['batters_faced']\n",
    "\n",
    "# create rolling stat\n",
    "b_stats = ['earned_run_avg','SO_batters_faced','H_batters_faced','BB_batters_faced']\n",
    "df = features.add_10RA_rolling(pitchers, df, b_stats, False, 'pitcher')"
   ]
  },
  {
   "cell_type": "markdown",
   "metadata": {},
   "source": [
    "#### Games Stats"
   ]
  },
  {
   "cell_type": "code",
   "execution_count": 19,
   "metadata": {
    "scrolled": true
   },
   "outputs": [],
   "source": [
    "df = features.game_stats(games,df)"
   ]
  },
  {
   "cell_type": "code",
   "execution_count": 20,
   "metadata": {
    "scrolled": true
   },
   "outputs": [
    {
     "data": {
      "text/plain": [
       "(24160, 82)"
      ]
     },
     "execution_count": 20,
     "metadata": {},
     "output_type": "execute_result"
    }
   ],
   "source": [
    "df.shape"
   ]
  },
  {
   "cell_type": "markdown",
   "metadata": {},
   "source": [
    "#### Season Stats"
   ]
  },
  {
   "cell_type": "code",
   "execution_count": 21,
   "metadata": {},
   "outputs": [
    {
     "data": {
      "text/plain": [
       "(24160, 222)"
      ]
     },
     "execution_count": 21,
     "metadata": {},
     "output_type": "execute_result"
    }
   ],
   "source": [
    "batting_stats = ['A', 'AB', 'BB', 'H', 'PA', 'PO', 'R', 'RBI', 'SO', 'batting_avg',\n",
    "             'leverage_index_avg', 'onbase_perc', 'onbase_plus_slugging', 'pitches', \n",
    "             're24_bat', 'slugging_perc', 'strikes_total', 'wpa_bat', 'wpa_bat_neg', \n",
    "             'wpa_bat_pos']\n",
    "df = features.add_season_rolling(batting, df, batting_stats, True,'batting')\n",
    "df.shape"
   ]
  },
  {
   "cell_type": "code",
   "execution_count": 22,
   "metadata": {},
   "outputs": [
    {
     "data": {
      "text/plain": [
       "(24160, 411)"
      ]
     },
     "execution_count": 22,
     "metadata": {},
     "output_type": "execute_result"
    }
   ],
   "source": [
    "pitching_stats = ['BB', 'ER', 'H', 'HR', 'IP', 'R', 'SO', 'batters_faced',\n",
    "               'earned_run_avg', 'game_score', 'inherited_runners',\n",
    "               'inherited_score', 'inplay_fb_total', 'inplay_gb_total', 'inplay_ld',\n",
    "               'inplay_unk', 'leverage_index_avg', 'pitches', 're24_def',\n",
    "               'strikes_contact', 'strikes_looking', 'strikes_swinging',\n",
    "               'strikes_total', 'wpa_def','SO_batters_faced','H_batters_faced',\n",
    "                'BB_batters_faced']\n",
    "df = features.add_season_rolling(pitching, df, pitching_stats, True,'team_pitching')\n",
    "df.shape"
   ]
  },
  {
   "cell_type": "code",
   "execution_count": 23,
   "metadata": {},
   "outputs": [
    {
     "data": {
      "text/plain": [
       "(24160, 600)"
      ]
     },
     "execution_count": 23,
     "metadata": {},
     "output_type": "execute_result"
    }
   ],
   "source": [
    "df = features.add_season_rolling(pitchers, df, pitching_stats, False,'pitcher')\n",
    "df.shape"
   ]
  },
  {
   "cell_type": "markdown",
   "metadata": {},
   "source": [
    "## Cleanup"
   ]
  },
  {
   "cell_type": "code",
   "execution_count": 24,
   "metadata": {},
   "outputs": [],
   "source": [
    "df = util.fix_na(df, False)"
   ]
  },
  {
   "cell_type": "markdown",
   "metadata": {},
   "source": [
    "# Generate Predictions"
   ]
  },
  {
   "cell_type": "code",
   "execution_count": 25,
   "metadata": {},
   "outputs": [],
   "source": [
    "X_test = df[df.is_test].drop(columns=['is_test'])\n",
    "cols = pd.read_csv(\"../data/df_w_features.csv\").columns\n",
    "X_test = X_test[cols]\n",
    "\n",
    "X_test.drop(columns=['home_team_win','game_id'], inplace=True)"
   ]
  },
  {
   "cell_type": "code",
   "execution_count": 26,
   "metadata": {},
   "outputs": [
    {
     "data": {
      "text/plain": [
       "(CatBoostEncoder(cols=['home_team_abbr', 'away_team_abbr', 'home_pitcher',\n",
       "                       'away_pitcher', 'home_team_season', 'away_team_season'],\n",
       "                 drop_invariant=False, handle_missing='value',\n",
       "                 handle_unknown='value', random_state=13, return_df=True,\n",
       "                 sigma=None, verbose=0),\n",
       " XGBClassifier(base_score=0.5, booster='gbtree', colsample_bylevel=1,\n",
       "               colsample_bynode=None, colsample_bytree=0.65, gamma=0,\n",
       "               learning_rate=0.3, max_delta_step=0, max_depth=26,\n",
       "               min_child_weight=18.0, missing=nan, n_estimators=100, n_jobs=1,\n",
       "               nthread=None, num_boost_round=100, objective='binary:logistic',\n",
       "               random_state=13, reg_alpha=0.057490000000000006, reg_lambda=1,\n",
       "               scale_pos_weight=1, seed=None, silent=True,\n",
       "               subsample=0.6000000000000001, verbosity=None))"
      ]
     },
     "execution_count": 26,
     "metadata": {},
     "output_type": "execute_result"
    }
   ],
   "source": [
    "import pickle\n",
    "encoder, model = pickle.load(open('../data/encoder_model.pk','rb'))\n",
    "encoder, model"
   ]
  },
  {
   "cell_type": "code",
   "execution_count": 99,
   "metadata": {},
   "outputs": [],
   "source": [
    "X_test = encoder.transform(X_test)\n",
    "\n",
    "test_df = test_df.sort_values(by=['date','game_id']).reset_index(drop=True)\n",
    "pred_df = df[df.is_test][['away_pitcher', 'away_team_abbr', 'home_pitcher', 'home_team_abbr']]\n",
    "pred_df['xgb_probability']= model.predict_proba(X_test)[:,1]\n",
    "\n",
    "pred_df['xgb_winner']=pred_df.home_team_abbr\n",
    "pred_df['xgb_winner'][~model.predict(X_test)]=pred_df.away_team_abbr"
   ]
  },
  {
   "cell_type": "code",
   "execution_count": 100,
   "metadata": {},
   "outputs": [],
   "source": [
    "# get daily odds from covers.com\n",
    "import requests\n",
    "from bs4 import BeautifulSoup as bs\n",
    "html = requests.get('https://www.covers.com/sports/mlb/matchups').text\n",
    "soup = bs(html)\n",
    "games = []\n",
    "for s in soup.findAll('div',{'class':'cmg_matchup_game_box cmg_game_data'}):\n",
    "    g = {}\n",
    "    g['home_team_abbr'] = s['data-home-team-shortname-search']\n",
    "    g['online_odds'] = s['data-game-odd']\n",
    "    games.append(g)\n",
    "odds = pd.DataFrame(games)\n",
    "\n",
    "# merge in the odds\n",
    "pred_df = pd.merge(left=pred_df, right=odds, on='home_team_abbr')\n",
    "pred_df['online_odds']=pred_df['online_odds'].astype('int')\n",
    "pred_df['online_odds'][pred_df.xgb_probability<0.5] = -pred_df['online_odds'] #convert odds to pred winner odds (not home team odds)"
   ]
  },
  {
   "cell_type": "code",
   "execution_count": 101,
   "metadata": {},
   "outputs": [],
   "source": [
    "#https://www.bettingexpert.com/en-au/learn/understanding-betting-odds/how-to-convert-odds\n",
    "pred_df['online_proba'] = -pred_df['online_odds']/(-pred_df['online_odds']+100)\n",
    "pred_df['online_proba'][pred_df['online_odds']>0] = 100/(pred_df['online_odds']+100)\n",
    "online_abs = np.abs(pred_df['online_proba']-0.5)\n",
    "xgb_abs = np.abs(pred_df['xgb_probability']-0.5)\n",
    "pred_df['pred_diff_percent'] = online_abs-xgb_abs"
   ]
  },
  {
   "cell_type": "code",
   "execution_count": 102,
   "metadata": {
    "scrolled": false
   },
   "outputs": [],
   "source": [
    "teams = pd.read_csv(\"../data/teams.csv\")\n",
    "pred_df = pd.merge(left=pred_df, right=teams, left_on='xgb_winner',right_on='Abbr')\n",
    "\n",
    "pred_df['predicted_winner'] = pred_df['Team']\n",
    "pred_df.drop(columns=['xgb_winner','Abbr','Team'], inplace=True)"
   ]
  },
  {
   "cell_type": "code",
   "execution_count": 103,
   "metadata": {},
   "outputs": [
    {
     "data": {
      "text/html": [
       "<div>\n",
       "<style scoped>\n",
       "    .dataframe tbody tr th:only-of-type {\n",
       "        vertical-align: middle;\n",
       "    }\n",
       "\n",
       "    .dataframe tbody tr th {\n",
       "        vertical-align: top;\n",
       "    }\n",
       "\n",
       "    .dataframe thead th {\n",
       "        text-align: right;\n",
       "    }\n",
       "</style>\n",
       "<table border=\"1\" class=\"dataframe\">\n",
       "  <thead>\n",
       "    <tr style=\"text-align: right;\">\n",
       "      <th></th>\n",
       "      <th>away_pitcher</th>\n",
       "      <th>away_team_abbr</th>\n",
       "      <th>home_pitcher</th>\n",
       "      <th>home_team_abbr</th>\n",
       "      <th>xgb_probability</th>\n",
       "      <th>online_odds</th>\n",
       "      <th>online_proba</th>\n",
       "      <th>pred_diff_percent</th>\n",
       "      <th>predicted_winner</th>\n",
       "    </tr>\n",
       "  </thead>\n",
       "  <tbody>\n",
       "    <tr>\n",
       "      <th>0</th>\n",
       "      <td>woodal02</td>\n",
       "      <td>CIN</td>\n",
       "      <td>willitr01</td>\n",
       "      <td>PIT</td>\n",
       "      <td>0.324543</td>\n",
       "      <td>-100</td>\n",
       "      <td>0.500000</td>\n",
       "      <td>-0.175457</td>\n",
       "      <td>Reds</td>\n",
       "    </tr>\n",
       "    <tr>\n",
       "      <th>1</th>\n",
       "      <td>bumgama01</td>\n",
       "      <td>SFG</td>\n",
       "      <td>bassich01</td>\n",
       "      <td>OAK</td>\n",
       "      <td>0.549485</td>\n",
       "      <td>-148</td>\n",
       "      <td>0.596774</td>\n",
       "      <td>0.047289</td>\n",
       "      <td>Athletics</td>\n",
       "    </tr>\n",
       "    <tr>\n",
       "      <th>2</th>\n",
       "      <td>friedma01</td>\n",
       "      <td>ATL</td>\n",
       "      <td>wheelza01</td>\n",
       "      <td>NYM</td>\n",
       "      <td>0.604298</td>\n",
       "      <td>-110</td>\n",
       "      <td>0.523810</td>\n",
       "      <td>-0.080488</td>\n",
       "      <td>Mets</td>\n",
       "    </tr>\n",
       "    <tr>\n",
       "      <th>3</th>\n",
       "      <td>jacksed01</td>\n",
       "      <td>DET</td>\n",
       "      <td>gibsoky01</td>\n",
       "      <td>MIN</td>\n",
       "      <td>0.527489</td>\n",
       "      <td>-333</td>\n",
       "      <td>0.769053</td>\n",
       "      <td>0.241564</td>\n",
       "      <td>Twins</td>\n",
       "    </tr>\n",
       "    <tr>\n",
       "      <th>4</th>\n",
       "      <td>galleza01</td>\n",
       "      <td>ARI</td>\n",
       "      <td>anderch01</td>\n",
       "      <td>MIL</td>\n",
       "      <td>0.548487</td>\n",
       "      <td>-125</td>\n",
       "      <td>0.555556</td>\n",
       "      <td>0.007068</td>\n",
       "      <td>Brewers</td>\n",
       "    </tr>\n",
       "    <tr>\n",
       "      <th>5</th>\n",
       "      <td>peterdi01</td>\n",
       "      <td>LAA</td>\n",
       "      <td>mileywa01</td>\n",
       "      <td>HOU</td>\n",
       "      <td>0.560229</td>\n",
       "      <td>-215</td>\n",
       "      <td>0.682540</td>\n",
       "      <td>0.122311</td>\n",
       "      <td>Astros</td>\n",
       "    </tr>\n",
       "    <tr>\n",
       "      <th>6</th>\n",
       "      <td>sabatc.01</td>\n",
       "      <td>NYY</td>\n",
       "      <td>gonsoto01</td>\n",
       "      <td>LAD</td>\n",
       "      <td>0.686344</td>\n",
       "      <td>-141</td>\n",
       "      <td>0.585062</td>\n",
       "      <td>-0.101282</td>\n",
       "      <td>Dodgers</td>\n",
       "    </tr>\n",
       "    <tr>\n",
       "      <th>7</th>\n",
       "      <td>sparkgl01</td>\n",
       "      <td>KCR</td>\n",
       "      <td>clevimi01</td>\n",
       "      <td>CLE</td>\n",
       "      <td>0.759646</td>\n",
       "      <td>-385</td>\n",
       "      <td>0.793814</td>\n",
       "      <td>0.034169</td>\n",
       "      <td>Indians</td>\n",
       "    </tr>\n",
       "    <tr>\n",
       "      <th>8</th>\n",
       "      <td>allarko01</td>\n",
       "      <td>TEX</td>\n",
       "      <td>novaiv01</td>\n",
       "      <td>CHW</td>\n",
       "      <td>0.321013</td>\n",
       "      <td>136</td>\n",
       "      <td>0.423729</td>\n",
       "      <td>-0.102715</td>\n",
       "      <td>Rangers</td>\n",
       "    </tr>\n",
       "    <tr>\n",
       "      <th>9</th>\n",
       "      <td>rossjo01</td>\n",
       "      <td>WSN</td>\n",
       "      <td>quintjo01</td>\n",
       "      <td>CHC</td>\n",
       "      <td>0.672252</td>\n",
       "      <td>-175</td>\n",
       "      <td>0.636364</td>\n",
       "      <td>-0.035889</td>\n",
       "      <td>Cubs</td>\n",
       "    </tr>\n",
       "    <tr>\n",
       "      <th>10</th>\n",
       "      <td>alvarjo03</td>\n",
       "      <td>TBR</td>\n",
       "      <td>meansjo01</td>\n",
       "      <td>BAL</td>\n",
       "      <td>0.347409</td>\n",
       "      <td>-157</td>\n",
       "      <td>0.610895</td>\n",
       "      <td>-0.041696</td>\n",
       "      <td>Rays</td>\n",
       "    </tr>\n",
       "    <tr>\n",
       "      <th>11</th>\n",
       "      <td>fontwi01</td>\n",
       "      <td>TOR</td>\n",
       "      <td>hernafe02</td>\n",
       "      <td>SEA</td>\n",
       "      <td>0.587611</td>\n",
       "      <td>-127</td>\n",
       "      <td>0.559471</td>\n",
       "      <td>-0.028140</td>\n",
       "      <td>Mariners</td>\n",
       "    </tr>\n",
       "    <tr>\n",
       "      <th>12</th>\n",
       "      <td>eflinza01</td>\n",
       "      <td>PHI</td>\n",
       "      <td>yamamjo01</td>\n",
       "      <td>MIA</td>\n",
       "      <td>0.491432</td>\n",
       "      <td>-110</td>\n",
       "      <td>0.523810</td>\n",
       "      <td>0.015241</td>\n",
       "      <td>Phillies</td>\n",
       "    </tr>\n",
       "    <tr>\n",
       "      <th>13</th>\n",
       "      <td>gonzach01</td>\n",
       "      <td>COL</td>\n",
       "      <td>hudsoda02</td>\n",
       "      <td>STL</td>\n",
       "      <td>0.621967</td>\n",
       "      <td>-200</td>\n",
       "      <td>0.666667</td>\n",
       "      <td>0.044700</td>\n",
       "      <td>Cardinals</td>\n",
       "    </tr>\n",
       "  </tbody>\n",
       "</table>\n",
       "</div>"
      ],
      "text/plain": [
       "   away_pitcher away_team_abbr home_pitcher home_team_abbr  xgb_probability  \\\n",
       "0      woodal02            CIN    willitr01            PIT         0.324543   \n",
       "1     bumgama01            SFG    bassich01            OAK         0.549485   \n",
       "2     friedma01            ATL    wheelza01            NYM         0.604298   \n",
       "3     jacksed01            DET    gibsoky01            MIN         0.527489   \n",
       "4     galleza01            ARI    anderch01            MIL         0.548487   \n",
       "5     peterdi01            LAA    mileywa01            HOU         0.560229   \n",
       "6     sabatc.01            NYY    gonsoto01            LAD         0.686344   \n",
       "7     sparkgl01            KCR    clevimi01            CLE         0.759646   \n",
       "8     allarko01            TEX     novaiv01            CHW         0.321013   \n",
       "9      rossjo01            WSN    quintjo01            CHC         0.672252   \n",
       "10    alvarjo03            TBR    meansjo01            BAL         0.347409   \n",
       "11     fontwi01            TOR    hernafe02            SEA         0.587611   \n",
       "12    eflinza01            PHI    yamamjo01            MIA         0.491432   \n",
       "13    gonzach01            COL    hudsoda02            STL         0.621967   \n",
       "\n",
       "    online_odds  online_proba  pred_diff_percent predicted_winner  \n",
       "0          -100      0.500000          -0.175457             Reds  \n",
       "1          -148      0.596774           0.047289        Athletics  \n",
       "2          -110      0.523810          -0.080488             Mets  \n",
       "3          -333      0.769053           0.241564            Twins  \n",
       "4          -125      0.555556           0.007068          Brewers  \n",
       "5          -215      0.682540           0.122311           Astros  \n",
       "6          -141      0.585062          -0.101282          Dodgers  \n",
       "7          -385      0.793814           0.034169          Indians  \n",
       "8           136      0.423729          -0.102715          Rangers  \n",
       "9          -175      0.636364          -0.035889             Cubs  \n",
       "10         -157      0.610895          -0.041696             Rays  \n",
       "11         -127      0.559471          -0.028140         Mariners  \n",
       "12         -110      0.523810           0.015241         Phillies  \n",
       "13         -200      0.666667           0.044700        Cardinals  "
      ]
     },
     "execution_count": 103,
     "metadata": {},
     "output_type": "execute_result"
    }
   ],
   "source": [
    "pred_df"
   ]
  },
  {
   "cell_type": "code",
   "execution_count": null,
   "metadata": {},
   "outputs": [],
   "source": []
  }
 ],
 "metadata": {
  "kernelspec": {
   "display_name": "Python 3",
   "language": "python",
   "name": "python3"
  },
  "language_info": {
   "codemirror_mode": {
    "name": "ipython",
    "version": 3
   },
   "file_extension": ".py",
   "mimetype": "text/x-python",
   "name": "python",
   "nbconvert_exporter": "python",
   "pygments_lexer": "ipython3",
   "version": "3.7.3"
  },
  "toc": {
   "base_numbering": 1,
   "nav_menu": {},
   "number_sections": true,
   "sideBar": true,
   "skip_h1_title": false,
   "title_cell": "Table of Contents",
   "title_sidebar": "Contents",
   "toc_cell": false,
   "toc_position": {},
   "toc_section_display": true,
   "toc_window_display": true
  }
 },
 "nbformat": 4,
 "nbformat_minor": 2
}
