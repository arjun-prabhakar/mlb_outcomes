{
 "cells": [
  {
   "cell_type": "code",
   "execution_count": 1,
   "metadata": {},
   "outputs": [],
   "source": [
    "import pandas as pd\n",
    "import numpy as np\n",
    "import matplotlib.pyplot as plt"
   ]
  },
  {
   "cell_type": "code",
   "execution_count": 2,
   "metadata": {},
   "outputs": [],
   "source": [
    "%matplotlib inline\n",
    "%load_ext autoreload\n",
    "%autoreload 2\n",
    "\n",
    "import warnings\n",
    "warnings.filterwarnings('ignore')\n",
    "warnings.simplefilter(action='ignore', category=FutureWarning)"
   ]
  },
  {
   "cell_type": "code",
   "execution_count": 3,
   "metadata": {},
   "outputs": [],
   "source": [
    "import sys\n",
    "sys.path.append('../code')\n",
    "import features\n",
    "import dataframe_utilities as util"
   ]
  },
  {
   "cell_type": "markdown",
   "metadata": {},
   "source": [
    "# Load Data"
   ]
  },
  {
   "cell_type": "code",
   "execution_count": 4,
   "metadata": {},
   "outputs": [],
   "source": [
    "games = features.get_games()\n",
    "batting = features.get_batting()\n",
    "pitching = features.get_pitching()\n",
    "pitchers = features.get_pitchers()"
   ]
  },
  {
   "cell_type": "code",
   "execution_count": 5,
   "metadata": {},
   "outputs": [
    {
     "name": "stdout",
     "output_type": "stream",
     "text": [
      "start hour vs. is_night_game\n",
      "night games seem to start from 5PM to 10PM\n"
     ]
    },
    {
     "data": {
      "text/html": [
       "<div>\n",
       "<style scoped>\n",
       "    .dataframe tbody tr th:only-of-type {\n",
       "        vertical-align: middle;\n",
       "    }\n",
       "\n",
       "    .dataframe tbody tr th {\n",
       "        vertical-align: top;\n",
       "    }\n",
       "\n",
       "    .dataframe thead th {\n",
       "        text-align: right;\n",
       "    }\n",
       "</style>\n",
       "<table border=\"1\" class=\"dataframe\">\n",
       "  <thead>\n",
       "    <tr style=\"text-align: right;\">\n",
       "      <th></th>\n",
       "      <th>mean</th>\n",
       "      <th>count</th>\n",
       "    </tr>\n",
       "    <tr>\n",
       "      <th>start_time</th>\n",
       "      <th></th>\n",
       "      <th></th>\n",
       "    </tr>\n",
       "  </thead>\n",
       "  <tbody>\n",
       "    <tr>\n",
       "      <th>1</th>\n",
       "      <td>0.004035</td>\n",
       "      <td>4709</td>\n",
       "    </tr>\n",
       "    <tr>\n",
       "      <th>10</th>\n",
       "      <td>0.997934</td>\n",
       "      <td>484</td>\n",
       "    </tr>\n",
       "    <tr>\n",
       "      <th>11</th>\n",
       "      <td>0.052632</td>\n",
       "      <td>19</td>\n",
       "    </tr>\n",
       "    <tr>\n",
       "      <th>12</th>\n",
       "      <td>0.007428</td>\n",
       "      <td>1077</td>\n",
       "    </tr>\n",
       "    <tr>\n",
       "      <th>2</th>\n",
       "      <td>0.003571</td>\n",
       "      <td>560</td>\n",
       "    </tr>\n",
       "    <tr>\n",
       "      <th>3</th>\n",
       "      <td>0.022609</td>\n",
       "      <td>575</td>\n",
       "    </tr>\n",
       "    <tr>\n",
       "      <th>4</th>\n",
       "      <td>0.045590</td>\n",
       "      <td>1009</td>\n",
       "    </tr>\n",
       "    <tr>\n",
       "      <th>5</th>\n",
       "      <td>0.980392</td>\n",
       "      <td>306</td>\n",
       "    </tr>\n",
       "    <tr>\n",
       "      <th>6</th>\n",
       "      <td>0.995685</td>\n",
       "      <td>1854</td>\n",
       "    </tr>\n",
       "    <tr>\n",
       "      <th>7</th>\n",
       "      <td>0.998595</td>\n",
       "      <td>12102</td>\n",
       "    </tr>\n",
       "    <tr>\n",
       "      <th>8</th>\n",
       "      <td>1.000000</td>\n",
       "      <td>1051</td>\n",
       "    </tr>\n",
       "    <tr>\n",
       "      <th>9</th>\n",
       "      <td>1.000000</td>\n",
       "      <td>233</td>\n",
       "    </tr>\n",
       "  </tbody>\n",
       "</table>\n",
       "</div>"
      ],
      "text/plain": [
       "                mean  count\n",
       "start_time                 \n",
       "1           0.004035   4709\n",
       "10          0.997934    484\n",
       "11          0.052632     19\n",
       "12          0.007428   1077\n",
       "2           0.003571    560\n",
       "3           0.022609    575\n",
       "4           0.045590   1009\n",
       "5           0.980392    306\n",
       "6           0.995685   1854\n",
       "7           0.998595  12102\n",
       "8           1.000000   1051\n",
       "9           1.000000    233"
      ]
     },
     "execution_count": 5,
     "metadata": {},
     "output_type": "execute_result"
    }
   ],
   "source": [
    "print(\"start hour vs. is_night_game\")\n",
    "print(\"night games seem to start from 5PM to 10PM\")\n",
    "games.groupby(games.start_time.str[:-3])['is_night_game'].agg(['mean','count'])"
   ]
  },
  {
   "cell_type": "markdown",
   "metadata": {},
   "source": [
    "# Features"
   ]
  },
  {
   "cell_type": "markdown",
   "metadata": {},
   "source": [
    "## Create dataset"
   ]
  },
  {
   "cell_type": "code",
   "execution_count": 6,
   "metadata": {},
   "outputs": [],
   "source": [
    "df = games[['game_id','home_team_abbr','away_team_abbr','date','is_night_game']]\n",
    "df['home_team_win'] = games.home_team_runs.astype('int')>games.away_team_runs"
   ]
  },
  {
   "cell_type": "code",
   "execution_count": 7,
   "metadata": {
    "scrolled": true
   },
   "outputs": [],
   "source": [
    "home_pitchers = pitchers[['name','game_id']].where((pitchers.is_home_team)&(pitchers.is_starting_pitcher)).dropna()\n",
    "home_pitchers['home_pitcher'] = home_pitchers['name']\n",
    "home_pitchers = home_pitchers.groupby('game_id')['home_pitcher'].first()\n",
    "df = pd.merge(left=df, right=home_pitchers, on='game_id', how='left')"
   ]
  },
  {
   "cell_type": "code",
   "execution_count": 8,
   "metadata": {},
   "outputs": [],
   "source": [
    "away_pitchers = pitchers[['name','game_id']].where((~pitchers.is_home_team)&(pitchers.is_starting_pitcher)).dropna()\n",
    "away_pitchers['away_pitcher'] = away_pitchers['name']\n",
    "away_pitchers = away_pitchers.groupby('game_id')['away_pitcher'].first()\n",
    "df = pd.merge(left=df, right=away_pitchers, on='game_id', how='left')"
   ]
  },
  {
   "cell_type": "code",
   "execution_count": 9,
   "metadata": {},
   "outputs": [],
   "source": [
    "df = df.sort_values(by='date').reset_index(drop=True)"
   ]
  },
  {
   "cell_type": "markdown",
   "metadata": {},
   "source": [
    "## Add Small Feats"
   ]
  },
  {
   "cell_type": "code",
   "execution_count": 10,
   "metadata": {},
   "outputs": [],
   "source": [
    "df['dh_game_no'] = pd.to_numeric(df['game_id'].str[-1:],errors='coerce')"
   ]
  },
  {
   "cell_type": "code",
   "execution_count": 11,
   "metadata": {},
   "outputs": [],
   "source": [
    "#datetime\n",
    "date = pd.to_datetime(df['date'])\n",
    "df['season'] = date.dt.year\n",
    "df['month']=date.dt.month\n",
    "df['week_num'] = date.dt.week\n",
    "df['dow']=date.dt.weekday.astype('int')"
   ]
  },
  {
   "cell_type": "code",
   "execution_count": 12,
   "metadata": {},
   "outputs": [],
   "source": [
    "# df['matchup_season'] = df.apply(lambda x: sorted([x.away_team_abbr, x.home_team_abbr])[0] + '_' + \n",
    "#                          sorted([x.away_team_abbr, x.home_team_abbr])[1] + '_' +\n",
    "#                          str(x.season),\n",
    "#                          axis=1)\n",
    "# df['game_num'] = df.groupby(by=['season','matchup_season'])['home_team_abbr'].cumcount()"
   ]
  },
  {
   "cell_type": "code",
   "execution_count": 13,
   "metadata": {},
   "outputs": [
    {
     "data": {
      "text/plain": [
       "(24009, 16)"
      ]
     },
     "execution_count": 13,
     "metadata": {},
     "output_type": "execute_result"
    }
   ],
   "source": [
    "from trueskill import rate_1vs1, Rating\n",
    "def add_trueskill_ratings(df):\n",
    "    #https://www.microsoft.com/en-us/research/project/trueskill-ranking-system/\n",
    "    ratings = {}\n",
    "    for x in df.home_team_abbr.unique():\n",
    "        ratings[x]=25\n",
    "    for x in df.away_team_abbr.unique():\n",
    "        ratings[x]=25\n",
    "\n",
    "    home_trueskill_pre = []\n",
    "    away_trueskill_pre = []\n",
    "    for i, r in df.iterrows():\n",
    "        # get pre-match trueskill ratings from dict\n",
    "        home_trueskill_pre.append(ratings[r.home_team_abbr])\n",
    "        away_trueskill_pre.append(ratings[r.away_team_abbr])\n",
    "\n",
    "        if r.date < df.date.max():\n",
    "            #doubleheaders get screwed up if we do this on current day\n",
    "            # update ratings dictionary with post-match ratings\n",
    "            ts1 = Rating(ratings[r.home_team_abbr])\n",
    "            ts2 = Rating(ratings[r.away_team_abbr])\n",
    "            if r.home_team_win==1:\n",
    "                ts1, ts2 = rate_1vs1(ts1, ts2)\n",
    "            else:\n",
    "                ts2, ts1 = rate_1vs1(ts2, ts1)\n",
    "            ratings[r.home_team_abbr] = ts1.mu\n",
    "            ratings[r.away_team_abbr] = ts2.mu\n",
    "\n",
    "    df['home_trueskill_pre']= home_trueskill_pre\n",
    "    df['away_trueskill_pre']= away_trueskill_pre\n",
    "    df['ts_diff'] = df.home_trueskill_pre-df.away_trueskill_pre\n",
    "    \n",
    "    df.replace({np.inf: 0}, inplace=True)\n",
    "    return df\n",
    "df = add_trueskill_ratings(df)\n",
    "df.shape"
   ]
  },
  {
   "cell_type": "code",
   "execution_count": 14,
   "metadata": {},
   "outputs": [
    {
     "data": {
      "text/plain": [
       "(24009, 22)"
      ]
     },
     "execution_count": 14,
     "metadata": {},
     "output_type": "execute_result"
    }
   ],
   "source": [
    "def add_rest_durations(df):\n",
    "    # time between games for teams and pitchers\n",
    "    df.date = pd.to_datetime(df.date)\n",
    "    \n",
    "    #initalize rest dictionary\n",
    "    rest = {}\n",
    "    for x in df.home_team_abbr.unique():\n",
    "        rest[x]=pd.to_datetime('12-31-2009')\n",
    "    for x in df.away_team_abbr.unique():\n",
    "        rest[x]=pd.to_datetime('12-31-2009')\n",
    "    for x in df.home_pitcher.unique():\n",
    "        rest[x]=pd.to_datetime('12-31-2009')\n",
    "    for x in df.away_pitcher.unique():\n",
    "        rest[x]=pd.to_datetime('12-31-2009')\n",
    "\n",
    "    # lists to temporairily hold results\n",
    "    home_team_rest = []\n",
    "    away_team_rest = []\n",
    "    home_pitch_rest = []\n",
    "    away_pitch_rest = []\n",
    "\n",
    "    for i, r in df.iterrows():\n",
    "        # get pre-match trueskill ratings from dict\n",
    "        home_team_rest.append(r.date - rest[r.home_team_abbr])\n",
    "        away_team_rest.append(r.date - rest[r.away_team_abbr])\n",
    "        home_pitch_rest.append(r.date - rest[r.home_pitcher])\n",
    "        away_pitch_rest.append(r.date - rest[r.away_pitcher])\n",
    "\n",
    "        # update ratings dictionary with post-match ratings\n",
    "        if r.date < df.date.max():\n",
    "            #doubleheaders get screwed up if we do this on current day\n",
    "            rest[r.home_team_abbr] = r.date\n",
    "            rest[r.away_team_abbr] = r.date\n",
    "            rest[r.home_pitcher] = r.date\n",
    "            rest[r.away_pitcher] = r.date\n",
    "\n",
    "    # add results to df\n",
    "    df['home_team_rest']= home_team_rest\n",
    "    df['away_team_rest']= away_team_rest\n",
    "    df['home_pitcher_rest']= home_pitch_rest\n",
    "    df['away_pitcher_rest']= away_pitch_rest\n",
    "\n",
    "    for x in ['home_team_rest','away_team_rest','home_pitcher_rest','away_pitcher_rest']:\n",
    "        df[x] = df[x].dt.days\n",
    "        df[x] = df[x].clip(1,30)   # rest doesn't matter for large values\n",
    "\n",
    "    # match comparisons\n",
    "    df['team_rest_diff'] = df.home_team_rest - df.away_team_rest\n",
    "    df['pitcher_rest_diff'] = df.home_pitcher_rest - df.away_pitcher_rest\n",
    "\n",
    "    return df\n",
    "df = add_rest_durations(df)\n",
    "df.shape"
   ]
  },
  {
   "cell_type": "code",
   "execution_count": 15,
   "metadata": {},
   "outputs": [],
   "source": [
    "df['date'] = (pd.to_datetime(df['date']) - pd.Timestamp(\"1970-01-01\")) // pd.Timedelta('1s') #epoch time"
   ]
  },
  {
   "cell_type": "markdown",
   "metadata": {},
   "source": [
    "## Add Stats"
   ]
  },
  {
   "cell_type": "markdown",
   "metadata": {
    "heading_collapsed": true
   },
   "source": [
    "### Rolling Stats"
   ]
  },
  {
   "cell_type": "code",
   "execution_count": 16,
   "metadata": {
    "hidden": true
   },
   "outputs": [],
   "source": [
    "# create rolling stat\n",
    "b_stats = ['batting_avg','leverage_index_avg', 'onbase_perc', 'onbase_plus_slugging']\n",
    "df = features.add_10RA_rolling(batting, df, b_stats, True, 'batting')"
   ]
  },
  {
   "cell_type": "code",
   "execution_count": 17,
   "metadata": {
    "hidden": true
   },
   "outputs": [],
   "source": [
    "pitching['SO_batters_faced'] = pitching['SO'] / pitching['batters_faced']\n",
    "pitching['H_batters_faced'] = pitching['H'] / pitching['batters_faced']\n",
    "pitching['BB_batters_faced'] = pitching['BB'] / pitching['batters_faced']\n",
    "\n",
    "# create rolling stat\n",
    "b_stats = ['earned_run_avg','SO_batters_faced','H_batters_faced','BB_batters_faced']\n",
    "df = features.add_10RA_rolling(pitching, df, b_stats, True, 'team_pitching')"
   ]
  },
  {
   "cell_type": "code",
   "execution_count": 18,
   "metadata": {
    "hidden": true
   },
   "outputs": [],
   "source": [
    "pitchers['SO_batters_faced'] = pitchers['SO'] / pitchers['batters_faced']\n",
    "pitchers['H_batters_faced'] = pitchers['H'] / pitchers['batters_faced']\n",
    "pitchers['BB_batters_faced'] = pitchers['BB'] / pitchers['batters_faced']\n",
    "\n",
    "# create rolling stat\n",
    "b_stats = ['earned_run_avg','SO_batters_faced','H_batters_faced','BB_batters_faced']\n",
    "df = features.add_10RA_rolling(pitchers, df, b_stats, False, 'pitcher')"
   ]
  },
  {
   "cell_type": "markdown",
   "metadata": {
    "heading_collapsed": true
   },
   "source": [
    "### Game Stats"
   ]
  },
  {
   "cell_type": "code",
   "execution_count": 19,
   "metadata": {
    "hidden": true
   },
   "outputs": [],
   "source": [
    "def game_stats(games,df):\n",
    "    # make sure we have the same games in the same order in both df's\n",
    "    games = games.sort_values(by=['date','game_id']).reset_index(drop=True)\n",
    "    df = df.sort_values(by=['date','game_id']).reset_index(drop=True)\n",
    "    assert all(games['game_id']==df['game_id'])\n",
    "    \n",
    "    games['home_team_season'] = games['home_team_abbr'] + '_' + df['season'].astype('str')\n",
    "    games['away_team_season'] = games['away_team_abbr'] + '_' + df['season'].astype('str')\n",
    "        \n",
    "    # normalize spread for each team\n",
    "    games['home_team_spread'] = games['spread']\n",
    "    games['away_team_spread'] = -games['spread']\n",
    "    \n",
    "    names = ['home_team_errors_mean','home_team_errors_stdev','home_team_errors_skew',\n",
    "            'away_team_errors_mean','away_team_errors_stdev','away_team_errors_skew',\n",
    "            'home_team_spread_mean','home_team_spread_stdev','home_team_spread_skew',\n",
    "            'away_team_spread_mean','away_team_spread_stdev','away_team_spread_skew']\n",
    "    lists = {} \n",
    "    for n in names: lists[n]=[]\n",
    "    \n",
    "    # intitialize game stat lists\n",
    "    errors = {}\n",
    "    for t in games['home_team_season'].unique():errors[t]=[]\n",
    "    for t in games['away_team_season'].unique():errors[t]=[]\n",
    "    \n",
    "    spread = {}\n",
    "    for t in games['home_team_season'].unique():spread[t]=[]\n",
    "    for t in games['away_team_season'].unique():spread[t]=[]\n",
    "        \n",
    "    for i,r in games.iterrows():\n",
    "        m, s, sk = features.get_stats_from_dist(errors[r.home_team_season])\n",
    "        lists['home_team_errors_mean'].append(m)\n",
    "        lists['home_team_errors_stdev'].append(s)\n",
    "        lists['home_team_errors_skew'].append(sk)\n",
    "        m, s, sk = features.get_stats_from_dist(errors[r.away_team_season])\n",
    "        lists['away_team_errors_mean'].append(m)\n",
    "        lists['away_team_errors_stdev'].append(s)\n",
    "        lists['away_team_errors_skew'].append(sk)\n",
    "        m, s, sk = features.get_stats_from_dist(spread[r.home_team_season])\n",
    "        lists['home_team_spread_mean'].append(m)\n",
    "        lists['home_team_spread_stdev'].append(s)\n",
    "        lists['home_team_spread_skew'].append(sk)\n",
    "        m, s, sk = features.get_stats_from_dist(spread[r.away_team_season])\n",
    "        lists['away_team_spread_mean'].append(m)\n",
    "        lists['away_team_spread_stdev'].append(s)\n",
    "        lists['away_team_spread_skew'].append(sk)\n",
    "        \n",
    "        #update dict with latest game\n",
    "        errors[r['home_team_season']].append(r['home_team_errors'])\n",
    "        errors[r['away_team_season']].append(r['away_team_errors'])\n",
    "        spread[r['home_team_season']].append(r['home_team_spread'])\n",
    "        spread[r['away_team_season']].append(r['away_team_spread'])\n",
    "\n",
    "    # get differences\n",
    "    error_diff = np.array(lists['home_team_errors_mean'])-np.array(lists['away_team_errors_mean'])\n",
    "    spread_diff = np.array(lists['home_team_spread_mean'])-np.array(lists['away_team_spread_mean'])\n",
    "    \n",
    "    # add created rows into df\n",
    "    for n in names:\n",
    "        df[n]=lists[n]\n",
    "    df['error_diff']=error_diff\n",
    "    df['spread_diff']=spread_diff\n",
    "    \n",
    "    df = df.sort_values(by='date').reset_index(drop=True)\n",
    "    return df"
   ]
  },
  {
   "cell_type": "code",
   "execution_count": 20,
   "metadata": {
    "hidden": true
   },
   "outputs": [
    {
     "data": {
      "text/plain": [
       "(24009, 72)"
      ]
     },
     "execution_count": 20,
     "metadata": {},
     "output_type": "execute_result"
    }
   ],
   "source": [
    "df = game_stats(games,df)\n",
    "df.shape"
   ]
  },
  {
   "cell_type": "markdown",
   "metadata": {},
   "source": [
    "### Season Stats"
   ]
  },
  {
   "cell_type": "code",
   "execution_count": 21,
   "metadata": {},
   "outputs": [
    {
     "data": {
      "text/plain": [
       "(24009, 212)"
      ]
     },
     "execution_count": 21,
     "metadata": {},
     "output_type": "execute_result"
    }
   ],
   "source": [
    "batting_stats = ['A', 'AB', 'BB', 'H', 'PA', 'PO', 'R', 'RBI', 'SO', 'batting_avg',\n",
    "             'leverage_index_avg', 'onbase_perc', 'onbase_plus_slugging', 'pitches', \n",
    "             're24_bat', 'slugging_perc', 'strikes_total', 'wpa_bat', 'wpa_bat_neg', \n",
    "             'wpa_bat_pos']\n",
    "df = features.add_season_rolling(batting, df, batting_stats, True,'batting')\n",
    "df.shape"
   ]
  },
  {
   "cell_type": "code",
   "execution_count": 22,
   "metadata": {},
   "outputs": [
    {
     "data": {
      "text/plain": [
       "(24009, 401)"
      ]
     },
     "execution_count": 22,
     "metadata": {},
     "output_type": "execute_result"
    }
   ],
   "source": [
    "pitching_stats = ['BB', 'ER', 'H', 'HR', 'IP', 'R', 'SO', 'batters_faced',\n",
    "               'earned_run_avg', 'game_score', 'inherited_runners',\n",
    "               'inherited_score', 'inplay_fb_total', 'inplay_gb_total', 'inplay_ld',\n",
    "               'inplay_unk', 'leverage_index_avg', 'pitches', 're24_def',\n",
    "               'strikes_contact', 'strikes_looking', 'strikes_swinging',\n",
    "               'strikes_total', 'wpa_def','SO_batters_faced','H_batters_faced',\n",
    "                'BB_batters_faced']\n",
    "# pitching_stats = ['BB', 'ER', 'H', 'HR', 'IP', 'R', 'SO', 'earned_run_avg', \n",
    "#                   'game_score', 'leverage_index_avg', 'pitches', 're24_def',\n",
    "#                   'strikes_total', 'wpa_def','SO_batters_faced','H_batters_faced',\n",
    "#                   'BB_batters_faced']\n",
    "df = features.add_season_rolling(pitching, df, pitching_stats, True,'team_pitching')\n",
    "df.shape"
   ]
  },
  {
   "cell_type": "code",
   "execution_count": 23,
   "metadata": {},
   "outputs": [
    {
     "data": {
      "text/plain": [
       "(24009, 590)"
      ]
     },
     "execution_count": 23,
     "metadata": {},
     "output_type": "execute_result"
    }
   ],
   "source": [
    "df = features.add_season_rolling(pitchers, df, pitching_stats, False,'pitcher')\n",
    "df.shape"
   ]
  },
  {
   "cell_type": "code",
   "execution_count": 24,
   "metadata": {},
   "outputs": [],
   "source": [
    "df.to_csv('../data/df_before_cleanup.csv', index=False)"
   ]
  },
  {
   "cell_type": "markdown",
   "metadata": {},
   "source": [
    "# Cleanup"
   ]
  },
  {
   "cell_type": "code",
   "execution_count": 25,
   "metadata": {},
   "outputs": [
    {
     "name": "stdout",
     "output_type": "stream",
     "text": [
      "dropped 425 columns\n"
     ]
    }
   ],
   "source": [
    "#fin na's\n",
    "df = util.fix_na(df)\n",
    "\n",
    "#drop duplicated columns\n",
    "drop_cols = util.find_correlation(df,1)\n",
    "df.drop(columns=drop_cols, inplace=True)\n",
    "print(f\"dropped {len(drop_cols)} columns\")"
   ]
  },
  {
   "cell_type": "code",
   "execution_count": 26,
   "metadata": {},
   "outputs": [
    {
     "data": {
      "text/plain": [
       "(24009, 734)"
      ]
     },
     "execution_count": 26,
     "metadata": {},
     "output_type": "execute_result"
    }
   ],
   "source": [
    "df.shape"
   ]
  },
  {
   "cell_type": "code",
   "execution_count": 27,
   "metadata": {},
   "outputs": [],
   "source": [
    "df.to_csv('../data/df_w_features.csv', index=False)"
   ]
  },
  {
   "cell_type": "code",
   "execution_count": 28,
   "metadata": {},
   "outputs": [
    {
     "data": {
      "text/plain": [
       "<matplotlib.axes._subplots.AxesSubplot at 0x7fcc70c504e0>"
      ]
     },
     "execution_count": 28,
     "metadata": {},
     "output_type": "execute_result"
    },
    {
     "data": {
      "image/png": "[encoded data removed]",
      "text/plain": [
       "<Figure size 432x288 with 1 Axes>"
      ]
     },
     "metadata": {
      "needs_background": "light"
     },
     "output_type": "display_data"
    }
   ],
   "source": [
    "df.date.hist()"
   ]
  },
  {
   "cell_type": "code",
   "execution_count": null,
   "metadata": {},
   "outputs": [],
   "source": []
  }
 ],
 "metadata": {
  "kernelspec": {
   "display_name": "Python 3",
   "language": "python",
   "name": "python3"
  },
  "language_info": {
   "codemirror_mode": {
    "name": "ipython",
    "version": 3
   },
   "file_extension": ".py",
   "mimetype": "text/x-python",
   "name": "python",
   "nbconvert_exporter": "python",
   "pygments_lexer": "ipython3",
   "version": "3.6.8"
  },
  "toc": {
   "base_numbering": 1,
   "nav_menu": {},
   "number_sections": true,
   "sideBar": true,
   "skip_h1_title": false,
   "title_cell": "Table of Contents",
   "title_sidebar": "Contents",
   "toc_cell": false,
   "toc_position": {
    "height": "calc(100% - 180px)",
    "left": "10px",
    "top": "150px",
    "width": "211.8px"
   },
   "toc_section_display": true,
   "toc_window_display": true
  }
 },
 "nbformat": 4,
 "nbformat_minor": 2
}
